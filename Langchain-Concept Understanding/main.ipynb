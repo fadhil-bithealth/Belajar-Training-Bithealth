{
 "cells": [
  {
   "cell_type": "markdown",
   "id": "4fe2921d",
   "metadata": {},
   "source": [
    "### Config"
   ]
  },
  {
   "cell_type": "code",
   "execution_count": 8,
   "id": "55a11cb5",
   "metadata": {},
   "outputs": [],
   "source": [
    "import os\n",
    "from dotenv import load_dotenv\n",
    "from langchain_google_genai import ChatGoogleGenerativeAI\n",
    "from langchain_core.messages import HumanMessage\n",
    "\n",
    "load_dotenv()\n",
    "\n",
    "GOOGLE_API_KEY = os.getenv(\"GOOGLE_API_KEY\")\n",
    "TAVILY_API_KEY = os.getenv(\"TAVILY_API_KEY\")\n",
    "\n",
    "llm = ChatGoogleGenerativeAI(\n",
    "    model=\"gemini-2.0-flash\",\n",
    "    google_api_key=GOOGLE_API_KEY,\n",
    "    temperature=0.7,\n",
    ")"
   ]
  },
  {
   "cell_type": "code",
   "execution_count": 2,
   "id": "445f70c3",
   "metadata": {},
   "outputs": [],
   "source": [
    "\n",
    "# Fungsi tanpa tool\n",
    "def ask(prompt: str):\n",
    "    return llm.invoke([HumanMessage(content=prompt)]).content\n"
   ]
  },
  {
   "cell_type": "markdown",
   "id": "4983388d",
   "metadata": {},
   "source": [
    "### Tools"
   ]
  },
  {
   "cell_type": "code",
   "execution_count": 3,
   "id": "c49a2af5",
   "metadata": {},
   "outputs": [],
   "source": [
    "from langchain.agents import initialize_agent, Tool\n",
    "from langchain.agents.agent_types import AgentType\n",
    "from langchain_community.tools.tavily_search import TavilySearchResults\n",
    "\n",
    "\n",
    "# Fungsi dengan tool\n",
    "def ask_with_search(prompt: str):\n",
    "    # Setup search tool\n",
    "    search_tool = TavilySearchResults()\n",
    "    tools = [\n",
    "        Tool(\n",
    "            name=\"tavily-search\",\n",
    "            func=search_tool.run,\n",
    "            description=\"Use this for answering questions about current events or factual information from the web.\"\n",
    "        )\n",
    "    ]\n",
    "\n",
    "    # Setup agent\n",
    "    agent = initialize_agent(\n",
    "        tools,\n",
    "        llm,\n",
    "        agent=AgentType.ZERO_SHOT_REACT_DESCRIPTION,\n",
    "        verbose=True\n",
    "    )\n",
    "\n",
    "    # Jalankan pertanyaan dengan agen\n",
    "    return agent.run(prompt)"
   ]
  },
  {
   "cell_type": "code",
   "execution_count": 4,
   "id": "a7c93fa9",
   "metadata": {},
   "outputs": [
    {
     "name": "stdout",
     "output_type": "stream",
     "text": [
      "Presiden Indonesia saat ini adalah Joko Widodo.\n"
     ]
    }
   ],
   "source": [
    "# Pertanyaan biasa (tidak butuh search)\n",
    "print(ask(\"Siapa presiden Indonesia sekarang?\"))"
   ]
  },
  {
   "cell_type": "code",
   "execution_count": 5,
   "id": "f110a525",
   "metadata": {},
   "outputs": [
    {
     "name": "stdout",
     "output_type": "stream",
     "text": [
      "\n",
      "\n",
      "\u001b[1m> Entering new AgentExecutor chain...\u001b[0m\n"
     ]
    },
    {
     "name": "stderr",
     "output_type": "stream",
     "text": [
      "C:\\Users\\Fadhil Wicaksono\\AppData\\Local\\Temp\\ipykernel_11052\\651986331.py:19: LangChainDeprecationWarning: LangChain agents will continue to be supported, but it is recommended for new use cases to be built with LangGraph. LangGraph offers a more flexible and full-featured framework for building agents, including support for tool-calling, persistence of state, and human-in-the-loop workflows. For details, refer to the `LangGraph documentation <https://langchain-ai.github.io/langgraph/>`_ as well as guides for `Migrating from AgentExecutor <https://python.langchain.com/docs/how_to/migrate_agent/>`_ and LangGraph's `Pre-built ReAct agent <https://langchain-ai.github.io/langgraph/how-tos/create-react-agent/>`_.\n",
      "  agent = initialize_agent(\n",
      "C:\\Users\\Fadhil Wicaksono\\AppData\\Local\\Temp\\ipykernel_11052\\651986331.py:27: LangChainDeprecationWarning: The method `Chain.run` was deprecated in langchain 0.1.0 and will be removed in 1.0. Use :meth:`~invoke` instead.\n",
      "  return agent.run(prompt)\n"
     ]
    },
    {
     "name": "stdout",
     "output_type": "stream",
     "text": [
      "\u001b[32;1m\u001b[1;3mI need to find out who the current president of Indonesia is. I can use the tavily-search tool to get this information.\n",
      "Action: tavily-search\n",
      "Action Input: \"who is the current president of indonesia\"\u001b[0m\n",
      "Observation: \u001b[36;1m\u001b[1;3m[{'title': 'Indonesia: Prabowo takes office with largest cabinet since 1960s', 'url': 'https://www.bbc.com/news/articles/c756204q2k5o', 'content': \"Indonesia leader sworn in with largest cabinet in decades\\n\\nFormer military general Prabowo Subianto has been sworn in as Indonesia's president, as he announced the country's largest cabinet since the 1960s.\\n\\nThe 73-year-old, who had been dogged by allegations of human rights abuse for decades, was inagurated on Sunday as the country's eighth president. [...] This spells the end of an era under former leader Joko Widodo, known locally as Jokowi, who presided over a decade of economic growth and infrastructure development.\\n\\nHaving failed twice to become president, Prabowo finally clawed his way to the highest office after winning over 58% of the vote in February's elections, against two rivals.\\n\\nPrabowo was sworn in with his running mate Gibran Rakabuming Raka, Jokowi's eldest son.\", 'score': 0.8687491}, {'title': 'Prabowo Subianto - Wikipedia', 'url': 'https://en.wikipedia.org/wiki/Prabowo_Subianto', 'content': \"Prabowo Subianto Djojohadikusumo (EYD: Joyohadikusumo; born 17 October 1951) is an Indonesian politician, businessman, and former army general serving as the eighth president of Indonesia since 2024. He was previously the 26th minister of defense under president Joko Widodo from 2019 to 2024. Prabowo is Indonesia's third president to have a military background after Suharto and Susilo Bambang Yudhoyono and is the oldest first-term president in Indonesian history. [...] Political offices\\nPreceded\\xa0byJoko Widodo | President of Indonesia20 October 2024 – present | Incumbent\\nPreceded\\xa0byRyamizard Ryacudu | Minister of Defense2019–2024 | Succeeded\\xa0bySjafrie Sjamsoeddin\\nParty political offices\\nPreceded\\xa0bySuhardi | General Chairman of theGerindra Party2014–present | Incumbent\\nPreceded\\xa0byHimselfas vice-presidential nominee | Gerindra PartynomineeforPresident of Indonesia2014,2019(lost)2024(won) | Most recent [...] in IndonesiaPolitics of Indonesia | vtePresidents of Indonesia | SukarnoSuhartoB. J. HabibieAbdurrahman WahidMegawati SukarnoputriSusilo Bambang YudhoyonoJoko WidodoPrabowo Subianto |  | CategoryList | vteCurrent heads of state of republics | Africa | Abdelmadjid TebbouneJoão LourençoPatrice TalonDuma BokoIbrahim Traoré*Évariste NdayishimiyePaul BiyaJosé Maria NevesFaustin-Archange TouadéraMahamat DébyAzali AssoumaniFélix TshisekediDenis Sassou NguessoIsmaïl Omar GuellehAbdel Fattah\", 'score': 0.8646883}, {'title': \"Indonesia: New President's Past Raises Questions\", 'url': 'https://gfmag.com/economics-policy-regulation/indonesia-president-prabowo-subianto/', 'content': 'Prabowo Subianto, a former army general with a controversial past and minister of defence in the current administration, has been elected president of', 'score': 0.8266142}, {'title': \"Indonesia's new President Prabowo Subianto announces largest ...\", 'url': 'https://www.thehindu.com/news/international/indonesias-new-president-prabowo-subianto-announces-largest-ever-cabinet-with-109-members/article68778112.ece', 'content': \"The former rivals became tacit allies, even though Indonesian Presidents don't typically endorse candidates. Mr. Subianto was a longtime rival of Mr. Widodo, who ran against him for the Presidency twice and refused to accept his defeat on both occasions, in 2014 and 2019.\\n\\nEditorial | A strongman at the helm: On Indonesia’s presidential election [...] Indonesian President Prabowo Subianto (front centre), and Vice-President Gibran Rakabuming Raka (front row fourth from right) pose for a group photo with newly-appointed Cabinet Ministers after their swearing-in ceremony, at Merdeka Palace, in Jakarta, Indonesia, on October 21, 2024.  \\n                                          | Photo Credit: AP [...] Indonesia\\n                    \\n                            /                      \\n                        \\n                        World\\n                    \\n                            /                      \\n                        \\n                        politics (general)\\n\\nTop News Today\\n\\nThe Hindu\\n\\nContact us\\n\\nGroup News Sites\\n\\nOther Products\\n\\nPopular Sections\\n\\nOpinion\\n\\nBusiness\\n\\nSport\\n\\nSci-Tech\\n\\nStates\\n\\nCities\\n\\nTrending on The Hindu\\n\\nTrending on Group sites\\n\\nLatest News\", 'score': 0.81630427}, {'title': \"What policies to expect from Indonesia's new president - VOA\", 'url': 'https://www.voanews.com/a/what-policies-to-expect-from-indonesia-s-new-president/7827157.html', 'content': \"Accessibility links\\n\\n\\n\\nPrint Options:\\n\\nFollow Us\\n\\nWhat policies to expect from Indonesia's new president\\n\\nPrint\\n\\nRetired General Prabowo Subianto will be sworn in Sunday as the president of Indonesia, the world's third-biggest democracy with the largest economy in Southeast Asia.\\n\\nThe following is a summary of Prabowo's policy pledges:\\n\\nBoosting growth\", 'score': 0.79522943}]\u001b[0m\n",
      "Thought:\u001b[32;1m\u001b[1;3mThe current president of Indonesia is Prabowo Subianto. He was sworn in on October 20, 2024.\n",
      "Final Answer: Prabowo Subianto\u001b[0m\n",
      "\n",
      "\u001b[1m> Finished chain.\u001b[0m\n",
      "Prabowo Subianto\n"
     ]
    }
   ],
   "source": [
    "# Pertanyaan butuh pencarian web\n",
    "print(ask_with_search(\"Siapa presiden Indonesia sekarang?\"))"
   ]
  },
  {
   "cell_type": "code",
   "execution_count": 6,
   "id": "c9100086",
   "metadata": {},
   "outputs": [],
   "source": [
    "## Tool From Scratch\n",
    "\n",
    "import os\n",
    "from datetime import datetime\n",
    "from dotenv import load_dotenv\n",
    "from langchain_core.tools import tool\n",
    "from langchain.agents import create_tool_calling_agent, AgentExecutor\n",
    "from langchain_core.prompts import ChatPromptTemplate, MessagesPlaceholder\n",
    "\n",
    "\n",
    "\n",
    "# === TOOL 1: Calculator ===\n",
    "@tool\n",
    "def calculator_tool(expression: str) -> str:\n",
    "    \"\"\"Evaluasi ekspresi matematika seperti '12 / (2 + 1)'.\"\"\"\n",
    "    try:\n",
    "        result = eval(expression, {\"__builtins__\": {}})\n",
    "        return f\"Hasil dari '{expression}' adalah {result}\"\n",
    "    except Exception as e:\n",
    "        return f\"Kesalahan menghitung ekspresi: {str(e)}\"\n",
    "\n",
    "# === TOOL 2: Time Now ===\n",
    "@tool\n",
    "def time_tool() -> str:\n",
    "    \"\"\"Ambil waktu dan tanggal terkini dalam format formal. \"\"\"\n",
    "    now = datetime.now()\n",
    "    return now.strftime(\"Saat ini: %A, %d %B %Y pukul %H:%M:%S\")\n"
   ]
  },
  {
   "cell_type": "code",
   "execution_count": 7,
   "id": "c82e7006",
   "metadata": {},
   "outputs": [],
   "source": [
    "prompt = ChatPromptTemplate.from_messages([\n",
    "    (\"system\", \"Kamu adalah asisten pintar yang bisa menggunakan tools untuk membantu pengguna.\"),\n",
    "    MessagesPlaceholder(variable_name=\"chat_history\"),\n",
    "    (\"user\", \"{input}\"),\n",
    "    MessagesPlaceholder(variable_name=\"agent_scratchpad\"),\n",
    "])\n",
    "\n",
    "# === Daftar Tools ===\n",
    "tools = [calculator_tool, time_tool]\n",
    "\n",
    "# === Setup Agent ===\n",
    "agent = create_tool_calling_agent(llm, tools, prompt)\n",
    "agent_executor = AgentExecutor(agent=agent, tools=tools, verbose=True)\n",
    "\n",
    "# === Fungsi akhir untuk tanya dengan tools ===\n",
    "def ask_with_tools(prompt: str):\n",
    "    return agent_executor.invoke({\"\"\n",
    "    \"input\": prompt,\n",
    "    \"chat_history\" : []\n",
    "    })[\"output\"]\n"
   ]
  },
  {
   "cell_type": "code",
   "execution_count": 8,
   "id": "39352c0f",
   "metadata": {},
   "outputs": [
    {
     "name": "stdout",
     "output_type": "stream",
     "text": [
      "\n",
      "\n",
      "\u001b[1m> Entering new AgentExecutor chain...\u001b[0m\n",
      "\u001b[32;1m\u001b[1;3m\n",
      "Invoking: `calculator_tool` with `{'expression': '123 * (2 + 3)'}`\n",
      "\n",
      "\n",
      "\u001b[0m\u001b[36;1m\u001b[1;3mHasil dari '123 * (2 + 3)' adalah 615\u001b[0m\u001b[32;1m\u001b[1;3m123 * (2 + 3) sama dengan 615.\u001b[0m\n",
      "\n",
      "\u001b[1m> Finished chain.\u001b[0m\n",
      "123 * (2 + 3) sama dengan 615.\n"
     ]
    }
   ],
   "source": [
    "print(ask_with_tools(\"Hitung 123 * (2 + 3)\"))"
   ]
  },
  {
   "cell_type": "code",
   "execution_count": 9,
   "id": "193c20d3",
   "metadata": {},
   "outputs": [
    {
     "name": "stdout",
     "output_type": "stream",
     "text": [
      "\n",
      "\n",
      "\u001b[1m> Entering new AgentExecutor chain...\u001b[0m\n",
      "\u001b[32;1m\u001b[1;3m\n",
      "Invoking: `time_tool` with `{}`\n",
      "\n",
      "\n",
      "\u001b[0m\u001b[33;1m\u001b[1;3mSaat ini: Tuesday, 22 April 2025 pukul 18:18:26\u001b[0m\u001b[32;1m\u001b[1;3mSaat ini hari Selasa, 22 April 2025 pukul 18:18:26.\u001b[0m\n",
      "\n",
      "\u001b[1m> Finished chain.\u001b[0m\n",
      "Saat ini hari Selasa, 22 April 2025 pukul 18:18:26.\n"
     ]
    }
   ],
   "source": [
    "print(ask_with_tools(\"Tanggal dan jam sekarang berapa?\"))"
   ]
  },
  {
   "cell_type": "code",
   "execution_count": 10,
   "id": "bc038959",
   "metadata": {},
   "outputs": [],
   "source": [
    "## Tools dokter\n",
    "doctor_db = [\n",
    "    {\n",
    "        \"nama\": \"dr. Andi Wijaya\",\n",
    "        \"spesialis\": \"anak\",\n",
    "        \"jadwal\": [\"Senin\", \"Rabu\", \"Jumat\"],\n",
    "        \"tersedia\": True\n",
    "    },\n",
    "    {\n",
    "        \"nama\": \"dr. Sinta Dewi\",\n",
    "        \"spesialis\": \"gigi\",\n",
    "        \"jadwal\": [\"Selasa\", \"Kamis\"],\n",
    "        \"tersedia\": False\n",
    "    },\n",
    "    {\n",
    "        \"nama\": \"dr. Rudi Santoso\",\n",
    "        \"spesialis\": \"mata\",\n",
    "        \"jadwal\": [\"Senin\", \"Rabu\"],\n",
    "        \"tersedia\": True\n",
    "    },\n",
    "    {\n",
    "        \"nama\": \"dr. Budi Hartono\",\n",
    "        \"spesialis\": \"umum\",\n",
    "        \"jadwal\": [\"Senin\", \"Selasa\", \"Rabu\", \"Kamis\"],\n",
    "        \"tersedia\": True\n",
    "    },\n",
    "    {\n",
    "        \"nama\": \"dr. Lisa Marlina\",\n",
    "        \"spesialis\": \"kulit\",\n",
    "        \"jadwal\": [\"Jumat\", \"Sabtu\"],\n",
    "        \"tersedia\": False\n",
    "    }\n",
    "]\n"
   ]
  },
  {
   "cell_type": "code",
   "execution_count": 11,
   "id": "b524aa51",
   "metadata": {},
   "outputs": [],
   "source": [
    "from langchain_core.tools import tool\n",
    "\n",
    "@tool\n",
    "def doctor_lookup(spesialis: str, hari: str) -> str:\n",
    "    \"\"\"Cek apakah ada dokter dari spesialis tertentu yang tersedia di hari tertentu.\"\"\"\n",
    "    spesialis = spesialis.lower()\n",
    "    hari = hari.capitalize()\n",
    "\n",
    "    hasil = []\n",
    "    for dokter in doctor_db:\n",
    "        if spesialis in dokter[\"spesialis\"].lower() and hari in dokter[\"jadwal\"]:\n",
    "            status = \"tersedia\" if dokter[\"tersedia\"] else \"tidak tersedia\"\n",
    "            hasil.append(f\"{dokter['nama']} ({dokter['spesialis']}) tersedia hari {hari}: {status}\")\n",
    "    \n",
    "    if not hasil:\n",
    "        return f\"Tidak ditemukan dokter spesialis {spesialis} yang praktek hari {hari}.\"\n",
    "    return \"\\n\".join(hasil)\n"
   ]
  },
  {
   "cell_type": "code",
   "execution_count": 12,
   "id": "cc6500d6",
   "metadata": {},
   "outputs": [],
   "source": [
    "from langchain.agents import create_tool_calling_agent, AgentExecutor\n",
    "from langchain_core.prompts import ChatPromptTemplate, MessagesPlaceholder\n",
    "\n",
    "tools = [doctor_lookup, time_tool]\n",
    "\n",
    "prompt = ChatPromptTemplate.from_messages([\n",
    "    (\"system\", \"1. Jika pengguna tidak menyebutkan hari tertentu, tampilkan seluruh jadwal dokter yang tersedia, lengkap dengan nama dokter dan hari prakteknya. 2. Jika pengguna menyebutkan hari tertentu, tampilkan dokter yang praktek pada hari tersebut. 3. Selalu beri tahu hari ini hari apa sebelum memberikan jadwal dokter 4. Jika dibutuhkan untuk mendapatkan informasi tentang jadwal atau dokter, gunakan tools yang tersedia. 5.Jangan pernah bertanya ulang ke pengguna tentang hari — langsung beri informasi yang relevan.\"),\n",
    "    MessagesPlaceholder(variable_name=\"chat_history\"),\n",
    "    (\"user\", \"{input}\"),\n",
    "    MessagesPlaceholder(variable_name=\"agent_scratchpad\"),\n",
    "])\n",
    "\n",
    "agent = create_tool_calling_agent(llm, tools, prompt) #tool calling\n",
    "agent_executor = AgentExecutor(agent=agent, tools=tools, verbose=True) #tool calling di log\n"
   ]
  },
  {
   "cell_type": "code",
   "execution_count": 13,
   "id": "c25511ff",
   "metadata": {},
   "outputs": [],
   "source": [
    "def ask_dokter(prompt: str):\n",
    "    return agent_executor.invoke({\n",
    "        \"input\": prompt,\n",
    "        \"chat_history\": [],\n",
    "    })[\"output\"]\n"
   ]
  },
  {
   "cell_type": "code",
   "execution_count": 14,
   "id": "943cf6fb",
   "metadata": {},
   "outputs": [
    {
     "name": "stdout",
     "output_type": "stream",
     "text": [
      "\n",
      "\n",
      "\u001b[1m> Entering new AgentExecutor chain...\u001b[0m\n",
      "\u001b[32;1m\u001b[1;3m\n",
      "Invoking: `time_tool` with `{}`\n",
      "\n",
      "\n",
      "\u001b[0m\u001b[33;1m\u001b[1;3mSaat ini: Tuesday, 22 April 2025 pukul 18:18:28\u001b[0m\u001b[32;1m\u001b[1;3m\n",
      "Invoking: `doctor_lookup` with `{'hari': 'Selasa', 'spesialis': 'gigi'}`\n",
      "responded: Hari ini Selasa, 22 April 2025. Berikut jadwal dokter gigi yang tersedia:\n",
      "\n",
      "\u001b[0m\u001b[36;1m\u001b[1;3mdr. Sinta Dewi (gigi) tersedia hari Selasa: tidak tersedia\u001b[0m\u001b[32;1m\u001b[1;3m\n",
      "Invoking: `doctor_lookup` with `{'hari': 'Rabu', 'spesialis': 'gigi'}`\n",
      "responded: Hari ini Selasa, 22 April 2025. Berikut jadwal dokter gigi yang tersedia:\n",
      "\n",
      "\u001b[0m\u001b[36;1m\u001b[1;3mTidak ditemukan dokter spesialis gigi yang praktek hari Rabu.\u001b[0m\u001b[32;1m\u001b[1;3m\n",
      "Invoking: `doctor_lookup` with `{'hari': 'Kamis', 'spesialis': 'gigi'}`\n",
      "responded: Hari ini Selasa, 22 April 2025. Berikut jadwal dokter gigi yang tersedia:\n",
      "\n",
      "\u001b[0m\u001b[36;1m\u001b[1;3mdr. Sinta Dewi (gigi) tersedia hari Kamis: tidak tersedia\u001b[0m\u001b[32;1m\u001b[1;3m\n",
      "Invoking: `doctor_lookup` with `{'hari': 'Jumat', 'spesialis': 'gigi'}`\n",
      "responded: Hari ini Selasa, 22 April 2025. Berikut jadwal dokter gigi yang tersedia:\n",
      "\n",
      "\u001b[0m\u001b[36;1m\u001b[1;3mTidak ditemukan dokter spesialis gigi yang praktek hari Jumat.\u001b[0m\u001b[32;1m\u001b[1;3m\n",
      "Invoking: `doctor_lookup` with `{'hari': 'Sabtu', 'spesialis': 'gigi'}`\n",
      "responded: Hari ini Selasa, 22 April 2025. Berikut jadwal dokter gigi yang tersedia:\n",
      "\n",
      "\u001b[0m\u001b[36;1m\u001b[1;3mTidak ditemukan dokter spesialis gigi yang praktek hari Sabtu.\u001b[0m\u001b[32;1m\u001b[1;3m\n",
      "Invoking: `doctor_lookup` with `{'hari': 'Minggu', 'spesialis': 'gigi'}`\n",
      "responded: Hari ini Selasa, 22 April 2025. Berikut jadwal dokter gigi yang tersedia:\n",
      "\n",
      "\u001b[0m\u001b[36;1m\u001b[1;3mTidak ditemukan dokter spesialis gigi yang praktek hari Minggu.\u001b[0m\u001b[32;1m\u001b[1;3m\n",
      "Invoking: `doctor_lookup` with `{'hari': 'Senin', 'spesialis': 'gigi'}`\n",
      "responded: Hari ini Selasa, 22 April 2025. Berikut jadwal dokter gigi yang tersedia:\n",
      "\n",
      "\u001b[0m\u001b[36;1m\u001b[1;3mTidak ditemukan dokter spesialis gigi yang praktek hari Senin.\u001b[0m\u001b[32;1m\u001b[1;3mSaat ini hari Selasa, 22 April 2025. Untuk dokter gigi, saat ini dr. Sinta Dewi tidak tersedia pada hari Selasa dan Kamis. Tidak ada dokter gigi yang praktik pada hari Rabu, Jumat, Sabtu, Minggu, dan Senin.\u001b[0m\n",
      "\n",
      "\u001b[1m> Finished chain.\u001b[0m\n",
      "Saat ini hari Selasa, 22 April 2025. Untuk dokter gigi, saat ini dr. Sinta Dewi tidak tersedia pada hari Selasa dan Kamis. Tidak ada dokter gigi yang praktik pada hari Rabu, Jumat, Sabtu, Minggu, dan Senin.\n"
     ]
    }
   ],
   "source": [
    "print(ask_dokter(\"kapan dokter gigi praktek ?\"))"
   ]
  },
  {
   "cell_type": "code",
   "execution_count": 15,
   "id": "b6d2fcad",
   "metadata": {},
   "outputs": [
    {
     "name": "stdout",
     "output_type": "stream",
     "text": [
      "\n",
      "\n",
      "\u001b[1m> Entering new AgentExecutor chain...\u001b[0m\n",
      "\u001b[32;1m\u001b[1;3m\n",
      "Invoking: `time_tool` with `{}`\n",
      "\n",
      "\n",
      "\u001b[0m\u001b[33;1m\u001b[1;3mSaat ini: Tuesday, 22 April 2025 pukul 18:18:31\u001b[0m\u001b[32;1m\u001b[1;3m\n",
      "Invoking: `doctor_lookup` with `{'hari': 'Selasa', 'spesialis': 'Dokter Umum'}`\n",
      "responded: Hari ini hari Selasa. Mari saya lihat apakah ada dokter umum yang tersedia hari ini.\n",
      "\n",
      "\u001b[0m\u001b[36;1m\u001b[1;3mTidak ditemukan dokter spesialis dokter umum yang praktek hari Selasa.\u001b[0m\u001b[32;1m\u001b[1;3mHari ini hari Selasa. Tidak ditemukan dokter spesialis dokter umum yang praktek hari ini.\u001b[0m\n",
      "\n",
      "\u001b[1m> Finished chain.\u001b[0m\n",
      "Hari ini hari Selasa. Tidak ditemukan dokter spesialis dokter umum yang praktek hari ini.\n"
     ]
    }
   ],
   "source": [
    "print(ask_dokter(\"Hari ini dokter umum tersedia enggak ?\"))"
   ]
  },
  {
   "cell_type": "markdown",
   "id": "8d1f2b05",
   "metadata": {},
   "source": [
    "## Structured Output"
   ]
  },
  {
   "cell_type": "code",
   "execution_count": 16,
   "id": "8fec8ccd",
   "metadata": {},
   "outputs": [],
   "source": [
    "from langchain.output_parsers import StructuredOutputParser, ResponseSchema\n",
    "\n",
    "# 1. Define struktur output (schema)\n",
    "schemas = [\n",
    "    ResponseSchema(name=\"judul\", description=\"Judul buku\"),\n",
    "    ResponseSchema(name=\"author\", description=\"Penulis buku\"),\n",
    "    ResponseSchema(name=\"harga\", description=\"Harga buku dalam format mata uang rupiah\")\n",
    "]"
   ]
  },
  {
   "cell_type": "code",
   "execution_count": 17,
   "id": "6e8873c6",
   "metadata": {},
   "outputs": [],
   "source": [
    "# 2. Buat parser\n",
    "parser = StructuredOutputParser.from_response_schemas(schemas)\n",
    "format_instructions = parser.get_format_instructions()"
   ]
  },
  {
   "cell_type": "code",
   "execution_count": 18,
   "id": "de79724b",
   "metadata": {},
   "outputs": [],
   "source": [
    "# 3. Buat Fungsi\n",
    "def ask(paragraf: str) -> dict:\n",
    "    prompt = ChatPromptTemplate.from_messages([\n",
    "        (\"system\", \"Ekstrak informasi buku dari paragraf berikut.\"),\n",
    "        (\"user\", \"{paragraf}\\n\\n{format_instructions}\")\n",
    "    ])\n",
    "    \n",
    "    messages = prompt.format_messages(\n",
    "        paragraf=paragraf,\n",
    "        format_instructions=format_instructions\n",
    "    )\n",
    "    \n",
    "    response = llm.invoke(messages)\n",
    "    return parser.parse(response.content)\n"
   ]
  },
  {
   "cell_type": "code",
   "execution_count": 19,
   "id": "6f91f192",
   "metadata": {},
   "outputs": [],
   "source": [
    "paragraf = \"\"\"\n",
    "Buku berjudul 'Rahasia Pikiran Positif' karya Dr. Andika Pratama ini sangat menginspirasi. \n",
    "Ditawarkan dengan harga terjangkau sekitar Rp89.000, buku ini cocok untuk siapa saja yang ingin membentuk kebiasaan berpikir positif dan hidup lebih bahagia.\n",
    "\"\"\""
   ]
  },
  {
   "cell_type": "code",
   "execution_count": 20,
   "id": "e586d90f",
   "metadata": {},
   "outputs": [
    {
     "name": "stdout",
     "output_type": "stream",
     "text": [
      "Hasil structured output: /n\n",
      "{'judul': 'Rahasia Pikiran Positif', 'author': 'Dr. Andika Pratama', 'harga': 'Rp89.000'}\n"
     ]
    }
   ],
   "source": [
    "hasil = ask(paragraf)\n",
    "print(\"Hasil structured output: /n\")\n",
    "print(hasil)\n"
   ]
  },
  {
   "cell_type": "markdown",
   "id": "99b53e66",
   "metadata": {},
   "source": [
    "## Embedding Model"
   ]
  },
  {
   "cell_type": "code",
   "execution_count": 21,
   "id": "8e3ab060",
   "metadata": {},
   "outputs": [],
   "source": [
    "from langchain_google_genai import GoogleGenerativeAIEmbeddings\n",
    "from langchain.vectorstores import FAISS\n",
    "from langchain.schema import Document\n",
    "\n",
    "\n",
    "# Inisialisasi model embedding dari Google\n",
    "embedding_model = GoogleGenerativeAIEmbeddings(\n",
    "    google_api_key=GOOGLE_API_KEY,\n",
    "    model=\"models/embedding-001\")\n",
    "\n"
   ]
  },
  {
   "cell_type": "code",
   "execution_count": 22,
   "id": "314a0cc1",
   "metadata": {},
   "outputs": [],
   "source": [
    "data = [\n",
    "    Document(page_content=\"Soekarno adalah presiden pertama Indonesia.\"),\n",
    "    Document(page_content=\"Indonesia merdeka pada 17 Agustus 1945.\"),\n",
    "    Document(page_content=\"Resep kue bolu kukus sederhana dengan santan.\"),\n",
    "    Document(page_content=\"Albert Einstein dikenal dengan teori relativitasnya.\"),\n",
    "    Document(page_content=\"ChatGPT adalah model bahasa buatan OpenAI.\"),\n",
    "    Document(page_content=\"Borobudur adalah candi Buddha terbesar di dunia.\"),\n",
    "    Document(page_content=\"Python adalah bahasa pemrograman yang populer.\"),\n",
    "    Document(page_content=\"Rendang termasuk makanan terenak di dunia.\"),\n",
    "    Document(page_content=\"Gempa bumi sering terjadi di wilayah Cincin Api Pasifik.\"),\n",
    "    Document(page_content=\"B.J. Habibie dikenal sebagai bapak teknologi Indonesia.\"),\n",
    "]"
   ]
  },
  {
   "cell_type": "code",
   "execution_count": 23,
   "id": "282c1098",
   "metadata": {},
   "outputs": [],
   "source": [
    "from langchain.vectorstores import FAISS\n",
    "from langchain.schema import Document\n",
    "\n",
    "# Buat vector store dari data dengan embedding model\n",
    "vectorstore = FAISS.from_documents(data, embedding_model)\n",
    "\n",
    "# Simpan vectorstore ke lokal\n",
    "vectorstore.save_local(\"faiss_index/\")\n",
    "\n"
   ]
  },
  {
   "cell_type": "code",
   "execution_count": null,
   "id": "1cff562b",
   "metadata": {},
   "outputs": [],
   "source": [
    "# Fungsi semantic search\n",
    "def search_semantic(query: str, k: int = 3):\n",
    "    results = vectorstore.similarity_search(query, k=k)\n",
    "    print(f\"\\n Query: {query}\\n\")\n",
    "    for i, result in enumerate(results, 1):\n",
    "        print(f\"{i}. {result.page_content}\")\n",
    "\n",
    "# Fungsi lihat hasil embedding vector\n",
    "def lihat_embedding(text: str):\n",
    "    vector = embedding_model.embed_query(text)\n",
    "    print(f\"\\n Embedding vector untuk: \\\"{text}\\\"\\n\")\n",
    "    print(vector[:10], \"...\")  \n"
   ]
  },
  {
   "cell_type": "code",
   "execution_count": 25,
   "id": "096dfd7c",
   "metadata": {},
   "outputs": [
    {
     "name": "stdout",
     "output_type": "stream",
     "text": [
      "\n",
      " Embedding vector untuk: \"Kapan Indonesia Merdeka\"\n",
      "\n",
      "[-0.004123105201870203, -0.009060989134013653, -0.030873864889144897, 0.019020926207304, 0.029887637123465538, -0.010326878167688847, -0.02826697565615177, -0.06371747702360153, -0.009733989834785461, 0.03337607532739639] ...\n"
     ]
    }
   ],
   "source": [
    "# Coba lihat embedding\n",
    "lihat_embedding(\"Kapan Indonesia Merdeka\")"
   ]
  },
  {
   "cell_type": "code",
   "execution_count": 26,
   "id": "2bbe49da",
   "metadata": {},
   "outputs": [
    {
     "name": "stdout",
     "output_type": "stream",
     "text": [
      "\n",
      " Query: Kapan Indonesia Merdeka\n",
      "\n",
      "1. Indonesia merdeka pada 17 Agustus 1945.\n",
      "2. Soekarno adalah presiden pertama Indonesia.\n",
      "3. Resep kue bolu kukus sederhana dengan santan.\n"
     ]
    }
   ],
   "source": [
    "# Coba search\n",
    "search_semantic(\"Kapan Indonesia Merdeka\")"
   ]
  },
  {
   "cell_type": "code",
   "execution_count": 27,
   "id": "0d8988cd",
   "metadata": {},
   "outputs": [],
   "source": [
    "# vectorstore = FAISS.load_local(\"faiss_index/\", embedding_model) UP ULANG VECTORSTORE"
   ]
  },
  {
   "cell_type": "markdown",
   "id": "56288a6c",
   "metadata": {},
   "source": [
    "FAISS (Facebook AI Similarity Search) adalah Library dari Meta AI (Facebook) untuk:\n",
    "-> Pencarian vektor yang cepat dan efisien (vector similarity search)\n",
    "\n",
    "\n",
    "Flow : \n",
    "Tahap 1 => Embedding Model:\n",
    "\n",
    "1. Mengubah teks → ke vektor numerik (misal: [0.01, -0.23, 0.45, ...])\n",
    "2. Vektor ini menangkap makna semantik dari teks (Berdasarkan Similarity)\n",
    "\n",
    "Tahap 2 => FAISS:\n",
    "\n",
    "1. Menyimpan semua vektor tadi (dari banyak teks)\n",
    "2. Saat user memberi query, FAISS akan:\n",
    "   a. Ubah query → vektor\n",
    "   b. Cari vektor di database yang paling mirip\n",
    "   c. Kembalikan hasil dokumen yang relevan\n"
   ]
  },
  {
   "cell_type": "markdown",
   "id": "18560f7a",
   "metadata": {},
   "source": [
    "## Agent"
   ]
  },
  {
   "cell_type": "code",
   "execution_count": null,
   "id": "f2be6ae2",
   "metadata": {},
   "outputs": [
    {
     "name": "stdout",
     "output_type": "stream",
     "text": [
      "\n",
      "\n",
      "\u001b[1m> Entering new AgentExecutor chain...\u001b[0m\n",
      "\u001b[32;1m\u001b[1;3m\n",
      "Invoking: `get_usd_to_idr` with `{}`\n",
      "\n",
      "\n",
      "\u001b[0m\u001b[36;1m\u001b[1;3m1 USD = 15,200 IDR\u001b[0m\u001b[32;1m\u001b[1;3mKurs USD ke IDR hari ini adalah 1 USD = 15.200 IDR.\u001b[0m\n",
      "\n",
      "\u001b[1m> Finished chain.\u001b[0m\n",
      "Kurs USD ke IDR hari ini adalah 1 USD = 15.200 IDR.\n"
     ]
    }
   ],
   "source": [
    "from langchain.agents import create_tool_calling_agent, AgentExecutor\n",
    "from langchain_core.prompts import ChatPromptTemplate, MessagesPlaceholder\n",
    "from langchain.tools import tool\n",
    "\n",
    "@tool\n",
    "def get_usd_to_idr() -> str:\n",
    "    \"\"\"Mengembalikan nilai kurs 1 USD ke IDR saat ini.\"\"\"\n",
    "    return \"1 USD = 15,200 IDR\"\n",
    "\n",
    "tools = [get_usd_to_idr]\n",
    "\n",
    "prompt = ChatPromptTemplate.from_messages([\n",
    "    (\"system\", \"Gunakan tool jika pengguna menanyakan kurs mata uang.\"),\n",
    "    (\"user\", \"{input}\"),\n",
    "    MessagesPlaceholder(variable_name=\"agent_scratchpad\")\n",
    "])\n",
    "\n",
    "# Buat agent & executor\n",
    "agent = create_tool_calling_agent(llm=llm, tools=tools, prompt=prompt)\n",
    "executor = AgentExecutor(agent=agent, tools=tools, verbose=True)\n",
    "\n",
    "# Fungsi untuk bertanya\n",
    "def ask_currency_agent(input: str):\n",
    "    return executor.invoke({\"input\": input})[\"output\"]\n",
    "\n",
    "# Test\n",
    "print(ask_currency_agent(\"Berapa kurs USD ke IDR hari ini?\"))\n"
   ]
  },
  {
   "cell_type": "code",
   "execution_count": 12,
   "id": "0d91b8ed",
   "metadata": {},
   "outputs": [
    {
     "data": {
      "text/plain": [
       "' \\nstart\\n  ↓\\nllm → router → use_tool (jika butuh tool)\\n             → no_tool (jika tidak)\\n'"
      ]
     },
     "execution_count": 12,
     "metadata": {},
     "output_type": "execute_result"
    }
   ],
   "source": [
    "#Langgraph\n",
    "\"\"\" \n",
    "start\n",
    "  ↓\n",
    "llm → router → use_tool (jika butuh tool)\n",
    "             → no_tool (jika tidak)\n",
    "\"\"\""
   ]
  },
  {
   "cell_type": "code",
   "execution_count": 16,
   "id": "07e222fb",
   "metadata": {},
   "outputs": [],
   "source": [
    "import os\n",
    "import asyncio\n",
    "from langchain_core.runnables import RunnableLambda, RunnableBranch, RunnableMap\n",
    "from langchain_core.messages import HumanMessage, SystemMessage\n",
    "from langgraph.graph import StateGraph, END\n",
    "\n",
    "# Tool: fungsi sederhana\n",
    "def get_usd_to_idr(_: str) -> str:\n",
    "    return \"Saat ini, 1 USD = 15.200 IDR.\"\n",
    "\n",
    "# State\n",
    "class AgentState(dict):\n",
    "    input: str\n",
    "    response: str\n",
    "    use_tool: bool"
   ]
  },
  {
   "cell_type": "code",
   "execution_count": 17,
   "id": "a2b39539",
   "metadata": {},
   "outputs": [],
   "source": [
    "# LangGraph Node: LLM Reasoning\n",
    "def llm_node(state: AgentState):\n",
    "    user_input = state[\"input\"]\n",
    "    system_prompt = \"Jawablah pertanyaan atau jika menyebut 'kurs' atau 'USD', beri sinyal bahwa tool harus digunakan.\"\n",
    "    message = [\n",
    "        SystemMessage(content=system_prompt),\n",
    "        HumanMessage(content=user_input)\n",
    "    ]\n",
    "    result = llm.invoke(message)\n",
    "    response_text = result.content.lower()\n",
    "\n",
    "    # Deteksi apakah perlu pakai tool\n",
    "    state[\"use_tool\"] = any(word in response_text for word in [\"tool\", \"kurs\", \"usd\"])\n",
    "    state[\"response\"] = result.content\n",
    "    return state"
   ]
  },
  {
   "cell_type": "code",
   "execution_count": 18,
   "id": "3afc270e",
   "metadata": {},
   "outputs": [],
   "source": [
    "# LangGraph Node: Tool dipanggil\n",
    "def use_tool_node(state: AgentState):\n",
    "    tool_result = get_usd_to_idr(state[\"input\"])\n",
    "    state[\"response\"] = tool_result\n",
    "    return state\n",
    "\n",
    "# LangGraph Node: Jika tool tidak dibutuhkan\n",
    "def no_tool_node(state: AgentState):\n",
    "    return state\n",
    "\n",
    "# Routing: Pilih jalur\n",
    "def route(state: AgentState):\n",
    "    return \"use_tool\" if state[\"use_tool\"] else \"no_tool\""
   ]
  },
  {
   "cell_type": "code",
   "execution_count": 22,
   "id": "8b3f4126",
   "metadata": {},
   "outputs": [],
   "source": [
    "# Build Graph\n",
    "graph = StateGraph(AgentState)\n",
    "\n",
    "# ambah node\n",
    "graph.add_node(\"llm\", llm_node)\n",
    "graph.add_node(\"tool_handler\", use_tool_node)\n",
    "graph.add_node(\"no_tool\", no_tool_node)\n",
    "\n",
    "# Set titik masuk awal\n",
    "graph.set_entry_point(\"llm\")\n",
    "\n",
    "# Tambahkan percabangan kondisi\n",
    "graph.add_conditional_edges(\n",
    "    \"llm\",\n",
    "    route,\n",
    "    {\n",
    "        \"use_tool\": \"tool_handler\",\n",
    "        \"no_tool\": \"no_tool\",\n",
    "    }\n",
    ")\n",
    "\n",
    "# Tentukan akhir dari percabangan\n",
    "graph.add_edge(\"tool_handler\", END)\n",
    "graph.add_edge(\"no_tool\", END)\n",
    "\n",
    "# Compile menjadi agent LangGraph\n",
    "agent = graph.compile()\n"
   ]
  },
  {
   "cell_type": "code",
   "execution_count": 25,
   "id": "8bad7ec6",
   "metadata": {},
   "outputs": [],
   "source": [
    "# Fungsi akhir untuk dijalankan\n",
    "async def ask_agent(prompt: str):\n",
    "    result = await agent.ainvoke({\"input\": prompt})\n",
    "    print(\"Jawaban Agent:\", result[\"response\"])"
   ]
  },
  {
   "cell_type": "code",
   "execution_count": 28,
   "id": "3672089e",
   "metadata": {},
   "outputs": [
    {
     "name": "stdout",
     "output_type": "stream",
     "text": [
      "         +-----------+              \n",
      "         | __start__ |              \n",
      "         +-----------+              \n",
      "                *                   \n",
      "                *                   \n",
      "                *                   \n",
      "            +-----+                 \n",
      "            | llm |                 \n",
      "            +-----+.                \n",
      "          ..        ..              \n",
      "        ..            ..            \n",
      "       .                .           \n",
      "+---------+       +--------------+  \n",
      "| no_tool |       | tool_handler |  \n",
      "+---------+       +--------------+  \n",
      "          **        **              \n",
      "            **    **                \n",
      "              *  *                  \n",
      "          +---------+               \n",
      "          | __end__ |               \n",
      "          +---------+               \n"
     ]
    }
   ],
   "source": [
    "agent.get_graph().print_ascii()\n"
   ]
  },
  {
   "cell_type": "code",
   "execution_count": 26,
   "id": "61ff3806",
   "metadata": {},
   "outputs": [
    {
     "name": "stdout",
     "output_type": "stream",
     "text": [
      "Jawaban Agent: Saat ini, 1 USD = 15.200 IDR.\n"
     ]
    }
   ],
   "source": [
    "import asyncio\n",
    "await ask_agent(\"Berapa kurs USD ke IDR hari ini?\")\n"
   ]
  }
 ],
 "metadata": {
  "kernelspec": {
   "display_name": "Python 3",
   "language": "python",
   "name": "python3"
  },
  "language_info": {
   "codemirror_mode": {
    "name": "ipython",
    "version": 3
   },
   "file_extension": ".py",
   "mimetype": "text/x-python",
   "name": "python",
   "nbconvert_exporter": "python",
   "pygments_lexer": "ipython3",
   "version": "3.11.0"
  }
 },
 "nbformat": 4,
 "nbformat_minor": 5
}
