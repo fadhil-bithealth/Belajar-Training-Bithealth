{
 "cells": [
  {
   "cell_type": "code",
   "execution_count": 1,
   "id": "dfdb7314",
   "metadata": {},
   "outputs": [
    {
     "name": "stdout",
     "output_type": "stream",
     "text": [
      "=== RAW LLM RESPONSE ===\n",
      "{\"batch_number\": \"\", \"expired_date\": \"\"}\n",
      "=========================\n",
      "Selected images for quantity detection: []\n",
      "{'item_name': 'NARFOZ Ondansetron HCl dihydrate Larutan Injeksi 8 mg / 4 ml', 'batch_number': '', 'expired_date': '', 'item_quantity': 0}\n"
     ]
    }
   ],
   "source": [
    "from dotenv import load_dotenv\n",
    "import os\n",
    "load_dotenv()\n",
    "LANGSMITH_API_KEY = os.getenv(\"LANGSMITH_API_KEY\")\n",
    "LANGSMITH_TRACING = os.getenv(\"LANGSMITH_TRACING\")\n",
    "# main.ipynb\n",
    "from app.pipeline_graph import run_pipeline_graph\n",
    "from PIL import Image\n",
    "import json\n",
    "\n",
    "images = [\n",
    "    Image.open(\"Dataset/66a.JPG\"),\n",
    "    Image.open(\"Dataset/66b.JPG\"),\n",
    "    Image.open(\"Dataset/66c.JPG\")\n",
    "]\n",
    "\n",
    "result = run_pipeline_graph(images)\n",
    "output = result \n",
    "print(output)\n",
    "\n"
   ]
  },
  {
   "cell_type": "code",
   "execution_count": 3,
   "id": "1be1a251",
   "metadata": {},
   "outputs": [
    {
     "data": {
      "text/plain": [
       "{'item_name': 'NARFOZ Ondansetron HCl dihydrate Larutan Injeksi 8 mg / 4 ml',\n",
       " 'batch_number': '',\n",
       " 'expired_date': '',\n",
       " 'item_quantity': 0}"
      ]
     },
     "execution_count": 3,
     "metadata": {},
     "output_type": "execute_result"
    }
   ],
   "source": [
    "output"
   ]
  },
  {
   "cell_type": "code",
   "execution_count": null,
   "id": "902a8842",
   "metadata": {},
   "outputs": [],
   "source": []
  },
  {
   "cell_type": "code",
   "execution_count": 3,
   "id": "47b77677",
   "metadata": {},
   "outputs": [
    {
     "name": "stdout",
     "output_type": "stream",
     "text": [
      "<class 'dict'>\n"
     ]
    }
   ],
   "source": [
    "print(type(output))"
   ]
  }
 ],
 "metadata": {
  "kernelspec": {
   "display_name": "venv",
   "language": "python",
   "name": "python3"
  },
  "language_info": {
   "codemirror_mode": {
    "name": "ipython",
    "version": 3
   },
   "file_extension": ".py",
   "mimetype": "text/x-python",
   "name": "python",
   "nbconvert_exporter": "python",
   "pygments_lexer": "ipython3",
   "version": "3.11.0"
  }
 },
 "nbformat": 4,
 "nbformat_minor": 5
}
