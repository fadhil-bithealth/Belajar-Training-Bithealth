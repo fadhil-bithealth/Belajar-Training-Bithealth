{
 "cells": [
  {
   "cell_type": "code",
   "execution_count": 1,
   "id": "dfdb7314",
   "metadata": {},
   "outputs": [
    {
     "name": "stdout",
     "output_type": "stream",
     "text": [
      "Detection Result: {'batch_and_expiry_image': [2], 'quantity_detection_images': [0, 1, 2], 'item_name': 'NARFOZ Ondansetron HCl dihydrate 8 mg / 4 ml'}\n",
      "Batch and Expiry Result: {'batch_number': 'D4H527GA', 'expiry_date': 'AUG 27'}\n",
      "Quantity Result: 14\n",
      "Final Output: {'item_name': 'NARFOZ Ondansetron HCl dihydrate 8 mg / 4 ml', 'quantity': 14, 'batch_number': 'D4H527GA', 'expiry_date': 'AUG 27'}\n"
     ]
    }
   ],
   "source": [
    "from dotenv import load_dotenv\n",
    "import os\n",
    "load_dotenv()\n",
    "LANGSMITH_API_KEY = os.getenv(\"LANGSMITH_API_KEY\")\n",
    "LANGSMITH_TRACING = os.getenv(\"LANGSMITH_TRACING\")\n",
    "# main.ipynb\n",
    "from app.pipeline import run_pipeline\n",
    "from PIL import Image\n",
    "import json\n",
    "\n",
    "images = [\n",
    "    Image.open(\"Dataset/66a.JPG\"),\n",
    "    Image.open(\"Dataset/66b.JPG\"),\n",
    "    Image.open(\"Dataset/66c.JPG\")\n",
    "]\n",
    "\n",
    "output = run_pipeline(images)\n",
    "\n",
    "\n"
   ]
  },
  {
   "cell_type": "code",
   "execution_count": 3,
   "id": "ab2c5f60",
   "metadata": {},
   "outputs": [
    {
     "data": {
      "text/plain": [
       "dict"
      ]
     },
     "execution_count": 3,
     "metadata": {},
     "output_type": "execute_result"
    }
   ],
   "source": [
    "type(output)"
   ]
  },
  {
   "cell_type": "code",
   "execution_count": 10,
   "id": "47b77677",
   "metadata": {},
   "outputs": [
    {
     "data": {
      "text/plain": [
       "{'item_name': 'NARFOZ Ondansetron HCl dihydrate 8 mg / 4 ml',\n",
       " 'quantity': 14,\n",
       " 'batch_number': 'D4H527GA',\n",
       " 'expiry_date': 'AUG 27'}"
      ]
     },
     "execution_count": 10,
     "metadata": {},
     "output_type": "execute_result"
    }
   ],
   "source": [
    "output"
   ]
  },
  {
   "cell_type": "markdown",
   "id": "cfd8be87",
   "metadata": {},
   "source": [
    "----------------------------------------------------------------------------------------------------"
   ]
  },
  {
   "cell_type": "code",
   "execution_count": 11,
   "id": "352080c4",
   "metadata": {},
   "outputs": [
    {
     "data": {
      "text/html": [
       "<div>\n",
       "<style scoped>\n",
       "    .dataframe tbody tr th:only-of-type {\n",
       "        vertical-align: middle;\n",
       "    }\n",
       "\n",
       "    .dataframe tbody tr th {\n",
       "        vertical-align: top;\n",
       "    }\n",
       "\n",
       "    .dataframe thead th {\n",
       "        text-align: right;\n",
       "    }\n",
       "</style>\n",
       "<table border=\"1\" class=\"dataframe\">\n",
       "  <thead>\n",
       "    <tr style=\"text-align: right;\">\n",
       "      <th></th>\n",
       "      <th>item_code</th>\n",
       "      <th>item_name</th>\n",
       "      <th>type_name</th>\n",
       "      <th>group_name</th>\n",
       "    </tr>\n",
       "  </thead>\n",
       "  <tbody>\n",
       "    <tr>\n",
       "      <th>0</th>\n",
       "      <td>D10002</td>\n",
       "      <td>js/ ARIMIDEX 1MG TAB</td>\n",
       "      <td>Drugs</td>\n",
       "      <td>Chemotherapy(BPJS)</td>\n",
       "    </tr>\n",
       "    <tr>\n",
       "      <th>1</th>\n",
       "      <td>D10003</td>\n",
       "      <td>js/ CASODEX 50MG TAB</td>\n",
       "      <td>Drugs</td>\n",
       "      <td>Chemotherapy(BPJS)</td>\n",
       "    </tr>\n",
       "    <tr>\n",
       "      <th>2</th>\n",
       "      <td>D10005</td>\n",
       "      <td>js/ DORNER 20MCG TAB</td>\n",
       "      <td>Drugs</td>\n",
       "      <td>Chronic(BPJS)</td>\n",
       "    </tr>\n",
       "    <tr>\n",
       "      <th>3</th>\n",
       "      <td>D10007</td>\n",
       "      <td>js/ FERRIPROX FCT 500MG TAB</td>\n",
       "      <td>Drugs</td>\n",
       "      <td>Other(BPJS)</td>\n",
       "    </tr>\n",
       "    <tr>\n",
       "      <th>4</th>\n",
       "      <td>D10008</td>\n",
       "      <td>js/ GLIVEC 100MG TAB</td>\n",
       "      <td>Drugs</td>\n",
       "      <td>Chemotherapy(BPJS)</td>\n",
       "    </tr>\n",
       "  </tbody>\n",
       "</table>\n",
       "</div>"
      ],
      "text/plain": [
       "  item_code                    item_name type_name          group_name\n",
       "0    D10002         js/ ARIMIDEX 1MG TAB     Drugs  Chemotherapy(BPJS)\n",
       "1    D10003         js/ CASODEX 50MG TAB     Drugs  Chemotherapy(BPJS)\n",
       "2    D10005         js/ DORNER 20MCG TAB     Drugs       Chronic(BPJS)\n",
       "3    D10007  js/ FERRIPROX FCT 500MG TAB     Drugs         Other(BPJS)\n",
       "4    D10008         js/ GLIVEC 100MG TAB     Drugs  Chemotherapy(BPJS)"
      ]
     },
     "execution_count": 11,
     "metadata": {},
     "output_type": "execute_result"
    }
   ],
   "source": [
    "import pandas as pd\n",
    "\n",
    "df = pd.read_csv(\"Dataset/all_items_test.csv\")\n",
    "df.head()"
   ]
  },
  {
   "cell_type": "code",
   "execution_count": 11,
   "id": "4d9cc598",
   "metadata": {},
   "outputs": [
    {
     "name": "stdout",
     "output_type": "stream",
     "text": [
      "  item_code                 item_name type_name          group_name\n",
      "0    D10002          ARIMIDEX 1MG TAB     Drugs  Chemotherapy(BPJS)\n",
      "1    D10003          CASODEX 50MG TAB     Drugs  Chemotherapy(BPJS)\n",
      "2    D10005          DORNER 20MCG TAB     Drugs       Chronic(BPJS)\n",
      "3    D10007   FERRIPROX FCT 500MG TAB     Drugs         Other(BPJS)\n",
      "4    D10008          GLIVEC 100MG TAB     Drugs  Chemotherapy(BPJS)\n"
     ]
    }
   ],
   "source": [
    "# Menghapus \"/js\" dari kolom item_name\n",
    "df['item_name'] = df['item_name'].str.replace('/js', '', regex=False)\n",
    "\n",
    "# Filter data dengan type_name = 'Drugs'\n",
    "filtered_df = df[df['type_name'] == 'Drugs']\n",
    "\n",
    "# Ekspor data yang telah difilter dan diubah ke file CSV baru\n",
    "filtered_df.to_csv(\"Dataset/drugs_items_filtered.csv\", index=False)\n",
    "\n",
    "# Menampilkan 5 baris pertama dari hasil filter untuk verifikasi\n",
    "print(filtered_df.head())"
   ]
  },
  {
   "cell_type": "code",
   "execution_count": 16,
   "id": "7a1754a4",
   "metadata": {},
   "outputs": [
    {
     "data": {
      "text/html": [
       "<div>\n",
       "<style scoped>\n",
       "    .dataframe tbody tr th:only-of-type {\n",
       "        vertical-align: middle;\n",
       "    }\n",
       "\n",
       "    .dataframe tbody tr th {\n",
       "        vertical-align: top;\n",
       "    }\n",
       "\n",
       "    .dataframe thead th {\n",
       "        text-align: right;\n",
       "    }\n",
       "</style>\n",
       "<table border=\"1\" class=\"dataframe\">\n",
       "  <thead>\n",
       "    <tr style=\"text-align: right;\">\n",
       "      <th></th>\n",
       "      <th>item_code</th>\n",
       "      <th>item_name</th>\n",
       "      <th>type_name</th>\n",
       "      <th>group_name</th>\n",
       "    </tr>\n",
       "  </thead>\n",
       "  <tbody>\n",
       "    <tr>\n",
       "      <th>0</th>\n",
       "      <td>D10002</td>\n",
       "      <td>ARIMIDEX 1MG TAB</td>\n",
       "      <td>Drugs</td>\n",
       "      <td>Chemotherapy(BPJS)</td>\n",
       "    </tr>\n",
       "    <tr>\n",
       "      <th>1</th>\n",
       "      <td>D10003</td>\n",
       "      <td>CASODEX 50MG TAB</td>\n",
       "      <td>Drugs</td>\n",
       "      <td>Chemotherapy(BPJS)</td>\n",
       "    </tr>\n",
       "    <tr>\n",
       "      <th>2</th>\n",
       "      <td>D10005</td>\n",
       "      <td>DORNER 20MCG TAB</td>\n",
       "      <td>Drugs</td>\n",
       "      <td>Chronic(BPJS)</td>\n",
       "    </tr>\n",
       "    <tr>\n",
       "      <th>3</th>\n",
       "      <td>D10007</td>\n",
       "      <td>FERRIPROX FCT 500MG TAB</td>\n",
       "      <td>Drugs</td>\n",
       "      <td>Other(BPJS)</td>\n",
       "    </tr>\n",
       "    <tr>\n",
       "      <th>4</th>\n",
       "      <td>D10008</td>\n",
       "      <td>GLIVEC 100MG TAB</td>\n",
       "      <td>Drugs</td>\n",
       "      <td>Chemotherapy(BPJS)</td>\n",
       "    </tr>\n",
       "  </tbody>\n",
       "</table>\n",
       "</div>"
      ],
      "text/plain": [
       "  item_code                 item_name type_name          group_name\n",
       "0    D10002          ARIMIDEX 1MG TAB     Drugs  Chemotherapy(BPJS)\n",
       "1    D10003          CASODEX 50MG TAB     Drugs  Chemotherapy(BPJS)\n",
       "2    D10005          DORNER 20MCG TAB     Drugs       Chronic(BPJS)\n",
       "3    D10007   FERRIPROX FCT 500MG TAB     Drugs         Other(BPJS)\n",
       "4    D10008          GLIVEC 100MG TAB     Drugs  Chemotherapy(BPJS)"
      ]
     },
     "execution_count": 16,
     "metadata": {},
     "output_type": "execute_result"
    }
   ],
   "source": [
    "import pandas as pd\n",
    "\n",
    "df = pd.read_csv(\"Dataset/drugs_items_filtered.csv\")\n",
    "df.head()"
   ]
  },
  {
   "cell_type": "code",
   "execution_count": 29,
   "id": "5858b2d3",
   "metadata": {},
   "outputs": [
    {
     "name": "stdout",
     "output_type": "stream",
     "text": [
      "Daftar koleksi yang ada di Qdrant: collections=[CollectionDescription(name='item_collection')]\n",
      "Jumlah titik dalam koleksi 'item_collection': 12003\n"
     ]
    }
   ],
   "source": [
    "import os\n",
    "from qdrant_client import QdrantClient\n",
    "from qdrant_client.models import VectorParams, Distance, PointStruct\n",
    "import pandas as pd\n",
    "from langchain_google_genai import GoogleGenerativeAIEmbeddings\n",
    "\n",
    "# Inisialisasi Qdrant Client\n",
    "client = QdrantClient(host='localhost', port=6333)\n",
    "\n",
    "# Load dataset\n",
    "df = pd.read_csv(\"Dataset/drugs_items_filtered.csv\")\n",
    "\n",
    "# Inisialisasi model embeddings\n",
    "embedding_model = GoogleGenerativeAIEmbeddings(\n",
    "    model=\"models/embedding-001\",\n",
    "    google_api_key=os.getenv(\"GOOGLE_API_KEY\")  # pastikan Anda set GOOGLE_API_KEY di environment\n",
    ")\n",
    "\n",
    "# Konversi item_name menjadi embeddings\n",
    "def generate_embeddings(texts):\n",
    "    # Gunakan embed_documents untuk menghasilkan embeddings\n",
    "    return embedding_model.embed_documents(texts)\n",
    "\n",
    "# Generate embeddings untuk item_name\n",
    "embeddings = generate_embeddings(df['item_name'].tolist())\n",
    "\n",
    "# Periksa apakah koleksi sudah ada, jika tidak, buat koleksi baru\n",
    "if not client.collection_exists(\"item_collection\"):\n",
    "    client.create_collection(\n",
    "        collection_name=\"item_collection\",\n",
    "        vectors_config=VectorParams(size=len(embeddings[0]), distance=Distance.COSINE)\n",
    "    )\n",
    "\n",
    "# Menambah data ke Qdrant\n",
    "points = [\n",
    "    PointStruct(\n",
    "        id=i,  # Setiap titik diberi ID unik\n",
    "        vector=embedding,  # Menggunakan embedding untuk vektor\n",
    "        payload={\"item_name\": item_name, \"item_code\": item_code}  # Payload berisi data tambahan\n",
    "    )\n",
    "    for i, (embedding, item_name, item_code) in enumerate(zip(embeddings, df['item_name'], df['item_code']))\n",
    "]\n",
    "\n",
    "# Sekarang upload titik menggunakan upload_points, bukan upload_collection\n",
    "client.upload_points(\n",
    "    collection_name=\"item_collection\",\n",
    "    points=points\n",
    ")\n",
    "\n",
    "# Memeriksa koleksi yang telah dibuat\n",
    "collections = client.get_collections()\n",
    "print(\"Daftar koleksi yang ada di Qdrant:\", collections)\n",
    "\n",
    "# Memeriksa jumlah titik data yang ada di dalam koleksi\n",
    "# Memeriksa jumlah titik data yang ada di dalam koleksi\n",
    "count_result = client.count(\n",
    "    collection_name=\"item_collection\",\n",
    "    exact=True  # agar hasilnya benar-benar akurat\n",
    ")\n",
    "print(f\"Jumlah titik dalam koleksi 'item_collection': {count_result.count}\")\n"
   ]
  },
  {
   "cell_type": "code",
   "execution_count": 1,
   "id": "1bd17726",
   "metadata": {},
   "outputs": [
    {
     "name": "stdout",
     "output_type": "stream",
     "text": [
      "collections=[CollectionDescription(name='item_collection')]\n",
      "12003\n",
      "Detection Result: {'batch_and_expiry_image': [2], 'quantity_detection_images': [0, 1, 2], 'item_name': 'NARFOZ Ondansetron HCl dihydrate 8 mg / 4 ml'}\n",
      "Batch and Expiry Result: {'batch_number': 'D4H527GA', 'expiry_date': 'AUG 27'}\n",
      "Quantity Result: 14\n",
      "Final Output: {'item_id': 'AMD00303', 'item_name': 'NARFOZ Ondansetron HCl dihydrate 8 mg / 4 ml', 'quantity': 14, 'batch_number': 'D4H527GA', 'expiry_date': 'AUG 27'}\n",
      "Final Output: {\n",
      "  \"item_id\": \"AMD00303\",\n",
      "  \"item_name\": \"NARFOZ Ondansetron HCl dihydrate 8 mg / 4 ml\",\n",
      "  \"quantity\": 14,\n",
      "  \"batch_number\": \"D4H527GA\",\n",
      "  \"expiry_date\": \"AUG 27\"\n",
      "}\n"
     ]
    }
   ],
   "source": [
    "# 1. Load Environment Variables\n",
    "from dotenv import load_dotenv\n",
    "import os\n",
    "load_dotenv()\n",
    "\n",
    "# 2. Import yang perlu\n",
    "from qdrant_client import QdrantClient\n",
    "from langchain_google_genai import GoogleGenerativeAIEmbeddings\n",
    "from PIL import Image\n",
    "import json\n",
    "\n",
    "# 3. Inisialisasi kembali\n",
    "client = QdrantClient(host='localhost', port=6333)\n",
    "print(client.get_collections())\n",
    "count = client.count(collection_name=\"item_collection\", exact=True)\n",
    "print(count.count)\n",
    "\n",
    "\n",
    "embedding_model = GoogleGenerativeAIEmbeddings(\n",
    "    model=\"models/embedding-001\",\n",
    "    google_api_key=os.getenv(\"GOOGLE_API_KEY\")\n",
    ")\n",
    "\n",
    "# 4. Import run_pipeline\n",
    "from app.pipeline import run_pipeline\n",
    "\n",
    "# 5. Load Images\n",
    "images = [\n",
    "    Image.open(\"Dataset/66a.JPG\"),\n",
    "    Image.open(\"Dataset/66b.JPG\"),\n",
    "    Image.open(\"Dataset/66c.JPG\")\n",
    "]\n",
    "\n",
    "# 6. Run pipeline\n",
    "output = run_pipeline(images)\n",
    "\n",
    "# 7. Print\n",
    "print(\"Final Output:\", json.dumps(output, indent=2))\n"
   ]
  },
  {
   "cell_type": "code",
   "execution_count": 6,
   "id": "a09b3f25",
   "metadata": {},
   "outputs": [
    {
     "data": {
      "text/plain": [
       "{'item_id': 'AMD00303',\n",
       " 'item_name': 'NARFOZ Ondansetron HCl dihydrate 8 mg / 4 ml',\n",
       " 'quantity': 14,\n",
       " 'batch_number': 'D4H527GA',\n",
       " 'expiry_date': 'AUG 27'}"
      ]
     },
     "execution_count": 6,
     "metadata": {},
     "output_type": "execute_result"
    }
   ],
   "source": [
    "output"
   ]
  },
  {
   "cell_type": "code",
   "execution_count": 2,
   "id": "24456e81",
   "metadata": {},
   "outputs": [
    {
     "data": {
      "text/html": [
       "<div>\n",
       "<style scoped>\n",
       "    .dataframe tbody tr th:only-of-type {\n",
       "        vertical-align: middle;\n",
       "    }\n",
       "\n",
       "    .dataframe tbody tr th {\n",
       "        vertical-align: top;\n",
       "    }\n",
       "\n",
       "    .dataframe thead th {\n",
       "        text-align: right;\n",
       "    }\n",
       "</style>\n",
       "<table border=\"1\" class=\"dataframe\">\n",
       "  <thead>\n",
       "    <tr style=\"text-align: right;\">\n",
       "      <th></th>\n",
       "      <th>item_code</th>\n",
       "      <th>item_name</th>\n",
       "      <th>type_name</th>\n",
       "      <th>group_name</th>\n",
       "    </tr>\n",
       "  </thead>\n",
       "  <tbody>\n",
       "    <tr>\n",
       "      <th>0</th>\n",
       "      <td>D10002</td>\n",
       "      <td>ARIMIDEX 1MG TAB</td>\n",
       "      <td>Drugs</td>\n",
       "      <td>Chemotherapy(BPJS)</td>\n",
       "    </tr>\n",
       "    <tr>\n",
       "      <th>1</th>\n",
       "      <td>D10003</td>\n",
       "      <td>CASODEX 50MG TAB</td>\n",
       "      <td>Drugs</td>\n",
       "      <td>Chemotherapy(BPJS)</td>\n",
       "    </tr>\n",
       "    <tr>\n",
       "      <th>2</th>\n",
       "      <td>D10005</td>\n",
       "      <td>DORNER 20MCG TAB</td>\n",
       "      <td>Drugs</td>\n",
       "      <td>Chronic(BPJS)</td>\n",
       "    </tr>\n",
       "    <tr>\n",
       "      <th>3</th>\n",
       "      <td>D10007</td>\n",
       "      <td>FERRIPROX FCT 500MG TAB</td>\n",
       "      <td>Drugs</td>\n",
       "      <td>Other(BPJS)</td>\n",
       "    </tr>\n",
       "    <tr>\n",
       "      <th>4</th>\n",
       "      <td>D10008</td>\n",
       "      <td>GLIVEC 100MG TAB</td>\n",
       "      <td>Drugs</td>\n",
       "      <td>Chemotherapy(BPJS)</td>\n",
       "    </tr>\n",
       "  </tbody>\n",
       "</table>\n",
       "</div>"
      ],
      "text/plain": [
       "  item_code                 item_name type_name          group_name\n",
       "0    D10002          ARIMIDEX 1MG TAB     Drugs  Chemotherapy(BPJS)\n",
       "1    D10003          CASODEX 50MG TAB     Drugs  Chemotherapy(BPJS)\n",
       "2    D10005          DORNER 20MCG TAB     Drugs       Chronic(BPJS)\n",
       "3    D10007   FERRIPROX FCT 500MG TAB     Drugs         Other(BPJS)\n",
       "4    D10008          GLIVEC 100MG TAB     Drugs  Chemotherapy(BPJS)"
      ]
     },
     "execution_count": 2,
     "metadata": {},
     "output_type": "execute_result"
    }
   ],
   "source": [
    "import pandas as pd\n",
    "\n",
    "df = pd.read_csv(\"Dataset/drugs_items_filtered.csv\")\n",
    "df.head()"
   ]
  },
  {
   "cell_type": "code",
   "execution_count": 9,
   "id": "e86b93bc",
   "metadata": {},
   "outputs": [
    {
     "data": {
      "text/html": [
       "<div>\n",
       "<style scoped>\n",
       "    .dataframe tbody tr th:only-of-type {\n",
       "        vertical-align: middle;\n",
       "    }\n",
       "\n",
       "    .dataframe tbody tr th {\n",
       "        vertical-align: top;\n",
       "    }\n",
       "\n",
       "    .dataframe thead th {\n",
       "        text-align: right;\n",
       "    }\n",
       "</style>\n",
       "<table border=\"1\" class=\"dataframe\">\n",
       "  <thead>\n",
       "    <tr style=\"text-align: right;\">\n",
       "      <th></th>\n",
       "      <th>item_code</th>\n",
       "      <th>item_name</th>\n",
       "      <th>type_name</th>\n",
       "      <th>group_name</th>\n",
       "    </tr>\n",
       "  </thead>\n",
       "  <tbody>\n",
       "    <tr>\n",
       "      <th>7523</th>\n",
       "      <td>AMD00303</td>\n",
       "      <td>NARFOZ 30ML SYR</td>\n",
       "      <td>Drugs</td>\n",
       "      <td>Other</td>\n",
       "    </tr>\n",
       "  </tbody>\n",
       "</table>\n",
       "</div>"
      ],
      "text/plain": [
       "     item_code         item_name type_name group_name\n",
       "7523  AMD00303   NARFOZ 30ML SYR     Drugs      Other"
      ]
     },
     "execution_count": 9,
     "metadata": {},
     "output_type": "execute_result"
    }
   ],
   "source": [
    "df[df['item_code'] == output['item_id']]\n"
   ]
  }
 ],
 "metadata": {
  "kernelspec": {
   "display_name": "medpack",
   "language": "python",
   "name": "python3"
  },
  "language_info": {
   "codemirror_mode": {
    "name": "ipython",
    "version": 3
   },
   "file_extension": ".py",
   "mimetype": "text/x-python",
   "name": "python",
   "nbconvert_exporter": "python",
   "pygments_lexer": "ipython3",
   "version": "3.11.0rc2"
  }
 },
 "nbformat": 4,
 "nbformat_minor": 5
}
