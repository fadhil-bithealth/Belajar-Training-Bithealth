{
 "cells": [
  {
   "cell_type": "code",
   "execution_count": null,
   "id": "d7156841",
   "metadata": {},
   "outputs": [],
   "source": [
    "import os\n",
    "from dotenv import load_dotenv\n",
    "from langchain_google_genai import ChatGoogleGenerativeAI\n",
    "from langchain_core.messages import HumanMessage\n",
    "\n",
    "load_dotenv()\n",
    "\n",
    "GOOGLE_API_KEY = os.getenv(\"GOOGLE_API_KEY\")\n",
    "\n",
    "llm = ChatGoogleGenerativeAI(\n",
    "    model=\"gemini-2.0-flash\",\n",
    "    google_api_key=GOOGLE_API_KEY,\n",
    "    temperature=0.7,\n",
    ")\n",
    "\n",
    "embedding = GoogleGenerativeAIEmbeddings(model=\"models/embedding-001\", google_api_key=GOOGLE_API_KEY)\n",
    "\n",
    "\n",
    "def ask(prompt: str):\n",
    "    return llm.invoke([HumanMessage(content=prompt)]).content\n",
    "\n"
   ]
  },
  {
   "cell_type": "code",
   "execution_count": null,
   "id": "cb8643a6",
   "metadata": {},
   "outputs": [],
   "source": [
    "\"\"\"\n",
    "┌─────────────────┐    ┌─────────────┐    ┌──────────────────┐    ┌──────────┐\n",
    "│  User Question  │ →  │  Retrieve   │ →  │  Generate Answer │ →  │  Answer  │\n",
    "└─────────────────┘    └─────────────┘    └──────────────────┘    └──────────┘\n",
    "                         |                                         ↑\n",
    "                         ↓                                         |\n",
    "                   ┌─────────────┐                           ┌─────────────┐\n",
    "                   │  Vector DB  │                           │     LLM     │\n",
    "                   │ (Qdrant)    │                           │  (Gemini)   │\n",
    "                   └─────────────┘                           └─────────────┘\n",
    "                   \n",
    "\"\"\""
   ]
  },
  {
   "cell_type": "code",
   "execution_count": null,
   "id": "60ec1306",
   "metadata": {},
   "outputs": [
    {
     "name": "stderr",
     "output_type": "stream",
     "text": [
      "C:\\Users\\Fadhil Wicaksono\\AppData\\Local\\Temp\\ipykernel_26716\\484950280.py:14: DeprecationWarning: `recreate_collection` method is deprecated and will be removed in the future. Use `collection_exists` to check collection existence and `create_collection` instead.\n",
      "  qdrant_client.recreate_collection(\n"
     ]
    },
    {
     "data": {
      "text/plain": [
       "['456edc39acb64a87a4444d57598e0d0b',\n",
       " '26aba15707e045e0825a073a045ad10a',\n",
       " '1342973d45294565b697ad7514f834a9']"
      ]
     },
     "execution_count": 10,
     "metadata": {},
     "output_type": "execute_result"
    }
   ],
   "source": [
    "from langchain_community.vectorstores import Qdrant\n",
    "from qdrant_client import QdrantClient\n",
    "from qdrant_client.models import VectorParams, Distance\n",
    "from langchain_google_genai import GoogleGenerativeAIEmbeddings\n",
    "from langchain_core.documents import Document\n",
    "\n",
    "# Setup embedding\n",
    "embedding = GoogleGenerativeAIEmbeddings(model=\"models/embedding-001\", google_api_key=GOOGLE_API_KEY)\n",
    "\n",
    "# Inisialisasi Qdrant (in-memory mode)\n",
    "qdrant_client = QdrantClient(\":memory:\") # Qdrant bekerja di dalam RAM\n",
    "\n",
    "# Buat collection dulu secara eksplisit\n",
    "qdrant_client.recreate_collection(\n",
    "    collection_name=\"knowledge_base\",\n",
    "    vectors_config=VectorParams(size=embedding.embed_query(\"test\").__len__(), distance=Distance.COSINE)\n",
    ")\n",
    "\n",
    "# Siapkan dokumen\n",
    "docs = [\n",
    "    Document(page_content=\"Python is a programming language.\"),\n",
    "    Document(page_content=\"LangChain is a framework for LLM-powered apps.\"),\n",
    "    Document(page_content=\"Qdrant is a vector database for similarity search.\"),\n",
    "]\n",
    "\n",
    "# Inisialisasi vectorstore\n",
    "vectorstore = Qdrant(\n",
    "    client=qdrant_client,\n",
    "    collection_name=\"knowledge_base\",\n",
    "    embeddings=embedding\n",
    ")\n",
    "\n",
    "# Tambahkan dokumen\n",
    "vectorstore.add_documents(docs)"
   ]
  },
  {
   "cell_type": "code",
   "execution_count": 15,
   "id": "5e2a7015",
   "metadata": {},
   "outputs": [],
   "source": [
    "# Build graph\n",
    "graph = StateGraph(QAState)\n",
    "graph.add_node(\"retrieve\", RunnableLambda(retrieve_node))\n",
    "graph.add_node(\"generate_answer\", RunnableLambda(answer_node))  # ganti nama node\n",
    "graph.set_entry_point(\"retrieve\")\n",
    "graph.add_edge(\"retrieve\", \"generate_answer\")\n",
    "graph.add_edge(\"generate_answer\", END)\n",
    "\n",
    "agent = graph.compile()\n"
   ]
  },
  {
   "cell_type": "code",
   "execution_count": 16,
   "id": "ef4b7ad6",
   "metadata": {},
   "outputs": [
    {
     "name": "stdout",
     "output_type": "stream",
     "text": [
      "Jawaban:\n",
      " LangChain adalah sebuah framework (kerangka kerja) untuk membangun aplikasi yang ditenagai oleh Large Language Models (LLM). Dalam bahasa sederhana, LangChain mempermudah Anda untuk menggunakan model bahasa besar (seperti GPT-3 atau model serupa) untuk membuat berbagai macam aplikasi, seperti chatbot, agen yang bisa menjawab pertanyaan, dan lain sebagainya.\n",
      "\n",
      "Berikut beberapa poin penting tentang LangChain:\n",
      "\n",
      "*   **Mempermudah Integrasi LLM:** LangChain menyediakan alat dan abstraksi yang memudahkan Anda untuk menghubungkan dan menggunakan berbagai model LLM.\n",
      "*   **Rantai (Chains):** Konsep inti LangChain adalah \"rantai\" (chains), yaitu urutan panggilan LLM atau modul lainnya yang dirangkai untuk mencapai tujuan tertentu.  Ini memungkinkan Anda untuk membuat alur kerja yang kompleks.\n",
      "*   **Komponen:** LangChain memiliki berbagai komponen, seperti model I/O (untuk berinteraksi dengan LLM), indeks data (untuk mengambil informasi yang relevan), memori (untuk mempertahankan konteks percakapan), dan agen (untuk membuat sistem yang dapat mengambil keputusan).\n",
      "*   **Fleksibel:** LangChain dirancang agar fleksibel dan modular, sehingga Anda dapat menyesuaikannya dengan kebutuhan spesifik aplikasi Anda.\n",
      "*   **Python:** LangChain sering digunakan dalam bahasa pemrograman Python karena kemudahan dan banyaknya library yang tersedia.\n",
      "\n",
      "Singkatnya, LangChain adalah alat yang sangat berguna bagi pengembang yang ingin memanfaatkan kekuatan LLM untuk membangun aplikasi cerdas.\n"
     ]
    }
   ],
   "source": [
    "result = agent.invoke({\"question\": \"Apa itu LangChain?\"})\n",
    "print(\"Jawaban:\\n\", result[\"answer\"])"
   ]
  }
 ],
 "metadata": {
  "kernelspec": {
   "display_name": "Python 3",
   "language": "python",
   "name": "python3"
  },
  "language_info": {
   "codemirror_mode": {
    "name": "ipython",
    "version": 3
   },
   "file_extension": ".py",
   "mimetype": "text/x-python",
   "name": "python",
   "nbconvert_exporter": "python",
   "pygments_lexer": "ipython3",
   "version": "3.11.0"
  }
 },
 "nbformat": 4,
 "nbformat_minor": 5
}
