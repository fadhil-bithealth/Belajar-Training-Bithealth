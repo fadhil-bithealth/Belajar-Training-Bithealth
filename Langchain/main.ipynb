{
 "cells": [
  {
   "cell_type": "markdown",
   "id": "4fe2921d",
   "metadata": {},
   "source": [
    "### Config"
   ]
  },
  {
   "cell_type": "code",
   "execution_count": 10,
   "id": "55a11cb5",
   "metadata": {},
   "outputs": [],
   "source": [
    "import os\n",
    "from dotenv import load_dotenv\n",
    "from langchain_google_genai import ChatGoogleGenerativeAI\n",
    "from langchain_core.messages import HumanMessage\n",
    "\n",
    "load_dotenv()\n",
    "\n",
    "GOOGLE_API_KEY = os.getenv(\"GOOGLE_API_KEY\")\n",
    "TAVILY_API_KEY = os.getenv(\"TAVILY_API_KEY\")\n",
    "\n",
    "llm = ChatGoogleGenerativeAI(\n",
    "    model=\"gemini-2.0-flash\",\n",
    "    google_api_key=GOOGLE_API_KEY,\n",
    "    temperature=0.7,\n",
    ")"
   ]
  },
  {
   "cell_type": "code",
   "execution_count": 5,
   "id": "445f70c3",
   "metadata": {},
   "outputs": [],
   "source": [
    "\n",
    "# Fungsi tanpa tool\n",
    "def ask(prompt: str):\n",
    "    return llm.invoke([HumanMessage(content=prompt)]).content\n"
   ]
  },
  {
   "cell_type": "markdown",
   "id": "4983388d",
   "metadata": {},
   "source": [
    "### Tools"
   ]
  },
  {
   "cell_type": "code",
   "execution_count": null,
   "id": "c49a2af5",
   "metadata": {},
   "outputs": [],
   "source": [
    "from langchain.agents import initialize_agent, Tool\n",
    "from langchain.agents.agent_types import AgentType\n",
    "from langchain_community.tools.tavily_search import TavilySearchResults\n",
    "\n",
    "\n",
    "# Fungsi dengan tool\n",
    "def ask_with_search(prompt: str):\n",
    "    # Setup search tool\n",
    "    search_tool = TavilySearchResults()\n",
    "    tools = [\n",
    "        Tool(\n",
    "            name=\"tavily-search\",\n",
    "            func=search_tool.run,\n",
    "            description=\"Use this for answering questions about current events or factual information from the web.\"\n",
    "        )\n",
    "    ]\n",
    "\n",
    "    # Setup agent\n",
    "    agent = initialize_agent(\n",
    "        tools,\n",
    "        llm,\n",
    "        agent=AgentType.ZERO_SHOT_REACT_DESCRIPTION,\n",
    "        verbose=True\n",
    "    )\n",
    "\n",
    "    # Jalankan pertanyaan dengan agen\n",
    "    return agent.run(prompt)"
   ]
  },
  {
   "cell_type": "code",
   "execution_count": 12,
   "id": "a7c93fa9",
   "metadata": {},
   "outputs": [
    {
     "name": "stdout",
     "output_type": "stream",
     "text": [
      "Presiden Indonesia saat ini adalah Joko Widodo.\n"
     ]
    }
   ],
   "source": [
    "# Pertanyaan biasa (tidak butuh search)\n",
    "print(ask(\"Siapa presiden Indonesia sekarang?\"))"
   ]
  },
  {
   "cell_type": "code",
   "execution_count": 13,
   "id": "f110a525",
   "metadata": {},
   "outputs": [
    {
     "name": "stdout",
     "output_type": "stream",
     "text": [
      "\n",
      "\n",
      "\u001b[1m> Entering new AgentExecutor chain...\u001b[0m\n",
      "\u001b[32;1m\u001b[1;3mPertanyaan ini membutuhkan informasi faktual terkini, jadi saya akan menggunakan alat pencarian.\n",
      "Action: tavily-search\n",
      "Action Input: \"current president of Indonesia\"\u001b[0m\n",
      "Observation: \u001b[36;1m\u001b[1;3m[{'title': 'Prabowo Subianto - Wikipedia', 'url': 'https://en.wikipedia.org/wiki/Prabowo_Subianto', 'content': \"Prabowo Subianto Djojohadikusumo (EYD: Joyohadikusumo; born 17 October 1951) is an Indonesian politician, businessman, and former army general serving as the eighth president of Indonesia since 2024. He was previously the 26th minister of defense under president Joko Widodo from 2019 to 2024. Prabowo is Indonesia's third president to have a military background after Suharto and Susilo Bambang Yudhoyono and is the oldest first-term president in Indonesian history. [...] Political offices\\nPreceded\\xa0byJoko Widodo | President of Indonesia20 October 2024 – present | Incumbent\\nPreceded\\xa0byRyamizard Ryacudu | Minister of Defense2019–2024 | Succeeded\\xa0bySjafrie Sjamsoeddin\\nParty political offices\\nPreceded\\xa0bySuhardi | General Chairman of theGerindra Party2014–present | Incumbent\\nPreceded\\xa0byHimselfas vice-presidential nominee | Gerindra PartynomineeforPresident of Indonesia2014,2019(lost)2024(won) | Most recent [...] in IndonesiaPolitics of Indonesia | vtePresidents of Indonesia | SukarnoSuhartoB. J. HabibieAbdurrahman WahidMegawati SukarnoputriSusilo Bambang YudhoyonoJoko WidodoPrabowo Subianto |  | CategoryList | vteCurrent heads of state of republics | Africa | Abdelmadjid TebbouneJoão LourençoPatrice TalonDuma BokoIbrahim Traoré*Évariste NdayishimiyePaul BiyaJosé Maria NevesFaustin-Archange TouadéraMahamat DébyAzali AssoumaniFélix TshisekediDenis Sassou NguessoIsmaïl Omar GuellehAbdel Fattah\", 'score': 0.86358756}, {'title': 'Indonesia: Prabowo takes office with largest cabinet since 1960s', 'url': 'https://www.bbc.com/news/articles/c756204q2k5o', 'content': \"Indonesia leader sworn in with largest cabinet in decades\\n\\nFormer military general Prabowo Subianto has been sworn in as Indonesia's president, as he announced the country's largest cabinet since the 1960s.\\n\\nThe 73-year-old, who had been dogged by allegations of human rights abuse for decades, was inagurated on Sunday as the country's eighth president.\", 'score': 0.8616433}, {'title': \"Indonesia: New President's Past Raises Questions\", 'url': 'https://gfmag.com/economics-policy-regulation/indonesia-president-prabowo-subianto/', 'content': 'Prabowo Subianto, a former army general with a controversial past and minister of defence in the current administration, has been elected president of', 'score': 0.81770587}, {'title': \"Indonesia's new President Prabowo Subianto announces largest ...\", 'url': 'https://www.thehindu.com/news/international/indonesias-new-president-prabowo-subianto-announces-largest-ever-cabinet-with-109-members/article68778112.ece', 'content': \"The former rivals became tacit allies, even though Indonesian Presidents don't typically endorse candidates. Mr. Subianto was a longtime rival of Mr. Widodo, who ran against him for the Presidency twice and refused to accept his defeat on both occasions, in 2014 and 2019.\\n\\nEditorial | A strongman at the helm: On Indonesia’s presidential election [...] Indonesian President Prabowo Subianto (front centre), and Vice-President Gibran Rakabuming Raka (front row fourth from right) pose for a group photo with newly-appointed Cabinet Ministers after their swearing-in ceremony, at Merdeka Palace, in Jakarta, Indonesia, on October 21, 2024.  \\n                                          | Photo Credit: AP [...] Newly inaugurated President Prabowo Subianto announced Indonesia's largest-ever Cabinet on Sunday (October 20, 2024), with 109 members representing his pledge for a strong government. He named his Cabinet of Ministers, Vice-Ministers and head of national agencies the “Red and White Cabinet”, referring to the colours of Indonesia's flag.\", 'score': 0.77589405}, {'title': \"What policies to expect from Indonesia's new president - VOA\", 'url': 'https://www.voanews.com/a/what-policies-to-expect-from-indonesia-s-new-president/7827157.html', 'content': \"Accessibility links\\n\\n\\n\\nPrint Options:\\n\\nFollow Us\\n\\nWhat policies to expect from Indonesia's new president\\n\\nPrint\\n\\nRetired General Prabowo Subianto will be sworn in Sunday as the president of Indonesia, the world's third-biggest democracy with the largest economy in Southeast Asia.\\n\\nThe following is a summary of Prabowo's policy pledges:\\n\\nBoosting growth\", 'score': 0.76951396}]\u001b[0m\n",
      "Thought:\u001b[32;1m\u001b[1;3mPrabowo Subianto adalah presiden Indonesia saat ini. Dia menjabat sejak 20 Oktober 2024.\n",
      "Final Answer: Prabowo Subianto\u001b[0m\n",
      "\n",
      "\u001b[1m> Finished chain.\u001b[0m\n",
      "Prabowo Subianto\n"
     ]
    }
   ],
   "source": [
    "# Pertanyaan butuh pencarian web\n",
    "print(ask_with_search(\"Siapa presiden Indonesia sekarang?\"))"
   ]
  },
  {
   "cell_type": "code",
   "execution_count": null,
   "id": "c9100086",
   "metadata": {},
   "outputs": [],
   "source": [
    "## Tool From Scratch\n",
    "\n",
    "import os\n",
    "from datetime import datetime\n",
    "from dotenv import load_dotenv\n",
    "from langchain_core.tools import tool\n",
    "from langchain.agents import create_tool_calling_agent, AgentExecutor\n",
    "from langchain_core.prompts import ChatPromptTemplate, MessagesPlaceholder\n",
    "\n",
    "\n",
    "\n",
    "# === TOOL 1: Calculator ===\n",
    "@tool\n",
    "def calculator_tool(expression: str) -> str:\n",
    "    \"\"\"Evaluasi ekspresi matematika seperti '12 / (2 + 1)'.\"\"\"\n",
    "    try:\n",
    "        result = eval(expression, {\"__builtins__\": {}})\n",
    "        return f\"Hasil dari '{expression}' adalah {result}\"\n",
    "    except Exception as e:\n",
    "        return f\"Kesalahan menghitung ekspresi: {str(e)}\"\n",
    "\n",
    "# === TOOL 2: Time Now ===\n",
    "@tool\n",
    "def time_tool() -> str:\n",
    "    \"\"\"Ambil waktu dan tanggal terkini dalam format formal. \"\"\"\n",
    "    now = datetime.now()\n",
    "    return now.strftime(\"Saat ini: %A, %d %B %Y pukul %H:%M:%S\")\n"
   ]
  },
  {
   "cell_type": "code",
   "execution_count": 31,
   "id": "c82e7006",
   "metadata": {},
   "outputs": [],
   "source": [
    "prompt = ChatPromptTemplate.from_messages([\n",
    "    (\"system\", \"Kamu adalah asisten pintar yang bisa menggunakan tools untuk membantu pengguna.\"),\n",
    "    MessagesPlaceholder(variable_name=\"chat_history\"),\n",
    "    (\"user\", \"{input}\"),\n",
    "    MessagesPlaceholder(variable_name=\"agent_scratchpad\"),\n",
    "])\n",
    "\n",
    "# === Daftar Tools ===\n",
    "tools = [calculator_tool, time_tool]\n",
    "\n",
    "# === Setup Agent ===\n",
    "agent = create_tool_calling_agent(llm, tools, prompt)\n",
    "agent_executor = AgentExecutor(agent=agent, tools=tools, verbose=True)\n",
    "\n",
    "# === Fungsi akhir untuk tanya dengan tools ===\n",
    "def ask_with_tools(prompt: str):\n",
    "    return agent_executor.invoke({\"\"\n",
    "    \"input\": prompt,\n",
    "    \"chat_history\" : []\n",
    "    })[\"output\"]\n"
   ]
  },
  {
   "cell_type": "code",
   "execution_count": 32,
   "id": "39352c0f",
   "metadata": {},
   "outputs": [
    {
     "name": "stdout",
     "output_type": "stream",
     "text": [
      "\n",
      "\n",
      "\u001b[1m> Entering new AgentExecutor chain...\u001b[0m\n",
      "\u001b[32;1m\u001b[1;3m\n",
      "Invoking: `calculator_tool` with `{'expression': '123 * (2 + 3)'}`\n",
      "\n",
      "\n",
      "\u001b[0m\u001b[36;1m\u001b[1;3mHasil dari '123 * (2 + 3)' adalah 615\u001b[0m\u001b[32;1m\u001b[1;3m123 * (2 + 3) adalah 615\u001b[0m\n",
      "\n",
      "\u001b[1m> Finished chain.\u001b[0m\n",
      "123 * (2 + 3) adalah 615\n"
     ]
    }
   ],
   "source": [
    "print(ask_with_tools(\"Hitung 123 * (2 + 3)\"))"
   ]
  },
  {
   "cell_type": "code",
   "execution_count": 33,
   "id": "193c20d3",
   "metadata": {},
   "outputs": [
    {
     "name": "stdout",
     "output_type": "stream",
     "text": [
      "\n",
      "\n",
      "\u001b[1m> Entering new AgentExecutor chain...\u001b[0m\n",
      "\u001b[32;1m\u001b[1;3m\n",
      "Invoking: `time_tool` with `{}`\n",
      "\n",
      "\n",
      "\u001b[0m\u001b[33;1m\u001b[1;3mSaat ini: Tuesday, 22 April 2025 pukul 14:47:12\u001b[0m\u001b[32;1m\u001b[1;3mSaat ini: Selasa, 22 April 2025 pukul 14:47:12.\u001b[0m\n",
      "\n",
      "\u001b[1m> Finished chain.\u001b[0m\n",
      "Saat ini: Selasa, 22 April 2025 pukul 14:47:12.\n"
     ]
    }
   ],
   "source": [
    "print(ask_with_tools(\"Tanggal dan jam sekarang berapa?\"))"
   ]
  },
  {
   "cell_type": "code",
   "execution_count": 48,
   "id": "bc038959",
   "metadata": {},
   "outputs": [],
   "source": [
    "## Tools dokter\n",
    "doctor_db = [\n",
    "    {\n",
    "        \"nama\": \"dr. Andi Wijaya\",\n",
    "        \"spesialis\": \"anak\",\n",
    "        \"jadwal\": [\"Senin\", \"Rabu\", \"Jumat\"],\n",
    "        \"tersedia\": True\n",
    "    },\n",
    "    {\n",
    "        \"nama\": \"dr. Sinta Dewi\",\n",
    "        \"spesialis\": \"gigi\",\n",
    "        \"jadwal\": [\"Selasa\", \"Kamis\"],\n",
    "        \"tersedia\": False\n",
    "    },\n",
    "    {\n",
    "        \"nama\": \"dr. Rudi Santoso\",\n",
    "        \"spesialis\": \"mata\",\n",
    "        \"jadwal\": [\"Senin\", \"Rabu\"],\n",
    "        \"tersedia\": True\n",
    "    },\n",
    "    {\n",
    "        \"nama\": \"dr. Budi Hartono\",\n",
    "        \"spesialis\": \"umum\",\n",
    "        \"jadwal\": [\"Senin\", \"Selasa\", \"Rabu\", \"Kamis\"],\n",
    "        \"tersedia\": True\n",
    "    },\n",
    "    {\n",
    "        \"nama\": \"dr. Lisa Marlina\",\n",
    "        \"spesialis\": \"kulit\",\n",
    "        \"jadwal\": [\"Jumat\", \"Sabtu\"],\n",
    "        \"tersedia\": False\n",
    "    }\n",
    "]\n"
   ]
  },
  {
   "cell_type": "code",
   "execution_count": null,
   "id": "b524aa51",
   "metadata": {},
   "outputs": [],
   "source": [
    "from langchain_core.tools import tool\n",
    "\n",
    "@tool\n",
    "def doctor_lookup(spesialis: str, hari: str) -> str:\n",
    "    \"\"\"Cek apakah ada dokter dari spesialis tertentu yang tersedia di hari tertentu.\"\"\"\n",
    "    spesialis = spesialis.lower()\n",
    "    hari = hari.capitalize()\n",
    "\n",
    "    hasil = []\n",
    "    for dokter in doctor_db:\n",
    "        if spesialis in dokter[\"spesialis\"].lower() and hari in dokter[\"jadwal\"]:\n",
    "            status = \"tersedia\" if dokter[\"tersedia\"] else \"tidak tersedia\"\n",
    "            hasil.append(f\"{dokter['nama']} ({dokter['spesialis']}) tersedia hari {hari}: {status}\")\n",
    "    \n",
    "    if not hasil:\n",
    "        return f\"Tidak ditemukan dokter spesialis {spesialis} yang praktek hari {hari}.\"\n",
    "    return \"\\n\".join(hasil)\n"
   ]
  },
  {
   "cell_type": "code",
   "execution_count": 64,
   "id": "cc6500d6",
   "metadata": {},
   "outputs": [],
   "source": [
    "from langchain.agents import create_tool_calling_agent, AgentExecutor\n",
    "from langchain_core.prompts import ChatPromptTemplate, MessagesPlaceholder\n",
    "\n",
    "tools = [doctor_lookup, time_tool]\n",
    "\n",
    "prompt = ChatPromptTemplate.from_messages([\n",
    "    (\"system\", \"1. Jika pengguna tidak menyebutkan hari tertentu, tampilkan seluruh jadwal dokter yang tersedia, lengkap dengan nama dokter dan hari prakteknya. 2. Jika pengguna menyebutkan hari tertentu, tampilkan dokter yang praktek pada hari tersebut. 3. Selalu beri tahu hari ini hari apa sebelum memberikan jadwal dokter 4. Jika dibutuhkan untuk mendapatkan informasi tentang jadwal atau dokter, gunakan tools yang tersedia. 5.Jangan pernah bertanya ulang ke pengguna tentang hari — langsung beri informasi yang relevan.\"),\n",
    "    MessagesPlaceholder(variable_name=\"chat_history\"),\n",
    "    (\"user\", \"{input}\"),\n",
    "    MessagesPlaceholder(variable_name=\"agent_scratchpad\"),\n",
    "])\n",
    "\n",
    "agent = create_tool_calling_agent(llm, tools, prompt)\n",
    "agent_executor = AgentExecutor(agent=agent, tools=tools, verbose=True)\n"
   ]
  },
  {
   "cell_type": "code",
   "execution_count": 65,
   "id": "c25511ff",
   "metadata": {},
   "outputs": [],
   "source": [
    "def ask_dokter(prompt: str):\n",
    "    return agent_executor.invoke({\n",
    "        \"input\": prompt,\n",
    "        \"chat_history\": [],\n",
    "    })[\"output\"]\n"
   ]
  },
  {
   "cell_type": "code",
   "execution_count": 66,
   "id": "943cf6fb",
   "metadata": {},
   "outputs": [
    {
     "name": "stdout",
     "output_type": "stream",
     "text": [
      "\n",
      "\n",
      "\u001b[1m> Entering new AgentExecutor chain...\u001b[0m\n",
      "\u001b[32;1m\u001b[1;3m\n",
      "Invoking: `time_tool` with `{}`\n",
      "\n",
      "\n",
      "\u001b[0m\u001b[33;1m\u001b[1;3mSaat ini: Tuesday, 22 April 2025 pukul 15:08:06\u001b[0m\u001b[32;1m\u001b[1;3m\n",
      "Invoking: `doctor_lookup` with `{'hari': 'Selasa', 'spesialis': 'gigi'}`\n",
      "responded: Hari ini hari Selasa. Berikut jadwal dokter gigi yang tersedia:\n",
      "\n",
      "\u001b[0m\u001b[36;1m\u001b[1;3mdr. Sinta Dewi (gigi) tersedia hari Selasa: tidak tersedia\u001b[0m\u001b[32;1m\u001b[1;3mSaat ini hari Selasa, 22 April 2025. Dokter gigi yang tersedia pada hari Selasa adalah dr. Sinta Dewi, namun saat ini tidak tersedia.\u001b[0m\n",
      "\n",
      "\u001b[1m> Finished chain.\u001b[0m\n",
      "Saat ini hari Selasa, 22 April 2025. Dokter gigi yang tersedia pada hari Selasa adalah dr. Sinta Dewi, namun saat ini tidak tersedia.\n"
     ]
    }
   ],
   "source": [
    "print(ask_dokter(\"kapan dokter gigi praktek ?\"))"
   ]
  },
  {
   "cell_type": "code",
   "execution_count": 67,
   "id": "b6d2fcad",
   "metadata": {},
   "outputs": [
    {
     "name": "stdout",
     "output_type": "stream",
     "text": [
      "\n",
      "\n",
      "\u001b[1m> Entering new AgentExecutor chain...\u001b[0m\n",
      "\u001b[32;1m\u001b[1;3m\n",
      "Invoking: `time_tool` with `{}`\n",
      "\n",
      "\n",
      "\u001b[0m\u001b[33;1m\u001b[1;3mSaat ini: Tuesday, 22 April 2025 pukul 15:08:33\u001b[0m\u001b[32;1m\u001b[1;3m\n",
      "Invoking: `doctor_lookup` with `{'hari': 'Selasa', 'spesialis': 'umum'}`\n",
      "responded: Hari ini Selasa, 22 April 2025.\n",
      "\n",
      "\u001b[0m\u001b[36;1m\u001b[1;3mdr. Budi Hartono (umum) tersedia hari Selasa: tersedia\u001b[0m\u001b[32;1m\u001b[1;3mHari ini hari Selasa. dr. Budi Hartono (umum) tersedia hari ini.\u001b[0m\n",
      "\n",
      "\u001b[1m> Finished chain.\u001b[0m\n",
      "Hari ini hari Selasa. dr. Budi Hartono (umum) tersedia hari ini.\n"
     ]
    }
   ],
   "source": [
    "print(ask_dokter(\"Hari ini dokter umum tersedia enggak ?\"))"
   ]
  },
  {
   "cell_type": "markdown",
   "id": "6bec6dbe",
   "metadata": {},
   "source": [
    "### Tools Calling"
   ]
  },
  {
   "cell_type": "markdown",
   "id": "8d1f2b05",
   "metadata": {},
   "source": []
  }
 ],
 "metadata": {
  "kernelspec": {
   "display_name": "Python 3",
   "language": "python",
   "name": "python3"
  },
  "language_info": {
   "codemirror_mode": {
    "name": "ipython",
    "version": 3
   },
   "file_extension": ".py",
   "mimetype": "text/x-python",
   "name": "python",
   "nbconvert_exporter": "python",
   "pygments_lexer": "ipython3",
   "version": "3.11.0rc2"
  }
 },
 "nbformat": 4,
 "nbformat_minor": 5
}
