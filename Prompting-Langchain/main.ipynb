{
 "cells": [
  {
   "cell_type": "markdown",
   "id": "a82cabcf",
   "metadata": {},
   "source": [
    "## Config"
   ]
  },
  {
   "cell_type": "code",
   "execution_count": 10,
   "id": "9a5e2f6d",
   "metadata": {},
   "outputs": [],
   "source": [
    "import os\n",
    "from dotenv import load_dotenv\n",
    "from langchain_google_genai import ChatGoogleGenerativeAI\n",
    "from langchain_core.messages import HumanMessage\n",
    "\n",
    "load_dotenv()\n",
    "\n",
    "GOOGLE_API_KEY = os.getenv(\"GOOGLE_API_KEY\")\n",
    "\n",
    "llm = ChatGoogleGenerativeAI(\n",
    "    model=\"gemini-2.0-flash\",\n",
    "    google_api_key=GOOGLE_API_KEY,\n",
    "    temperature=0.7,\n",
    ")\n",
    "\n",
    "def ask(prompt: str):\n",
    "    return llm.invoke([HumanMessage(content=prompt)]).content\n",
    "\n",
    "\n"
   ]
  },
  {
   "cell_type": "markdown",
   "id": "5fe8a188",
   "metadata": {},
   "source": [
    "## Zero-Shot"
   ]
  },
  {
   "cell_type": "code",
   "execution_count": 2,
   "id": "c5108317",
   "metadata": {},
   "outputs": [
    {
     "name": "stdout",
     "output_type": "stream",
     "text": [
      "Jawaban 1:\n",
      " Prompt engineering, dalam konteks AI, adalah proses **merancang, mengembangkan, dan mengoptimalkan *prompt* (perintah atau input) yang diberikan kepada model AI, terutama model bahasa besar (LLM), untuk menghasilkan respons yang diinginkan dan berkualitas tinggi.**\n",
      "\n",
      "Sederhananya, ini seperti memberikan instruksi yang jelas dan efektif kepada model AI agar ia dapat memahami apa yang Anda inginkan dan memberikan jawaban yang sesuai.\n",
      "\n",
      "**Mengapa Prompt Engineering Penting?**\n",
      "\n",
      "* **Kualitas Output:** Kualitas prompt sangat memengaruhi kualitas output yang dihasilkan oleh model AI. Prompt yang dirancang dengan baik dapat menghasilkan jawaban yang lebih akurat, relevan, koheren, dan informatif.\n",
      "* **Kontrol:** Prompt engineering memungkinkan Anda untuk mengendalikan arah dan gaya respons yang dihasilkan oleh model AI. Anda dapat mengatur nada, format, dan tingkat detail jawaban.\n",
      "* **Efisiensi:** Dengan prompt yang tepat, Anda dapat menghindari iterasi yang berlebihan dan mendapatkan hasil yang diinginkan lebih cepat.\n",
      "* **Mengatasi Batasan Model:** Prompt engineering dapat digunakan untuk mengatasi beberapa batasan model AI, seperti kecenderungan untuk berhalusinasi (membuat informasi palsu) atau bias.\n",
      "* **Aplikasi Luas:** Prompt engineering diterapkan dalam berbagai aplikasi, termasuk:\n",
      "    * **Pembuatan Konten:** Menulis artikel, cerita, puisi, dan skrip.\n",
      "    * **Penerjemahan Bahasa:** Menerjemahkan teks dengan akurat dan lancar.\n",
      "    * **Summarization:** Meringkas teks panjang menjadi ringkasan yang lebih pendek dan ringkas.\n",
      "    * **Chatbots:** Membuat chatbot yang lebih interaktif dan responsif.\n",
      "    * **Coding:** Menghasilkan kode program berdasarkan deskripsi bahasa alami.\n",
      "    * **Analisis Sentimen:** Menganalisis sentimen dalam teks.\n",
      "\n",
      "**Elemen-Elemen Penting dalam Prompt Engineering:**\n",
      "\n",
      "* **Kejelasan dan Spesifisitas:** Prompt harus jelas, ringkas, dan spesifik tentang apa yang Anda inginkan. Hindari ambiguitas dan gunakan bahasa yang mudah dipahami oleh model AI.\n",
      "* **Kontekstualisasi:** Menyediakan konteks yang relevan untuk membantu model AI memahami pertanyaan atau permintaan Anda dengan lebih baik.\n",
      "* **Format:** Menentukan format output yang Anda inginkan (misalnya, daftar, paragraf, kode program).\n",
      "* **Batasan:** Menetapkan batasan atau aturan yang harus diikuti oleh model AI (misalnya, batasan jumlah kata, batasan topik).\n",
      "* **Contoh:** Memberikan contoh output yang diinginkan untuk membantu model AI memahami apa yang Anda harapkan.\n",
      "* **Persona:** Menetapkan peran atau persona untuk model AI (misalnya, \"Anda adalah seorang ahli sejarah yang menjawab pertanyaan tentang Perang Dunia II\").\n",
      "\n",
      "**Contoh Prompt Engineering:**\n",
      "\n",
      "**Prompt Buruk:** \"Tulis tentang kucing.\"\n",
      "\n",
      "**Prompt Lebih Baik:** \"Tulis paragraf pendek tentang karakteristik fisik dan perilaku kucing domestik. Fokus pada perbedaan antara kucing rumahan dan kucing liar.\"\n",
      "\n",
      "**Prompt Terbaik (dengan beberapa elemen):** \"Anda adalah seorang ahli biologi yang menjelaskan tentang kucing domestik. Tulis paragraf pendek yang menjelaskan karakteristik fisik dan perilaku kucing domestik, dengan fokus pada perbedaan antara kucing rumahan dan kucing liar. Gunakan gaya bahasa ilmiah, tetapi mudah dipahami oleh pembaca awam. Batasi panjang paragraf hingga 100 kata.\"\n",
      "\n",
      "**Kesimpulan:**\n",
      "\n",
      "Prompt engineering adalah keterampilan penting dalam era AI. Dengan menguasai teknik ini, Anda dapat memanfaatkan potensi model AI secara maksimal dan menghasilkan output yang berkualitas tinggi untuk berbagai aplikasi. Ini adalah bidang yang terus berkembang seiring dengan perkembangan model AI, dan eksplorasi serta eksperimen adalah kunci untuk menjadi seorang prompt engineer yang efektif.\n"
     ]
    }
   ],
   "source": [
    "# Langkah 1: Buat prompt Zero-Shot\n",
    "prompt_1 = \"Apa itu Prompt Engineering dalam konteks AI?\"\n",
    "\n",
    "# Langkah 2: Kirim prompt ke model\n",
    "response_1 = ask(prompt_1)\n",
    "\n",
    "# Langkah 4: Tampilkan hasil\n",
    "print(\"Jawaban 1:\\n\", response_1)"
   ]
  },
  {
   "cell_type": "markdown",
   "id": "dbd6c333",
   "metadata": {},
   "source": [
    "## Few-Shot "
   ]
  },
  {
   "cell_type": "code",
   "execution_count": 3,
   "id": "ec6430af",
   "metadata": {},
   "outputs": [],
   "source": [
    "from langchain.prompts import FewShotPromptTemplate, PromptTemplate"
   ]
  },
  {
   "cell_type": "code",
   "execution_count": 4,
   "id": "c5401f3f",
   "metadata": {},
   "outputs": [],
   "source": [
    "prompt = \"\"\"\n",
    "Ubah format tanggal berikut dari DD-MM-YYYY ke YYYY/MM/DD:  \n",
    "\n",
    "Contoh 1:  \n",
    "Input: \"25-12-2023\"  \n",
    "Output: \"2023/12/25\"  \n",
    "\n",
    "Contoh 2:  \n",
    "Input: \"01-01-2024\"  \n",
    "Output: \"2024/01/01\"  \n",
    "\n",
    "Sekarang ubah ini:  \n",
    "Input: \"15-05-1998\"  \n",
    "Output:  \n",
    "\"\"\""
   ]
  },
  {
   "cell_type": "code",
   "execution_count": 5,
   "id": "ba99b2d9",
   "metadata": {},
   "outputs": [
    {
     "name": "stdout",
     "output_type": "stream",
     "text": [
      "Jawaban :\n",
      " 1998/05/15\n"
     ]
    }
   ],
   "source": [
    "response = ask(prompt)\n",
    "print(\"Jawaban :\\n\", response)"
   ]
  },
  {
   "cell_type": "markdown",
   "id": "0a993487",
   "metadata": {},
   "source": [
    "## Self-Consistency \n"
   ]
  },
  {
   "cell_type": "code",
   "execution_count": 11,
   "id": "8e77c8cd",
   "metadata": {},
   "outputs": [
    {
     "name": "stdout",
     "output_type": "stream",
     "text": [
      "1. Model dengan temperature 0.3 jawab: Ini adalah teka-teki! Jawabannya bukan 9.\n",
      "\n",
      "Kemungkinan jawabannya adalah:\n",
      "\n",
      "*   **Tidak ada (0):** Suara tembakan akan menakutkan semua burung yang lain, sehingga mereka akan terbang menjauh.\n",
      "*   **Satu:** Burung yang ditembak jatuh, dan burung lainnya tidak peduli. (Kemungkinan kecil)\n",
      "\n",
      "Jadi, jawaban yang paling umum dan lucu adalah **0**.\n",
      "2. Model dengan temperature 0.5 jawab: Ini adalah teka-teki! Jawabannya bukan 9.\n",
      "\n",
      "Kemungkinan jawabannya adalah:\n",
      "\n",
      "*   **Tidak ada (0):** Suara tembakan akan menakutkan semua burung yang lain, dan mereka akan terbang menjauh.\n",
      "*   **Satu:** Mungkin saja burung yang ditembak adalah satu-satunya burung yang tersisa karena yang lain sudah terbang duluan.\n",
      "\n",
      "Teka-teki ini mengandalkan pemikiran di luar kotak dan mempertimbangkan reaksi burung-burung lain terhadap suara tembakan.\n",
      "3. Model dengan temperature 0.7 jawab: Ini adalah teka-teki! Jawabannya bukan 9.\n",
      "\n",
      "Kemungkinan jawabannya adalah:\n",
      "\n",
      "*   **Tidak ada.** Bunyi tembakan akan membuat semua burung lainnya terbang.\n",
      "*   **Satu.** Jika burung yang ditembak adalah satu-satunya burung yang terkena, yang lain mungkin tetap di sana karena bingung atau penasaran.\n",
      "*   **Tergantung.** Tergantung pada seberapa keras suara tembakan, jenis burung, dan faktor lainnya.\n",
      "\n",
      "Jadi, jawaban yang paling umum diharapkan adalah **tidak ada**.\n",
      "4. Model dengan temperature 0.9 jawab: Ini adalah teka-teki! Jawabannya bukan 9. Kemungkinan jawabannya adalah:\n",
      "\n",
      "*   **Tidak ada (0):** Suara tembakan akan menakutkan semua burung lainnya, dan mereka akan terbang menjauh.\n",
      "*   **Satu:** Burung yang tertembak akan jatuh dari pohon.\n",
      "*   **Tergantung:** Tergantung pada jenis burungnya, seberapa keras suara tembakannya, dan kondisi lingkungan sekitar, burung-burung lain mungkin tetap di pohon atau terbang pergi.\n"
     ]
    }
   ],
   "source": [
    "from langchain_google_genai import ChatGoogleGenerativeAI\n",
    "from langchain.schema import HumanMessage\n",
    "\n",
    "\n",
    "# Buat list LLM dengan berbagai temperature\n",
    "temperatures = [0.3, 0.5, 0.7, 0.9]\n",
    "models = [\n",
    "    ChatGoogleGenerativeAI(\n",
    "        model=\"gemini-2.0-flash\",\n",
    "        google_api_key=GOOGLE_API_KEY,\n",
    "        temperature=temp\n",
    "    ) for temp in temperatures\n",
    "]\n",
    "\n",
    "# Pertanyaan\n",
    "question = \"Apabila di pohon ada 10 burung, ditembak 1, sisanya berapa?\"\n",
    "\n",
    "# Loop dan tampilkan hasil\n",
    "for idx, (temp, llm) in enumerate(zip(temperatures, models), 1):\n",
    "    response = llm.invoke([HumanMessage(content=question)]).content\n",
    "    print(f\"{idx}. Model dengan temperature {temp} jawab: {response}\")\n"
   ]
  },
  {
   "cell_type": "markdown",
   "id": "351c39a4",
   "metadata": {},
   "source": [
    "## Chain Of Thought"
   ]
  },
  {
   "cell_type": "code",
   "execution_count": 29,
   "id": "58991477",
   "metadata": {},
   "outputs": [],
   "source": [
    "def classify_email_with_cot(email_text: str):\n",
    "    cot_prompt = f\"\"\"\n",
    "    You are an email classifier. Think through each step before deciding on the category.\n",
    "\n",
    "    Classify the following email into one of the categories:\n",
    "    - Personal\n",
    "    - Work\n",
    "    - Promotion\n",
    "    - Spam\n",
    "\n",
    "    Email: \"{email_text}\"\n",
    "\n",
    "    Step-by-step reasoning:\n",
    "    1. What is the email about?\n",
    "    2. Who might be sending this kind of email?\n",
    "    3. What is the likely purpose of the email?\n",
    "    4. Based on this reasoning, which category fits best?\n",
    "\n",
    "    Answer:\n",
    "    \"\"\"\n",
    "    return ask(cot_prompt)\n"
   ]
  },
  {
   "cell_type": "code",
   "execution_count": 30,
   "id": "94183e1e",
   "metadata": {},
   "outputs": [
    {
     "name": "stdout",
     "output_type": "stream",
     "text": [
      "1.  The email is about Black Friday deals and discounts.\n",
      "2.  Retail companies or businesses selling products/services are likely to send this type of email.\n",
      "3.  The purpose is to promote sales and attract customers to make purchases.\n",
      "4.  Therefore, the most appropriate category is **Promotion**.\n"
     ]
    }
   ],
   "source": [
    "print(classify_email_with_cot(\"Don't miss our Black Friday deals – up to 80% off!\"))\n"
   ]
  },
  {
   "cell_type": "code",
   "execution_count": 35,
   "id": "24109c24",
   "metadata": {},
   "outputs": [
    {
     "name": "stdout",
     "output_type": "stream",
     "text": [
      "1.  **What is the email about?** The email is a welcome message to new members of the Siloam AI team, providing details about an introductory meeting.\n",
      "\n",
      "2.  **Who might be sending this kind of email?** The email is sent from the recruitment team of a company named PT. BitHealth Teknologi Pintar.\n",
      "\n",
      "3.  **What is the likely purpose of the email?** The purpose is to inform new team members about their welcome meeting and encourage their participation.\n",
      "\n",
      "4.  **Based on this reasoning, which category fits best?** The email is clearly related to onboarding new employees at a company. Therefore, it falls under the **Work** category.\n",
      "\n",
      "Answer: Work\n"
     ]
    }
   ],
   "source": [
    "email = \"\"\"Dear All,\n",
    "\n",
    "We are excited to welcome you to Siloam AI team! Please meet the team:\n",
    "\n",
    "Date: Monday, April 21st 2025\n",
    "Time: 1:30 PM - end\n",
    "Location: online via Gmeet\n",
    "\n",
    "Looking forward to your participation and collaboration. \n",
    "\n",
    "Best regards, \n",
    "Dira\n",
    "Recruitment Team | PT. BitHealth Teknologi Pintar\n",
    "When\n",
    "Monday Apr 21, 2025 ⋅ 1:30pm – 3pm (Western Indonesia Time - Jakarta)\n",
    "Organizer\n",
    "Nurul Undira\"\"\"\n",
    "\n",
    "print(classify_email_with_cot(email))"
   ]
  },
  {
   "cell_type": "markdown",
   "id": "2d4d4b33",
   "metadata": {},
   "source": [
    "## Tree of Thought"
   ]
  },
  {
   "cell_type": "code",
   "execution_count": null,
   "id": "7d273500",
   "metadata": {},
   "outputs": [],
   "source": [
    "import os\n",
    "from dotenv import load_dotenv\n",
    "from langchain_google_genai import ChatGoogleGenerativeAI\n",
    "from langchain.prompts import PromptTemplate\n",
    "from langchain.chains import LLMChain, SequentialChain\n",
    "\n",
    "\"\"\" \n",
    "Susun Solusi Awal -> Evaluasi Solusi -> Pendalaman Strategi -> Ranking Solusi\n",
    "\"\"\"\n"
   ]
  },
  {
   "cell_type": "code",
   "execution_count": null,
   "id": "ae40292a",
   "metadata": {},
   "outputs": [],
   "source": [
    "# Langkah 1: Susun Solusi Awal\n",
    "template1 = \"\"\"Langkah 1:\n",
    "\n",
    "Saya sedang menghadapi masalah berikut: \"{input}\"  \n",
    "Dengan mempertimbangkan faktor-faktor ini: {perfect_factors}  \n",
    "Bisakah kamu membantu saya menyusun tiga ide solusi yang berbeda? Buatlah masing-masing dengan pendekatan yang unik dan logis.\n",
    "\n",
    "Jawaban:\"\"\"\n",
    "\n",
    "prompt1 = PromptTemplate(\n",
    "    input_variables=[\"input\", \"perfect_factors\"],\n",
    "    template=template1\n",
    ")\n",
    "\n",
    "chain1 = LLMChain(\n",
    "    llm=llm,\n",
    "    prompt=prompt1,\n",
    "    output_key=\"solutions\"\n",
    ")"
   ]
  },
  {
   "cell_type": "code",
   "execution_count": null,
   "id": "1d110539",
   "metadata": {},
   "outputs": [],
   "source": [
    "\n",
    "# Langkah 2: Evaluasi Solusi\n",
    "template2 = \"\"\"Langkah 2:\n",
    "\n",
    "Berikut adalah tiga solusi yang sudah diusulkan:  \n",
    "{solutions}  \n",
    "\n",
    "Sekarang, tolong nilai masing-masing solusi tersebut. Sebutkan:\n",
    "- Kelebihan dan kekurangannya\n",
    "- Kesulitan implementasi\n",
    "- Tantangan yang mungkin muncul\n",
    "- Peluang keberhasilan\n",
    "- Tingkat keyakinan kamu terhadap solusi itu\n",
    "\n",
    "Jawaban:\"\"\"\n",
    "\n",
    "prompt2 = PromptTemplate(\n",
    "    input_variables=[\"solutions\"],\n",
    "    template=template2\n",
    ")\n",
    "\n",
    "chain2 = LLMChain(\n",
    "    llm=llm,\n",
    "    prompt=prompt2,\n",
    "    output_key=\"review\"\n",
    ")\n"
   ]
  },
  {
   "cell_type": "code",
   "execution_count": null,
   "id": "da8d847c",
   "metadata": {},
   "outputs": [],
   "source": [
    "# Langkah 3: Pendalaman Strategi\n",
    "template3 = \"\"\"Langkah 3:\n",
    "\n",
    "Mari kita gali lebih dalam. Untuk setiap solusi, uraikan:\n",
    "- Strategi pelaksanaan\n",
    "- Sumber daya atau kerja sama yang dibutuhkan\n",
    "- Cara mengatasi tantangan yang mungkin muncul\n",
    "- Kemungkinan dampak tak terduga dan cara menghadapinya\n",
    "\n",
    "{review}\n",
    "\n",
    "Jawaban:\"\"\"\n",
    "\n",
    "prompt3 = PromptTemplate(\n",
    "    input_variables=[\"review\"],\n",
    "    template=template3\n",
    ")\n",
    "\n",
    "chain3 = LLMChain(\n",
    "    llm=llm,\n",
    "    prompt=prompt3,\n",
    "    output_key=\"deepen_thought_process\"\n",
    ")"
   ]
  },
  {
   "cell_type": "code",
   "execution_count": null,
   "id": "dcb59d66",
   "metadata": {},
   "outputs": [],
   "source": [
    "# Langkah 4: Ranking Solusi\n",
    "template4 = \"\"\"Langkah 4:\n",
    "\n",
    "Dari hasil evaluasi dan pendalaman tadi, tolong urutkan solusi dari yang paling menjanjikan.  \n",
    "Jelaskan alasan pemilihan urutan tersebut dan berikan saran akhir untuk masing-masing solusi.\n",
    "\n",
    "{deepen_thought_process}\n",
    "\n",
    "Jawaban:\"\"\"\n",
    "\n",
    "prompt4 = PromptTemplate(\n",
    "    input_variables=[\"deepen_thought_process\"],\n",
    "    template=template4\n",
    ")\n",
    "\n",
    "chain4 = LLMChain(\n",
    "    llm=llm,\n",
    "    prompt=prompt4,\n",
    "    output_key=\"ranked_solutions\"\n",
    ")"
   ]
  },
  {
   "cell_type": "code",
   "execution_count": null,
   "id": "be2fcbc0",
   "metadata": {},
   "outputs": [],
   "source": [
    "# Tree of Thought Chain\n",
    "tree_of_thought_chain = SequentialChain(\n",
    "    chains=[chain1, chain2, chain3, chain4],\n",
    "    input_variables=[\"input\", \"perfect_factors\"],\n",
    "    output_variables=[\"ranked_solutions\"],\n",
    "    verbose=True\n",
    ")"
   ]
  },
  {
   "cell_type": "code",
   "execution_count": null,
   "id": "880b2ded",
   "metadata": {},
   "outputs": [],
   "source": [
    "# Contoh Eksekusi\n",
    "result = tree_of_thought_chain({\n",
    "        \"input\": \"mengurangi kemacetan di kota besar tanpa membangun jalan baru\",\n",
    "        \"perfect_factors\": \"Kota ini sudah sangat padat penduduk, lahan terbatas, dan pendanaan pemerintah terbatas.\"\n",
    "})\n",
    "\n",
    "print(\"\\n=== HASIL AKHIR (Ranking Solusi) ===\\n\")\n",
    "print(result[\"ranked_solutions\"])"
   ]
  },
  {
   "cell_type": "markdown",
   "id": "4d6466fa",
   "metadata": {},
   "source": [
    "## Automatic Prompt Engineer"
   ]
  },
  {
   "cell_type": "code",
   "execution_count": 63,
   "id": "51bf9e75",
   "metadata": {},
   "outputs": [],
   "source": [
    "email = \"\"\"Dear All,\n",
    "\n",
    "We are excited to welcome you to Siloam AI team! Please meet the team:\n",
    "\n",
    "Date: Monday, April 21st 2025\n",
    "Time: 1:30 PM - end\n",
    "Location: online via Gmeet\n",
    "\n",
    "Looking forward to your participation and collaboration. \n",
    "\n",
    "Best regards, \n",
    "Dira\n",
    "Recruitment Team | PT. BitHealth Teknologi Pintar\n",
    "When\n",
    "Monday Apr 21, 2025 ⋅ 1:30pm – 3pm (Western Indonesia Time - Jakarta)\n",
    "Organizer\n",
    "Nurul Undira\"\"\""
   ]
  },
  {
   "cell_type": "code",
   "execution_count": null,
   "id": "ee371720",
   "metadata": {},
   "outputs": [],
   "source": [
    "def generate_prompt_candidates(n=3):\n",
    "    prompt = f\"\"\"\n",
    "You are an expert prompt engineer.\n",
    "\n",
    "Task: Create {n} different prompts to classify an email into one of the following categories:\n",
    "- Personal\n",
    "- Work\n",
    "- Promotion\n",
    "- Spam\n",
    "\n",
    "Each prompt should guide the model to think before answering, include instructions if needed, and allow classification of complex real-world emails.\n",
    "\n",
    "Use \"{{email}}\" as placeholder for the input email.\n",
    "\n",
    "Format:\n",
    "PROMPT 1: ...\n",
    "PROMPT 2: ...\n",
    "PROMPT 3: ...\n",
    "\"\"\"\n",
    "    return ask(prompt)\n",
    "\n"
   ]
  },
  {
   "cell_type": "code",
   "execution_count": 67,
   "id": "045c734f",
   "metadata": {},
   "outputs": [],
   "source": [
    "# 3. Ekstrak prompt individual dari teks yang dihasilkan\n",
    "def extract_prompts(candidates_text, n=3):\n",
    "    prompt_list = []\n",
    "    for i in range(1, n + 1):\n",
    "        start = f\"PROMPT {i}:\"\n",
    "        end = f\"PROMPT {i+1}:\" if i < n else None\n",
    "        section = candidates_text.split(start)[1]\n",
    "        prompt = section.split(end)[0].strip() if end else section.strip()\n",
    "        prompt_list.append(prompt)\n",
    "    return prompt_list"
   ]
  },
  {
   "cell_type": "code",
   "execution_count": null,
   "id": "fdd87bd1",
   "metadata": {},
   "outputs": [],
   "source": [
    "# 4. Evaluasi prompt terhadap email\n",
    "def evaluate_prompts(prompt_list, test_email):\n",
    "    results = []\n",
    "    for i, prompt_template in enumerate(prompt_list, 1):\n",
    "        filled_prompt = prompt_template.replace(\"{email}\", test_email)\n",
    "        print(f\"\\n================= PROMPT {i} =================\\n{prompt_template}\")\n",
    "        print(f\"\\nFilled Prompt:\\n{filled_prompt}\")\n",
    "\n",
    "        output = ask(filled_prompt)\n",
    "        print(f\"\\n Model Output:\\n{output.strip()}\")\n",
    "        results.append((f\"PROMPT {i}\", output.strip()))\n",
    "    return results"
   ]
  },
  {
   "cell_type": "code",
   "execution_count": 69,
   "id": "8032cefc",
   "metadata": {},
   "outputs": [],
   "source": [
    "# 5. Analisis hasil dengan voting label terbanyak\n",
    "def analyze_results(results):\n",
    "    labels = [r[1].split()[-1].replace(\".\", \"\") for r in results]\n",
    "    most_common = Counter(labels).most_common(1)[0]\n",
    "    return most_common, labels"
   ]
  },
  {
   "cell_type": "code",
   "execution_count": null,
   "id": "0cd9682b",
   "metadata": {},
   "outputs": [
    {
     "name": "stdout",
     "output_type": "stream",
     "text": [
      "\n",
      "================= PROMPT 1 =================\n",
      "**\n",
      "\n",
      "First, analyze the email provided below and identify key indicators such as sender, recipient, subject line, keywords, and the overall tone. Consider the context: Is this email from a known contact? Does it relate to your professional responsibilities? Does it advertise a product or service? Does it contain suspicious links or requests? Classify the email into one of the following categories: Personal, Work, Promotion, or Spam. Justify your classification with specific reasons based on your analysis.\n",
      "\n",
      "Email: {email}\n",
      "\n",
      "Classification (choose one): Personal, Work, Promotion, Spam\n",
      "Justification:\n",
      "**\n",
      "\n",
      "➡️ Filled Prompt:\n",
      "**\n",
      "\n",
      "First, analyze the email provided below and identify key indicators such as sender, recipient, subject line, keywords, and the overall tone. Consider the context: Is this email from a known contact? Does it relate to your professional responsibilities? Does it advertise a product or service? Does it contain suspicious links or requests? Classify the email into one of the following categories: Personal, Work, Promotion, or Spam. Justify your classification with specific reasons based on your analysis.\n",
      "\n",
      "Email: Dear All,\n",
      "\n",
      "We are excited to welcome you to Siloam AI team! Please meet the team:\n",
      "\n",
      "Date: Monday, April 21st 2025\n",
      "Time: 1:30 PM - end\n",
      "Location: online via Gmeet\n",
      "\n",
      "Looking forward to your participation and collaboration. \n",
      "\n",
      "Best regards, \n",
      "Dira\n",
      "Recruitment Team | PT. BitHealth Teknologi Pintar\n",
      "When\n",
      "Monday Apr 21, 2025 ⋅ 1:30pm – 3pm (Western Indonesia Time - Jakarta)\n",
      "Organizer\n",
      "Nurul Undira\n",
      "\n",
      "Classification (choose one): Personal, Work, Promotion, Spam\n",
      "Justification:\n",
      "**\n",
      "\n",
      "🧠 Model Output:\n",
      "**Classification:** Work\n",
      "\n",
      "**Justification:**\n",
      "\n",
      "*   **Sender:** Dira, from the Recruitment Team at PT. BitHealth Teknologi Pintar. This suggests a formal, work-related communication.\n",
      "*   **Recipient:** \"Dear All\" indicates a group email, typical in a professional setting.\n",
      "*   **Subject:** While not explicitly stated, the content clearly implies a welcome to the Siloam AI team, indicating a new job or team assignment.\n",
      "*   **Keywords:** \"Siloam AI team,\" \"Recruitment Team,\" \"PT. BitHealth Teknologi Pintar,\" \"participation,\" \"collaboration,\" \"Gmeet\" all point to a professional context.\n",
      "*   **Overall Tone:** The tone is formal and welcoming, typical of a communication from a recruitment team.\n",
      "*   **Context:** The email outlines a meeting date, time, and location, which are standard details for onboarding or team introductions in a professional environment.\n",
      "*   **Absence of Suspicious Elements:** The email doesn't contain any suspicious links or requests for sensitive information. It provides concrete details about a meeting.\n",
      "*   **Relates to Professional Responsibilities:** The email directly relates to potential work responsibilities within the Siloam AI team.\n",
      "\n",
      "================= PROMPT 2 =================\n",
      "**\n",
      "\n",
      "You are an AI email classifier designed to categorize emails with high accuracy. Before providing a final classification, consider the following questions:\n",
      "\n",
      "1.  **Sender Analysis:** Who is the sender? Is the sender known, unknown, or potentially malicious?\n",
      "2.  **Content Analysis:** What is the primary purpose of the email? Is it a personal communication, a work-related request, an advertisement, or something else?\n",
      "3.  **Subject Line Analysis:** Is the subject line relevant to the content? Is it misleading or suspicious?\n",
      "4.  **Call to Action Analysis:** Does the email contain a call to action? If so, what is it and is it legitimate?\n",
      "5.  **Link Analysis:** Does the email contain any links? If so, where do they lead and are they trustworthy?\n",
      "6.  **Tone Analysis:** What is the tone of the email? Is it formal, informal, urgent, or suspicious?\n",
      "\n",
      "Based on your answers to these questions, classify the following email as either Personal, Work, Promotion, or Spam. Explain your choice.\n",
      "\n",
      "Email: {email}\n",
      "\n",
      "Classification (choose one): Personal, Work, Promotion, Spam\n",
      "Explanation:\n",
      "**\n",
      "\n",
      "➡️ Filled Prompt:\n",
      "**\n",
      "\n",
      "You are an AI email classifier designed to categorize emails with high accuracy. Before providing a final classification, consider the following questions:\n",
      "\n",
      "1.  **Sender Analysis:** Who is the sender? Is the sender known, unknown, or potentially malicious?\n",
      "2.  **Content Analysis:** What is the primary purpose of the email? Is it a personal communication, a work-related request, an advertisement, or something else?\n",
      "3.  **Subject Line Analysis:** Is the subject line relevant to the content? Is it misleading or suspicious?\n",
      "4.  **Call to Action Analysis:** Does the email contain a call to action? If so, what is it and is it legitimate?\n",
      "5.  **Link Analysis:** Does the email contain any links? If so, where do they lead and are they trustworthy?\n",
      "6.  **Tone Analysis:** What is the tone of the email? Is it formal, informal, urgent, or suspicious?\n",
      "\n",
      "Based on your answers to these questions, classify the following email as either Personal, Work, Promotion, or Spam. Explain your choice.\n",
      "\n",
      "Email: Dear All,\n",
      "\n",
      "We are excited to welcome you to Siloam AI team! Please meet the team:\n",
      "\n",
      "Date: Monday, April 21st 2025\n",
      "Time: 1:30 PM - end\n",
      "Location: online via Gmeet\n",
      "\n",
      "Looking forward to your participation and collaboration. \n",
      "\n",
      "Best regards, \n",
      "Dira\n",
      "Recruitment Team | PT. BitHealth Teknologi Pintar\n",
      "When\n",
      "Monday Apr 21, 2025 ⋅ 1:30pm – 3pm (Western Indonesia Time - Jakarta)\n",
      "Organizer\n",
      "Nurul Undira\n",
      "\n",
      "Classification (choose one): Personal, Work, Promotion, Spam\n",
      "Explanation:\n",
      "**\n",
      "\n",
      "🧠 Model Output:\n",
      "**Classification:** Work\n",
      "\n",
      "**Explanation:**\n",
      "\n",
      "Here's a breakdown of the analysis based on the questions provided:\n",
      "\n",
      "1.  **Sender Analysis:** The sender is \"Dira Recruitment Team | PT. BitHealth Teknologi Pintar\". This identifies a company and a specific team within it, suggesting a professional context. The organizer is Nurul Undira, which aligns with the stated sender.\n",
      "\n",
      "2.  **Content Analysis:** The primary purpose of the email is to welcome the recipient to the Siloam AI team and invite them to a meeting to meet the team. This strongly indicates a work-related communication.\n",
      "\n",
      "3.  **Subject Line Analysis:** While the subject line isn't provided in the prompt, we can infer it is likely something along the lines of \"Welcome to Siloam AI Team\" or \"Siloam AI Team Introduction Meeting\". Such a subject line would be relevant to the content.\n",
      "\n",
      "4.  **Call to Action Analysis:** The email contains a call to action: \"Looking forward to your participation and collaboration.\" This is a standard expectation in a work environment. The invitation to the meeting is also a form of call to action.\n",
      "\n",
      "5.  **Link Analysis:** The email mentions \"online via Gmeet,\" suggesting a Google Meet link would likely be provided in the actual email (though not explicitly shown in the provided snippet). If present, a Gmeet link from a known sender is usually trustworthy.\n",
      "\n",
      "6.  **Tone Analysis:** The tone is formal and welcoming, appropriate for introducing a new team member.\n",
      "\n",
      "Given all these points, the email is clearly a work-related communication. It welcomes the recipient to a new team, invites them to a meeting, and expresses anticipation for their participation. Therefore, \"Work\" is the most appropriate classification.\n",
      "\n",
      "================= PROMPT 3 =================\n",
      "**\n",
      "\n",
      "Imagine you are a highly skilled email assistant tasked with organizing a user's inbox. Your goal is to categorize each email accurately to optimize the user's workflow. Consider the following rules:\n",
      "\n",
      "*   **Personal:** Emails from friends, family, or personal contacts.\n",
      "*   **Work:** Emails related to professional responsibilities, projects, or colleagues.\n",
      "*   **Promotion:** Emails advertising products, services, or events.\n",
      "*   **Spam:** Unsolicited or malicious emails, often containing suspicious links or requests.\n",
      "\n",
      "Carefully analyze the email below, paying attention to the sender, subject, content, and any links or attachments. If an email contains elements of multiple categories, prioritize based on the primary intent. For example, a work email with a promotional element would still be classified as 'Work'. Provide the classification and a concise explanation of your reasoning.\n",
      "\n",
      "Email: {email}\n",
      "\n",
      "Classification (choose one): Personal, Work, Promotion, Spam\n",
      "Reasoning:\n",
      "\n",
      "➡️ Filled Prompt:\n",
      "**\n",
      "\n",
      "Imagine you are a highly skilled email assistant tasked with organizing a user's inbox. Your goal is to categorize each email accurately to optimize the user's workflow. Consider the following rules:\n",
      "\n",
      "*   **Personal:** Emails from friends, family, or personal contacts.\n",
      "*   **Work:** Emails related to professional responsibilities, projects, or colleagues.\n",
      "*   **Promotion:** Emails advertising products, services, or events.\n",
      "*   **Spam:** Unsolicited or malicious emails, often containing suspicious links or requests.\n",
      "\n",
      "Carefully analyze the email below, paying attention to the sender, subject, content, and any links or attachments. If an email contains elements of multiple categories, prioritize based on the primary intent. For example, a work email with a promotional element would still be classified as 'Work'. Provide the classification and a concise explanation of your reasoning.\n",
      "\n",
      "Email: Dear All,\n",
      "\n",
      "We are excited to welcome you to Siloam AI team! Please meet the team:\n",
      "\n",
      "Date: Monday, April 21st 2025\n",
      "Time: 1:30 PM - end\n",
      "Location: online via Gmeet\n",
      "\n",
      "Looking forward to your participation and collaboration. \n",
      "\n",
      "Best regards, \n",
      "Dira\n",
      "Recruitment Team | PT. BitHealth Teknologi Pintar\n",
      "When\n",
      "Monday Apr 21, 2025 ⋅ 1:30pm – 3pm (Western Indonesia Time - Jakarta)\n",
      "Organizer\n",
      "Nurul Undira\n",
      "\n",
      "Classification (choose one): Personal, Work, Promotion, Spam\n",
      "Reasoning:\n",
      "\n",
      "🧠 Model Output:\n",
      "**Classification:** Work\n",
      "**Reasoning:** The email is from a recruitment team at a company (PT. BitHealth Teknologi Pintar) and welcomes recipients to an AI team. It includes meeting details, indicating it's related to onboarding or work-related introduction. Therefore, it falls under the \"Work\" category.\n",
      "\n",
      "✅ Most consistent label: team (1 votes)\n"
     ]
    }
   ],
   "source": [
    "# Step A: Generate prompt candidates\n",
    "candidate_text = generate_prompt_candidates(n=3)\n",
    "\n",
    "# Step B: Parse jadi list of prompt strings\n",
    "prompt_list = extract_prompts(candidate_text)\n",
    "\n",
    "# Step C: Uji semua prompt ke email Siloam\n",
    "results = evaluate_prompts(prompt_list, email)\n",
    "\n",
    "# Step D: Ambil label terbanyak\n",
    "most_common_label, all_labels = analyze_results(results)\n",
    "\n",
    "print(f\"\\n Most consistent label: {most_common_label[0]} ({most_common_label[1]} votes)\")"
   ]
  },
  {
   "cell_type": "markdown",
   "id": "939d59cd",
   "metadata": {},
   "source": [
    "## Program-Aided Language Models"
   ]
  },
  {
   "cell_type": "code",
   "execution_count": null,
   "id": "ce767ca2",
   "metadata": {},
   "outputs": [],
   "source": [
    "prompt = \"\"\"\n",
    "You are a Python expert.\n",
    "\n",
    "Write a Python function called `solve()` that calculates the kinetic energy\n",
    "of an object with mass = 75 kg and velocity = 20 m/s.\n",
    "\n",
    "Use the formula: Ek = 0.5 * mass * velocity^2\n",
    "\n",
    "Just output the function code.\n",
    "\"\"\""
   ]
  },
  {
   "cell_type": "code",
   "execution_count": 78,
   "id": "2935186e",
   "metadata": {},
   "outputs": [
    {
     "name": "stdout",
     "output_type": "stream",
     "text": [
      "🧠 Generated Code:\n",
      "\n",
      "```python\n",
      "def solve():\n",
      "    \"\"\"Calculates the kinetic energy of an object.\n",
      "\n",
      "    Returns:\n",
      "        float: The kinetic energy of the object in Joules.\n",
      "    \"\"\"\n",
      "    mass = 75  # kg\n",
      "    velocity = 20  # m/s\n",
      "    kinetic_energy = 0.5 * mass * (velocity ** 2)\n",
      "    return kinetic_energy\n",
      "```\n"
     ]
    }
   ],
   "source": [
    "generated_code = ask(prompt)\n",
    "\n",
    "print(\"🧠 Generated Code:\\n\")\n",
    "print(generated_code)\n",
    "\n"
   ]
  },
  {
   "cell_type": "code",
   "execution_count": 79,
   "id": "591d193b",
   "metadata": {},
   "outputs": [],
   "source": [
    "def solve():\n",
    "    \"\"\"Calculates the kinetic energy of an object.\n",
    "\n",
    "    Returns:\n",
    "        float: The kinetic energy of the object in Joules.\n",
    "    \"\"\"\n",
    "    mass = 75  # kg\n",
    "    velocity = 20  # m/s\n",
    "    kinetic_energy = 0.5 * mass * (velocity ** 2)\n",
    "    return kinetic_energy"
   ]
  },
  {
   "cell_type": "code",
   "execution_count": 81,
   "id": "7f0d1c4c",
   "metadata": {},
   "outputs": [
    {
     "name": "stdout",
     "output_type": "stream",
     "text": [
      "\n",
      "✅ Kinetic Energy: 15000.0 Joules\n"
     ]
    }
   ],
   "source": [
    "hasil = solve()\n",
    "print(f\"\\n✅ Kinetic Energy: {hasil} Joules\")"
   ]
  },
  {
   "cell_type": "markdown",
   "id": "ed1b2acf",
   "metadata": {},
   "source": [
    "## Multimodal COT"
   ]
  },
  {
   "cell_type": "code",
   "execution_count": 2,
   "id": "f987b945",
   "metadata": {},
   "outputs": [],
   "source": [
    "import base64\n",
    "\n",
    "# Path ke gambar lokal\n",
    "image_path = r\"C:\\Users\\Fadhil Wicaksono\\Documents\\Training\\Prompting-Langchain\\Sepatu.png\"\n",
    "\n",
    "# Encode gambar jadi base64\n",
    "def encode_image(filepath):\n",
    "    with open(filepath, \"rb\") as f:\n",
    "        return base64.b64encode(f.read()).decode(\"utf-8\")\n",
    "\n",
    "image_data = encode_image(image_path)\n"
   ]
  },
  {
   "cell_type": "code",
   "execution_count": 7,
   "id": "19d23e7a",
   "metadata": {},
   "outputs": [],
   "source": [
    "def ask_multimodal(text_prompt: str, image_base64: str):\n",
    "    messages = [\n",
    "        HumanMessage(\n",
    "            content=[\n",
    "                {\"type\": \"text\", \"text\": text_prompt},\n",
    "                {\"type\": \"image_url\", \"image_url\": {\"url\": f\"data:image/png;base64,{image_base64}\"}},\n",
    "            ]\n",
    "        )\n",
    "    ]\n",
    "    return llm.invoke(messages).content\n"
   ]
  },
  {
   "cell_type": "code",
   "execution_count": 10,
   "id": "78ff1789",
   "metadata": {},
   "outputs": [
    {
     "name": "stdout",
     "output_type": "stream",
     "text": [
      "Mari kita bahas tentang sepatu Hoka untuk trail run di Merbabu (kurang lebih 3000 mdpl):\n",
      "\n",
      "*   **Apakah Sepatu Hoka Bagus untuk Trail Run di Merbabu?**\n",
      "\n",
      "    Secara umum, sepatu Hoka bisa menjadi pilihan yang baik untuk trail run, terutama karena bantalan (cushioning) yang tebal dan nyaman. Namun, apakah sepatu *ini* cocok untuk Merbabu, itu tergantung pada beberapa faktor:\n",
      "\n",
      "    *   **Jenis Medan:** Merbabu memiliki medan yang bervariasi, mulai dari tanah, bebatuan, hingga akar pohon. Sepatu dengan *grip* (cengkraman) yang baik sangat penting. Perhatikan solnya. Apakah pola *lug* (tonjolan pada sol) cukup dalam dan agresif? Jika tidak, sepatu ini mungkin kurang ideal untuk medan yang licin atau curam.\n",
      "    *   **Kondisi Fisik dan Pengalaman:** Jika Anda terbiasa dengan sepatu minimalis atau memiliki kaki yang kuat, Anda mungkin tidak memerlukan bantalan setebal Hoka. Namun, jika Anda mencari kenyamanan dan perlindungan ekstra, Hoka bisa menjadi pilihan yang baik.\n",
      "    *   **Kondisi Cuaca:** Jika cuaca buruk (hujan, lumpur), sepatu dengan *waterproof* (tahan air) mungkin lebih baik. Sepatu yang terlihat di gambar sepertinya tidak *waterproof*.\n",
      "\n",
      "*   **Jenis Sepatu Hoka yang Digambar:**\n",
      "\n",
      "    Dari gambar, sulit untuk menentukan model Hoka secara pasti. Namun, ciri-ciri seperti sol yang tebal dan desainnya menunjukkan bahwa ini adalah sepatu trail running. Mungkin model seperti:\n",
      "\n",
      "    *   **Hoka Speedgoat:** Ini adalah salah satu model Hoka yang paling populer untuk trail running. Dikenal karena *grip* yang baik dan bantalan yang nyaman.\n",
      "    *   **Hoka Challenger ATR:** Model ini lebih serbaguna, bisa digunakan untuk trail dan jalan raya. Namun, *grip*-nya mungkin tidak seagresif Speedgoat.\n",
      "    *   **Hoka Torrent:** Model yang lebih ringan dan responsif, cocok untuk pelari yang mencari kecepatan.\n",
      "\n",
      "**Rekomendasi:**\n",
      "\n",
      "1.  **Cari Tahu Model Pastinya:** Jika memungkinkan, cari tahu model sepatu Hoka ini secara pasti. Ini akan membantu Anda menemukan ulasan dan spesifikasi yang lebih detail.\n",
      "2.  **Perhatikan Grip Sol:** Periksa dengan teliti pola *lug* pada sol. Pastikan cukup dalam dan agresif untuk mencengkeram berbagai jenis medan.\n",
      "3.  **Pertimbangkan Kondisi Cuaca:** Jika Anda sering trail run saat hujan, pertimbangkan sepatu *waterproof*.\n",
      "4.  **Coba Terlebih Dahulu:** Sebaiknya coba sepatu ini terlebih dahulu sebelum digunakan untuk trail run di Merbabu. Ini akan membantu Anda memastikan ukurannya pas dan nyaman.\n",
      "\n",
      "**Alternatif:**\n",
      "\n",
      "Jika Anda ragu dengan Hoka ini, ada banyak merek sepatu trail running lain yang bagus, seperti Salomon, Saucony, Altra, dan La Sportiva.\n",
      "\n",
      "Semoga informasi ini membantu!\n"
     ]
    }
   ],
   "source": [
    "multimodal_prompt = (\n",
    "    \"Bagus engga ini buat naik gunung merbabu untuk trail run kurang lebih 3000 mdpl, dan jenis sepatu apa yang digambar hokanya ? \"\n",
    ")\n",
    "\n",
    "result = ask_multimodal(multimodal_prompt, image_data)\n",
    "print(result)"
   ]
  }
 ],
 "metadata": {
  "kernelspec": {
   "display_name": "Python 3",
   "language": "python",
   "name": "python3"
  },
  "language_info": {
   "codemirror_mode": {
    "name": "ipython",
    "version": 3
   },
   "file_extension": ".py",
   "mimetype": "text/x-python",
   "name": "python",
   "nbconvert_exporter": "python",
   "pygments_lexer": "ipython3",
   "version": "3.11.0rc2"
  }
 },
 "nbformat": 4,
 "nbformat_minor": 5
}
