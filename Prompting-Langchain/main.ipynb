{
 "cells": [
  {
   "cell_type": "code",
   "execution_count": 83,
   "id": "d5b1e2f3",
   "metadata": {},
   "outputs": [
    {
     "name": "stdout",
     "output_type": "stream",
     "text": [
      "Requirement already satisfied: langchain in c:\\users\\fadhil wicaksono\\appdata\\local\\programs\\python\\python311\\lib\\site-packages (from -r requirements.txt (line 1)) (0.3.23)\n",
      "Requirement already satisfied: langchain-community in c:\\users\\fadhil wicaksono\\appdata\\local\\programs\\python\\python311\\lib\\site-packages (from -r requirements.txt (line 2)) (0.3.21)\n",
      "Requirement already satisfied: google-generativeai in c:\\users\\fadhil wicaksono\\appdata\\local\\programs\\python\\python311\\lib\\site-packages (from -r requirements.txt (line 3)) (0.8.5)\n",
      "Requirement already satisfied: langchain-google-genai in c:\\users\\fadhil wicaksono\\appdata\\local\\programs\\python\\python311\\lib\\site-packages (from -r requirements.txt (line 4)) (2.0.10)\n",
      "Requirement already satisfied: python-dotenv in c:\\users\\fadhil wicaksono\\appdata\\local\\programs\\python\\python311\\lib\\site-packages (from -r requirements.txt (line 5)) (1.1.0)\n",
      "Requirement already satisfied: ipython in c:\\users\\fadhil wicaksono\\appdata\\roaming\\python\\python311\\site-packages (from -r requirements.txt (line 6)) (9.1.0)\n",
      "Collecting ipywidgets\n",
      "  Downloading ipywidgets-8.1.6-py3-none-any.whl (139 kB)\n",
      "     ------------------------------------ 139.8/139.8 kB 689.2 kB/s eta 0:00:00\n",
      "Requirement already satisfied: langchain-core<1.0.0,>=0.3.51 in c:\\users\\fadhil wicaksono\\appdata\\local\\programs\\python\\python311\\lib\\site-packages (from langchain->-r requirements.txt (line 1)) (0.3.54)\n",
      "Requirement already satisfied: langchain-text-splitters<1.0.0,>=0.3.8 in c:\\users\\fadhil wicaksono\\appdata\\local\\programs\\python\\python311\\lib\\site-packages (from langchain->-r requirements.txt (line 1)) (0.3.8)\n",
      "Requirement already satisfied: langsmith<0.4,>=0.1.17 in c:\\users\\fadhil wicaksono\\appdata\\local\\programs\\python\\python311\\lib\\site-packages (from langchain->-r requirements.txt (line 1)) (0.3.32)\n",
      "Requirement already satisfied: pydantic<3.0.0,>=2.7.4 in c:\\users\\fadhil wicaksono\\appdata\\local\\programs\\python\\python311\\lib\\site-packages (from langchain->-r requirements.txt (line 1)) (2.11.3)\n",
      "Requirement already satisfied: SQLAlchemy<3,>=1.4 in c:\\users\\fadhil wicaksono\\appdata\\local\\programs\\python\\python311\\lib\\site-packages (from langchain->-r requirements.txt (line 1)) (2.0.40)\n",
      "Requirement already satisfied: requests<3,>=2 in c:\\users\\fadhil wicaksono\\appdata\\local\\programs\\python\\python311\\lib\\site-packages (from langchain->-r requirements.txt (line 1)) (2.32.3)\n",
      "Requirement already satisfied: PyYAML>=5.3 in c:\\users\\fadhil wicaksono\\appdata\\local\\programs\\python\\python311\\lib\\site-packages (from langchain->-r requirements.txt (line 1)) (6.0.2)\n",
      "Requirement already satisfied: aiohttp<4.0.0,>=3.8.3 in c:\\users\\fadhil wicaksono\\appdata\\local\\programs\\python\\python311\\lib\\site-packages (from langchain-community->-r requirements.txt (line 2)) (3.11.18)\n",
      "Requirement already satisfied: tenacity!=8.4.0,<10,>=8.1.0 in c:\\users\\fadhil wicaksono\\appdata\\local\\programs\\python\\python311\\lib\\site-packages (from langchain-community->-r requirements.txt (line 2)) (9.1.2)\n",
      "Requirement already satisfied: dataclasses-json<0.7,>=0.5.7 in c:\\users\\fadhil wicaksono\\appdata\\local\\programs\\python\\python311\\lib\\site-packages (from langchain-community->-r requirements.txt (line 2)) (0.6.7)\n",
      "Requirement already satisfied: pydantic-settings<3.0.0,>=2.4.0 in c:\\users\\fadhil wicaksono\\appdata\\local\\programs\\python\\python311\\lib\\site-packages (from langchain-community->-r requirements.txt (line 2)) (2.9.1)\n",
      "Requirement already satisfied: httpx-sse<1.0.0,>=0.4.0 in c:\\users\\fadhil wicaksono\\appdata\\local\\programs\\python\\python311\\lib\\site-packages (from langchain-community->-r requirements.txt (line 2)) (0.4.0)\n",
      "Requirement already satisfied: numpy<3,>=1.26.2 in c:\\users\\fadhil wicaksono\\appdata\\local\\programs\\python\\python311\\lib\\site-packages (from langchain-community->-r requirements.txt (line 2)) (2.2.5)\n",
      "Requirement already satisfied: google-ai-generativelanguage==0.6.15 in c:\\users\\fadhil wicaksono\\appdata\\local\\programs\\python\\python311\\lib\\site-packages (from google-generativeai->-r requirements.txt (line 3)) (0.6.15)\n",
      "Requirement already satisfied: google-api-core in c:\\users\\fadhil wicaksono\\appdata\\local\\programs\\python\\python311\\lib\\site-packages (from google-generativeai->-r requirements.txt (line 3)) (2.24.2)\n",
      "Requirement already satisfied: google-api-python-client in c:\\users\\fadhil wicaksono\\appdata\\local\\programs\\python\\python311\\lib\\site-packages (from google-generativeai->-r requirements.txt (line 3)) (2.167.0)\n",
      "Requirement already satisfied: google-auth>=2.15.0 in c:\\users\\fadhil wicaksono\\appdata\\local\\programs\\python\\python311\\lib\\site-packages (from google-generativeai->-r requirements.txt (line 3)) (2.39.0)\n",
      "Requirement already satisfied: protobuf in c:\\users\\fadhil wicaksono\\appdata\\local\\programs\\python\\python311\\lib\\site-packages (from google-generativeai->-r requirements.txt (line 3)) (5.29.4)\n",
      "Requirement already satisfied: tqdm in c:\\users\\fadhil wicaksono\\appdata\\local\\programs\\python\\python311\\lib\\site-packages (from google-generativeai->-r requirements.txt (line 3)) (4.67.1)\n",
      "Requirement already satisfied: typing-extensions in c:\\users\\fadhil wicaksono\\appdata\\roaming\\python\\python311\\site-packages (from google-generativeai->-r requirements.txt (line 3)) (4.13.2)\n",
      "Requirement already satisfied: proto-plus<2.0.0dev,>=1.22.3 in c:\\users\\fadhil wicaksono\\appdata\\local\\programs\\python\\python311\\lib\\site-packages (from google-ai-generativelanguage==0.6.15->google-generativeai->-r requirements.txt (line 3)) (1.26.1)\n",
      "Requirement already satisfied: filetype<2.0.0,>=1.2.0 in c:\\users\\fadhil wicaksono\\appdata\\local\\programs\\python\\python311\\lib\\site-packages (from langchain-google-genai->-r requirements.txt (line 4)) (1.2.0)\n",
      "Requirement already satisfied: colorama in c:\\users\\fadhil wicaksono\\appdata\\roaming\\python\\python311\\site-packages (from ipython->-r requirements.txt (line 6)) (0.4.6)\n",
      "Requirement already satisfied: decorator in c:\\users\\fadhil wicaksono\\appdata\\roaming\\python\\python311\\site-packages (from ipython->-r requirements.txt (line 6)) (5.2.1)\n",
      "Requirement already satisfied: ipython-pygments-lexers in c:\\users\\fadhil wicaksono\\appdata\\roaming\\python\\python311\\site-packages (from ipython->-r requirements.txt (line 6)) (1.1.1)\n",
      "Requirement already satisfied: jedi>=0.16 in c:\\users\\fadhil wicaksono\\appdata\\roaming\\python\\python311\\site-packages (from ipython->-r requirements.txt (line 6)) (0.19.2)\n",
      "Requirement already satisfied: matplotlib-inline in c:\\users\\fadhil wicaksono\\appdata\\roaming\\python\\python311\\site-packages (from ipython->-r requirements.txt (line 6)) (0.1.7)\n",
      "Requirement already satisfied: prompt_toolkit<3.1.0,>=3.0.41 in c:\\users\\fadhil wicaksono\\appdata\\roaming\\python\\python311\\site-packages (from ipython->-r requirements.txt (line 6)) (3.0.51)\n",
      "Requirement already satisfied: pygments>=2.4.0 in c:\\users\\fadhil wicaksono\\appdata\\roaming\\python\\python311\\site-packages (from ipython->-r requirements.txt (line 6)) (2.19.1)\n",
      "Requirement already satisfied: stack_data in c:\\users\\fadhil wicaksono\\appdata\\roaming\\python\\python311\\site-packages (from ipython->-r requirements.txt (line 6)) (0.6.3)\n",
      "Requirement already satisfied: traitlets>=5.13.0 in c:\\users\\fadhil wicaksono\\appdata\\roaming\\python\\python311\\site-packages (from ipython->-r requirements.txt (line 6)) (5.14.3)\n",
      "Requirement already satisfied: comm>=0.1.3 in c:\\users\\fadhil wicaksono\\appdata\\roaming\\python\\python311\\site-packages (from ipywidgets->-r requirements.txt (line 7)) (0.2.2)\n",
      "Collecting widgetsnbextension~=4.0.14\n",
      "  Downloading widgetsnbextension-4.0.14-py3-none-any.whl (2.2 MB)\n",
      "     ---------------------------------------- 2.2/2.2 MB 2.9 MB/s eta 0:00:00\n",
      "Collecting jupyterlab_widgets~=3.0.14\n",
      "  Downloading jupyterlab_widgets-3.0.14-py3-none-any.whl (213 kB)\n",
      "     -------------------------------------- 214.0/214.0 kB 4.3 MB/s eta 0:00:00\n",
      "Requirement already satisfied: aiohappyeyeballs>=2.3.0 in c:\\users\\fadhil wicaksono\\appdata\\local\\programs\\python\\python311\\lib\\site-packages (from aiohttp<4.0.0,>=3.8.3->langchain-community->-r requirements.txt (line 2)) (2.6.1)\n",
      "Requirement already satisfied: aiosignal>=1.1.2 in c:\\users\\fadhil wicaksono\\appdata\\local\\programs\\python\\python311\\lib\\site-packages (from aiohttp<4.0.0,>=3.8.3->langchain-community->-r requirements.txt (line 2)) (1.3.2)\n",
      "Requirement already satisfied: attrs>=17.3.0 in c:\\users\\fadhil wicaksono\\appdata\\local\\programs\\python\\python311\\lib\\site-packages (from aiohttp<4.0.0,>=3.8.3->langchain-community->-r requirements.txt (line 2)) (25.3.0)\n",
      "Requirement already satisfied: frozenlist>=1.1.1 in c:\\users\\fadhil wicaksono\\appdata\\local\\programs\\python\\python311\\lib\\site-packages (from aiohttp<4.0.0,>=3.8.3->langchain-community->-r requirements.txt (line 2)) (1.6.0)\n",
      "Requirement already satisfied: multidict<7.0,>=4.5 in c:\\users\\fadhil wicaksono\\appdata\\local\\programs\\python\\python311\\lib\\site-packages (from aiohttp<4.0.0,>=3.8.3->langchain-community->-r requirements.txt (line 2)) (6.4.3)\n",
      "Requirement already satisfied: propcache>=0.2.0 in c:\\users\\fadhil wicaksono\\appdata\\local\\programs\\python\\python311\\lib\\site-packages (from aiohttp<4.0.0,>=3.8.3->langchain-community->-r requirements.txt (line 2)) (0.3.1)\n",
      "Requirement already satisfied: yarl<2.0,>=1.17.0 in c:\\users\\fadhil wicaksono\\appdata\\local\\programs\\python\\python311\\lib\\site-packages (from aiohttp<4.0.0,>=3.8.3->langchain-community->-r requirements.txt (line 2)) (1.20.0)\n",
      "Requirement already satisfied: marshmallow<4.0.0,>=3.18.0 in c:\\users\\fadhil wicaksono\\appdata\\local\\programs\\python\\python311\\lib\\site-packages (from dataclasses-json<0.7,>=0.5.7->langchain-community->-r requirements.txt (line 2)) (3.26.1)\n",
      "Requirement already satisfied: typing-inspect<1,>=0.4.0 in c:\\users\\fadhil wicaksono\\appdata\\local\\programs\\python\\python311\\lib\\site-packages (from dataclasses-json<0.7,>=0.5.7->langchain-community->-r requirements.txt (line 2)) (0.9.0)\n",
      "Requirement already satisfied: cachetools<6.0,>=2.0.0 in c:\\users\\fadhil wicaksono\\appdata\\local\\programs\\python\\python311\\lib\\site-packages (from google-auth>=2.15.0->google-generativeai->-r requirements.txt (line 3)) (5.5.2)\n",
      "Requirement already satisfied: pyasn1-modules>=0.2.1 in c:\\users\\fadhil wicaksono\\appdata\\local\\programs\\python\\python311\\lib\\site-packages (from google-auth>=2.15.0->google-generativeai->-r requirements.txt (line 3)) (0.4.2)\n",
      "Requirement already satisfied: rsa<5,>=3.1.4 in c:\\users\\fadhil wicaksono\\appdata\\local\\programs\\python\\python311\\lib\\site-packages (from google-auth>=2.15.0->google-generativeai->-r requirements.txt (line 3)) (4.9.1)\n",
      "Requirement already satisfied: parso<0.9.0,>=0.8.4 in c:\\users\\fadhil wicaksono\\appdata\\roaming\\python\\python311\\site-packages (from jedi>=0.16->ipython->-r requirements.txt (line 6)) (0.8.4)\n",
      "Requirement already satisfied: jsonpatch<2.0,>=1.33 in c:\\users\\fadhil wicaksono\\appdata\\local\\programs\\python\\python311\\lib\\site-packages (from langchain-core<1.0.0,>=0.3.51->langchain->-r requirements.txt (line 1)) (1.33)\n",
      "Requirement already satisfied: packaging<25,>=23.2 in c:\\users\\fadhil wicaksono\\appdata\\local\\programs\\python\\python311\\lib\\site-packages (from langchain-core<1.0.0,>=0.3.51->langchain->-r requirements.txt (line 1)) (24.2)\n",
      "Requirement already satisfied: httpx<1,>=0.23.0 in c:\\users\\fadhil wicaksono\\appdata\\local\\programs\\python\\python311\\lib\\site-packages (from langsmith<0.4,>=0.1.17->langchain->-r requirements.txt (line 1)) (0.28.1)\n",
      "Requirement already satisfied: orjson<4.0.0,>=3.9.14 in c:\\users\\fadhil wicaksono\\appdata\\local\\programs\\python\\python311\\lib\\site-packages (from langsmith<0.4,>=0.1.17->langchain->-r requirements.txt (line 1)) (3.10.16)\n",
      "Requirement already satisfied: requests-toolbelt<2.0.0,>=1.0.0 in c:\\users\\fadhil wicaksono\\appdata\\local\\programs\\python\\python311\\lib\\site-packages (from langsmith<0.4,>=0.1.17->langchain->-r requirements.txt (line 1)) (1.0.0)\n",
      "Requirement already satisfied: zstandard<0.24.0,>=0.23.0 in c:\\users\\fadhil wicaksono\\appdata\\local\\programs\\python\\python311\\lib\\site-packages (from langsmith<0.4,>=0.1.17->langchain->-r requirements.txt (line 1)) (0.23.0)\n",
      "Requirement already satisfied: wcwidth in c:\\users\\fadhil wicaksono\\appdata\\roaming\\python\\python311\\site-packages (from prompt_toolkit<3.1.0,>=3.0.41->ipython->-r requirements.txt (line 6)) (0.2.13)\n",
      "Requirement already satisfied: annotated-types>=0.6.0 in c:\\users\\fadhil wicaksono\\appdata\\local\\programs\\python\\python311\\lib\\site-packages (from pydantic<3.0.0,>=2.7.4->langchain->-r requirements.txt (line 1)) (0.7.0)\n",
      "Requirement already satisfied: pydantic-core==2.33.1 in c:\\users\\fadhil wicaksono\\appdata\\local\\programs\\python\\python311\\lib\\site-packages (from pydantic<3.0.0,>=2.7.4->langchain->-r requirements.txt (line 1)) (2.33.1)\n",
      "Requirement already satisfied: typing-inspection>=0.4.0 in c:\\users\\fadhil wicaksono\\appdata\\local\\programs\\python\\python311\\lib\\site-packages (from pydantic<3.0.0,>=2.7.4->langchain->-r requirements.txt (line 1)) (0.4.0)\n",
      "Requirement already satisfied: charset-normalizer<4,>=2 in c:\\users\\fadhil wicaksono\\appdata\\local\\programs\\python\\python311\\lib\\site-packages (from requests<3,>=2->langchain->-r requirements.txt (line 1)) (3.4.1)\n",
      "Requirement already satisfied: idna<4,>=2.5 in c:\\users\\fadhil wicaksono\\appdata\\local\\programs\\python\\python311\\lib\\site-packages (from requests<3,>=2->langchain->-r requirements.txt (line 1)) (3.10)\n",
      "Requirement already satisfied: urllib3<3,>=1.21.1 in c:\\users\\fadhil wicaksono\\appdata\\local\\programs\\python\\python311\\lib\\site-packages (from requests<3,>=2->langchain->-r requirements.txt (line 1)) (2.4.0)\n",
      "Requirement already satisfied: certifi>=2017.4.17 in c:\\users\\fadhil wicaksono\\appdata\\local\\programs\\python\\python311\\lib\\site-packages (from requests<3,>=2->langchain->-r requirements.txt (line 1)) (2025.1.31)\n",
      "Requirement already satisfied: greenlet>=1 in c:\\users\\fadhil wicaksono\\appdata\\local\\programs\\python\\python311\\lib\\site-packages (from SQLAlchemy<3,>=1.4->langchain->-r requirements.txt (line 1)) (3.2.0)\n",
      "Requirement already satisfied: googleapis-common-protos<2.0.0,>=1.56.2 in c:\\users\\fadhil wicaksono\\appdata\\local\\programs\\python\\python311\\lib\\site-packages (from google-api-core->google-generativeai->-r requirements.txt (line 3)) (1.70.0)\n",
      "Requirement already satisfied: httplib2<1.0.0,>=0.19.0 in c:\\users\\fadhil wicaksono\\appdata\\local\\programs\\python\\python311\\lib\\site-packages (from google-api-python-client->google-generativeai->-r requirements.txt (line 3)) (0.22.0)\n",
      "Requirement already satisfied: google-auth-httplib2<1.0.0,>=0.2.0 in c:\\users\\fadhil wicaksono\\appdata\\local\\programs\\python\\python311\\lib\\site-packages (from google-api-python-client->google-generativeai->-r requirements.txt (line 3)) (0.2.0)\n",
      "Requirement already satisfied: uritemplate<5,>=3.0.1 in c:\\users\\fadhil wicaksono\\appdata\\local\\programs\\python\\python311\\lib\\site-packages (from google-api-python-client->google-generativeai->-r requirements.txt (line 3)) (4.1.1)\n",
      "Requirement already satisfied: executing>=1.2.0 in c:\\users\\fadhil wicaksono\\appdata\\roaming\\python\\python311\\site-packages (from stack_data->ipython->-r requirements.txt (line 6)) (2.2.0)\n",
      "Requirement already satisfied: asttokens>=2.1.0 in c:\\users\\fadhil wicaksono\\appdata\\roaming\\python\\python311\\site-packages (from stack_data->ipython->-r requirements.txt (line 6)) (3.0.0)\n",
      "Requirement already satisfied: pure-eval in c:\\users\\fadhil wicaksono\\appdata\\roaming\\python\\python311\\site-packages (from stack_data->ipython->-r requirements.txt (line 6)) (0.2.3)\n",
      "Requirement already satisfied: grpcio<2.0dev,>=1.33.2 in c:\\users\\fadhil wicaksono\\appdata\\local\\programs\\python\\python311\\lib\\site-packages (from google-api-core->google-generativeai->-r requirements.txt (line 3)) (1.71.0)\n",
      "Requirement already satisfied: grpcio-status<2.0.dev0,>=1.33.2 in c:\\users\\fadhil wicaksono\\appdata\\local\\programs\\python\\python311\\lib\\site-packages (from google-api-core->google-generativeai->-r requirements.txt (line 3)) (1.71.0)\n",
      "Requirement already satisfied: pyparsing!=3.0.0,!=3.0.1,!=3.0.2,!=3.0.3,<4,>=2.4.2 in c:\\users\\fadhil wicaksono\\appdata\\local\\programs\\python\\python311\\lib\\site-packages (from httplib2<1.0.0,>=0.19.0->google-api-python-client->google-generativeai->-r requirements.txt (line 3)) (3.2.3)\n",
      "Requirement already satisfied: anyio in c:\\users\\fadhil wicaksono\\appdata\\local\\programs\\python\\python311\\lib\\site-packages (from httpx<1,>=0.23.0->langsmith<0.4,>=0.1.17->langchain->-r requirements.txt (line 1)) (4.9.0)\n",
      "Requirement already satisfied: httpcore==1.* in c:\\users\\fadhil wicaksono\\appdata\\local\\programs\\python\\python311\\lib\\site-packages (from httpx<1,>=0.23.0->langsmith<0.4,>=0.1.17->langchain->-r requirements.txt (line 1)) (1.0.8)\n",
      "Requirement already satisfied: h11<0.15,>=0.13 in c:\\users\\fadhil wicaksono\\appdata\\local\\programs\\python\\python311\\lib\\site-packages (from httpcore==1.*->httpx<1,>=0.23.0->langsmith<0.4,>=0.1.17->langchain->-r requirements.txt (line 1)) (0.14.0)\n",
      "Requirement already satisfied: jsonpointer>=1.9 in c:\\users\\fadhil wicaksono\\appdata\\local\\programs\\python\\python311\\lib\\site-packages (from jsonpatch<2.0,>=1.33->langchain-core<1.0.0,>=0.3.51->langchain->-r requirements.txt (line 1)) (3.0.0)\n",
      "Requirement already satisfied: pyasn1<0.7.0,>=0.6.1 in c:\\users\\fadhil wicaksono\\appdata\\local\\programs\\python\\python311\\lib\\site-packages (from pyasn1-modules>=0.2.1->google-auth>=2.15.0->google-generativeai->-r requirements.txt (line 3)) (0.6.1)\n",
      "Requirement already satisfied: mypy-extensions>=0.3.0 in c:\\users\\fadhil wicaksono\\appdata\\local\\programs\\python\\python311\\lib\\site-packages (from typing-inspect<1,>=0.4.0->dataclasses-json<0.7,>=0.5.7->langchain-community->-r requirements.txt (line 2)) (1.0.0)\n",
      "Requirement already satisfied: sniffio>=1.1 in c:\\users\\fadhil wicaksono\\appdata\\local\\programs\\python\\python311\\lib\\site-packages (from anyio->httpx<1,>=0.23.0->langsmith<0.4,>=0.1.17->langchain->-r requirements.txt (line 1)) (1.3.1)\n",
      "Installing collected packages: widgetsnbextension, jupyterlab_widgets, ipywidgets\n",
      "Successfully installed ipywidgets-8.1.6 jupyterlab_widgets-3.0.14 widgetsnbextension-4.0.14\n",
      "Note: you may need to restart the kernel to use updated packages.\n"
     ]
    },
    {
     "name": "stderr",
     "output_type": "stream",
     "text": [
      "\n",
      "[notice] A new release of pip available: 22.2.2 -> 25.0.1\n",
      "[notice] To update, run: python.exe -m pip install --upgrade pip\n"
     ]
    }
   ],
   "source": [
    "pip install -r requirements.txt"
   ]
  },
  {
   "cell_type": "markdown",
   "id": "a82cabcf",
   "metadata": {},
   "source": [
    "## Config"
   ]
  },
  {
   "cell_type": "code",
   "execution_count": 4,
   "id": "9a5e2f6d",
   "metadata": {},
   "outputs": [],
   "source": [
    "import os\n",
    "from dotenv import load_dotenv\n",
    "from langchain_google_genai import ChatGoogleGenerativeAI\n",
    "from langchain_core.messages import HumanMessage\n",
    "\n",
    "load_dotenv()\n",
    "\n",
    "GOOGLE_API_KEY = os.getenv(\"GOOGLE_API_KEY\")\n",
    "\n",
    "llm = ChatGoogleGenerativeAI(\n",
    "    model=\"gemini-2.0-flash\",\n",
    "    google_api_key=GOOGLE_API_KEY,\n",
    "    temperature=0.7,\n",
    ")\n",
    "\n",
    "def ask(prompt: str):\n",
    "    return llm.invoke([HumanMessage(content=prompt)]).content\n",
    "\n",
    "\n"
   ]
  },
  {
   "cell_type": "markdown",
   "id": "5fe8a188",
   "metadata": {},
   "source": [
    "## Zero-Shot"
   ]
  },
  {
   "cell_type": "code",
   "execution_count": 3,
   "id": "c5108317",
   "metadata": {},
   "outputs": [
    {
     "name": "stdout",
     "output_type": "stream",
     "text": [
      "Jawaban 1:\n",
      " Prompt engineering, dalam konteks AI, adalah proses **merancang dan mengoptimalkan teks masukan (prompt) yang diberikan kepada model AI (terutama Large Language Models atau LLMs) untuk menghasilkan keluaran yang diinginkan.**  Sederhananya, ini adalah seni dan ilmu untuk \"berbicara\" dengan AI agar mendapatkan jawaban atau hasil yang paling akurat, relevan, dan bermanfaat.\n",
      "\n",
      "**Mengapa Prompt Engineering Penting?**\n",
      "\n",
      "* **Mengontrol Keluaran:** Prompt yang dirancang dengan baik dapat membimbing model AI untuk menghasilkan jawaban yang lebih spesifik, akurat, dan sesuai dengan kebutuhan pengguna.\n",
      "* **Meningkatkan Kualitas:** Prompt yang buruk dapat menghasilkan jawaban yang tidak relevan, tidak akurat, atau bahkan berbahaya. Prompt engineering membantu meningkatkan kualitas keluaran secara signifikan.\n",
      "* **Membuka Potensi Model:** Dengan prompt yang tepat, kita dapat membuka potensi tersembunyi dari model AI dan memanfaatkannya untuk berbagai tugas yang kompleks, seperti menulis kode, menerjemahkan bahasa, meringkas teks, dan banyak lagi.\n",
      "* **Mengurangi Halusinasi:** LLM terkadang dapat menghasilkan informasi yang salah atau tidak berdasar (disebut \"halusinasi\"). Prompt engineering dapat membantu mengurangi kecenderungan ini dengan memberikan konteks dan batasan yang jelas.\n",
      "* **Efisien & Hemat Biaya:** Dengan mendapatkan hasil yang diinginkan lebih cepat dan akurat, kita dapat menghemat waktu, sumber daya komputasi, dan biaya operasional.\n",
      "\n",
      "**Elemen Kunci dalam Prompt Engineering:**\n",
      "\n",
      "* **Kejelasan & Spesifisitas:** Prompt harus jelas, ringkas, dan spesifik tentang apa yang ingin Anda dapatkan dari model AI. Hindari ambiguitas.\n",
      "* **Konteks:** Berikan konteks yang cukup agar model AI memahami apa yang Anda inginkan. Ini bisa berupa informasi latar belakang, contoh, atau batasan.\n",
      "* **Instruksi:** Sertakan instruksi yang jelas tentang bagaimana model AI harus memproses prompt dan menghasilkan keluaran.\n",
      "* **Batasan:** Tentukan batasan yang jelas untuk membatasi keluaran model AI dan mencegahnya menghasilkan jawaban yang tidak relevan atau berbahaya.\n",
      "* **Format:** Tentukan format keluaran yang Anda inginkan (misalnya, daftar, paragraf, kode, dll.).\n",
      "* **Contoh (Few-Shot Learning):** Berikan beberapa contoh input dan output yang diinginkan untuk membantu model AI memahami pola dan menghasilkan keluaran yang serupa.\n",
      "* **Kata Kunci:** Gunakan kata kunci yang relevan untuk membantu model AI memahami topik prompt.\n",
      "* **Iterasi & Uji Coba:** Prompt engineering adalah proses iteratif. Anda perlu mencoba berbagai prompt, menganalisis hasilnya, dan menyempurnakan prompt Anda sampai Anda mendapatkan keluaran yang diinginkan.\n",
      "\n",
      "**Contoh Prompt yang Baik vs. Buruk:**\n",
      "\n",
      "**Prompt Buruk:** \"Tulis esai tentang AI.\"\n",
      "\n",
      "**Prompt Baik:** \"Tulis esai 500 kata tentang dampak etis kecerdasan buatan pada pasar kerja. Fokus pada pro dan kontra, dan berikan contoh konkret. Format esai harus mencakup pendahuluan, tiga paragraf inti, dan kesimpulan.\"\n",
      "\n",
      "**Teknik Prompt Engineering:**\n",
      "\n",
      "Ada berbagai teknik yang dapat digunakan dalam prompt engineering, termasuk:\n",
      "\n",
      "* **Zero-Shot Learning:** Meminta model AI untuk melakukan tugas tanpa memberikan contoh.\n",
      "* **Few-Shot Learning:** Memberikan beberapa contoh input dan output yang diinginkan untuk membantu model AI memahami pola.\n",
      "* **Chain-of-Thought Prompting:** Meminta model AI untuk menjelaskan langkah-langkah pemikiran yang digunakan untuk mencapai suatu kesimpulan.\n",
      "* **Role Prompting:** Meminta model AI untuk bertindak sebagai karakter atau persona tertentu.\n",
      "* **Self-Consistency Prompting:** Menghasilkan beberapa jawaban dari prompt yang sama dan memilih jawaban yang paling konsisten.\n",
      "\n",
      "**Kesimpulan:**\n",
      "\n",
      "Prompt engineering adalah keterampilan penting bagi siapa saja yang ingin memanfaatkan kekuatan model AI secara efektif. Dengan memahami prinsip-prinsip dasar dan teknik-teknik yang tersedia, Anda dapat merancang prompt yang menghasilkan keluaran yang lebih akurat, relevan, dan bermanfaat. Semakin baik Anda \"berbicara\" dengan AI, semakin baik pula hasil yang akan Anda dapatkan.\n"
     ]
    }
   ],
   "source": [
    "# Langkah 1: Buat prompt Zero-Shot\n",
    "prompt_1 = \"Apa itu Prompt Engineering dalam konteks AI?\"\n",
    "\n",
    "# Langkah 2: Kirim prompt ke model\n",
    "response_1 = ask(prompt_1)\n",
    "\n",
    "# Langkah 4: Tampilkan hasil\n",
    "print(\"Jawaban 1:\\n\", response_1)"
   ]
  },
  {
   "cell_type": "markdown",
   "id": "dbd6c333",
   "metadata": {},
   "source": [
    "## Few-Shot  *perbaiki"
   ]
  },
  {
   "cell_type": "code",
   "execution_count": 4,
   "id": "ec6430af",
   "metadata": {},
   "outputs": [],
   "source": [
    "from langchain.prompts import FewShotPromptTemplate, PromptTemplate"
   ]
  },
  {
   "cell_type": "code",
   "execution_count": null,
   "id": "24cae920",
   "metadata": {},
   "outputs": [],
   "source": [
    "dataset = [\n",
    "    {\"input\": \"Meeting agenda for Monday's project sync\", \"label\": \"Work\"},\n",
    "    {\"input\": \"Get 3 pizzas for the price of 1 – today only!\", \"label\": \"Promotion\"},\n",
    "    {\"input\": \"Mom sent you a recipe – check it out!\", \"label\": \"Personal\"},\n",
    "    {\"input\": \"You've been selected for a $1000 gift card. Click here!\", \"label\": \"Spam\"},\n",
    "]"
   ]
  },
  {
   "cell_type": "code",
   "execution_count": 6,
   "id": "8602e917",
   "metadata": {},
   "outputs": [],
   "source": [
    "example_prompt = PromptTemplate(\n",
    "    input_variables=[\"input\", \"label\"],\n",
    "    template=\"Email: {input}\\nCategory: {label}\\n\"\n",
    ")"
   ]
  },
  {
   "cell_type": "code",
   "execution_count": 9,
   "id": "e0b19286",
   "metadata": {},
   "outputs": [],
   "source": [
    "few_shot_prompt = FewShotPromptTemplate(\n",
    "    examples=dataset,\n",
    "    example_prompt=example_prompt,\n",
    "    suffix=\"Email: {input}\\nCategory:\",\n",
    "    input_variables=[\"input\"]\n",
    ")"
   ]
  },
  {
   "cell_type": "code",
   "execution_count": 11,
   "id": "abc8f910",
   "metadata": {},
   "outputs": [
    {
     "name": "stdout",
     "output_type": "stream",
     "text": [
      "Spam\n"
     ]
    }
   ],
   "source": [
    "test_input = \"Free vacation to the Bahamas! Just confirm your email now.\"\n",
    "\n",
    "formatted_prompt = few_shot_prompt.format(input=test_input)\n",
    "print(ask(formatted_prompt))"
   ]
  },
  {
   "cell_type": "code",
   "execution_count": 12,
   "id": "5caabcfc",
   "metadata": {},
   "outputs": [
    {
     "name": "stdout",
     "output_type": "stream",
     "text": [
      "Promotion\n"
     ]
    }
   ],
   "source": [
    "test_input = \"Pizza hut discount 50% for easter only in Jogja.\"\n",
    "\n",
    "formatted_prompt = few_shot_prompt.format(input=test_input)\n",
    "print(ask(formatted_prompt))"
   ]
  },
  {
   "cell_type": "code",
   "execution_count": 39,
   "id": "26496f79",
   "metadata": {},
   "outputs": [
    {
     "name": "stdout",
     "output_type": "stream",
     "text": [
      "Work\n"
     ]
    }
   ],
   "source": [
    "email = \"\"\"Dear All,\n",
    "\n",
    "We are excited to welcome you to Siloam AI team! Please meet the team:\n",
    "\n",
    "Date: Monday, April 21st 2025\n",
    "Time: 1:30 PM - end\n",
    "Location: online via Gmeet\n",
    "\n",
    "Looking forward to your participation and collaboration. \n",
    "\n",
    "Best regards, \n",
    "Dira\n",
    "Recruitment Team | PT. BitHealth Teknologi Pintar\n",
    "When\n",
    "Monday Apr 21, 2025 ⋅ 1:30pm – 3pm (Western Indonesia Time - Jakarta)\n",
    "Organizer\n",
    "Nurul Undira\"\"\"\n",
    "\n",
    "formatted_prompt = few_shot_prompt.format(input=email)\n",
    "print(ask(formatted_prompt))"
   ]
  },
  {
   "cell_type": "markdown",
   "id": "0a993487",
   "metadata": {},
   "source": [
    "## Self-Consistency  *perbaiki\n"
   ]
  },
  {
   "cell_type": "code",
   "execution_count": 18,
   "id": "570ab233",
   "metadata": {},
   "outputs": [],
   "source": [
    "from collections import Counter\n",
    "\n",
    "prompt_template = \"\"\"\n",
    "You are a helpful assistant that classifies emails. Your task is to read the email and decide if it's:\n",
    "- Personal\n",
    "- Work\n",
    "- Promotion\n",
    "- Spam\n",
    "\n",
    "Email: \"{email}\"\n",
    "\n",
    "Let's think step-by-step:\n",
    "\"\"\""
   ]
  },
  {
   "cell_type": "code",
   "execution_count": 23,
   "id": "69d5c995",
   "metadata": {},
   "outputs": [],
   "source": [
    "\n",
    "email_input = \"Get 3 pizzas for the price of 1 – today only!\"\n",
    "\n",
    "prompt = prompt_template.format(email=email_input)"
   ]
  },
  {
   "cell_type": "code",
   "execution_count": null,
   "id": "d6c339df",
   "metadata": {},
   "outputs": [
    {
     "name": "stdout",
     "output_type": "stream",
     "text": [
      "\n",
      "--- All Answers ---\n",
      "\n",
      "[1] The email is advertising a special offer on pizzas. This is a marketing tactic used to attract customers.\n",
      "\n",
      "Therefore, the email is a **Promotion**.\n",
      "\n",
      "[2] The email is advertising a special offer on pizzas. This is a marketing tactic used to attract customers.\n",
      "\n",
      "Therefore, the email is a promotion.\n",
      "\n",
      "Final Answer: Promotion\n",
      "\n",
      "[3] The email is advertising a special offer on pizzas. This falls under marketing and promotional content.\n",
      "\n",
      "Therefore, the classification is:\n",
      "**Promotion**\n",
      "\n",
      "[4] The email advertises a special offer on pizzas for a limited time. This is a marketing tactic used to attract customers.\n",
      "\n",
      "Therefore, the email is a **Promotion**.\n",
      "\n",
      "[5] The email is advertising a deal on pizzas. This is a marketing tactic used to attract customers.\n",
      "\n",
      "Therefore, the email is a **Promotion**.\n",
      "\n"
     ]
    }
   ],
   "source": [
    "# Lakukan sampling beberapa kali\n",
    "results = [ask(prompt) for _ in range(5)]\n",
    "# Tampilkan hasilnya\n",
    "print(\"\\n--- All Answers ---\\n\")\n",
    "for i, r in enumerate(results, 1):\n",
    "    print(f\"[{i}] {r.strip()}\\n\")"
   ]
  },
  {
   "cell_type": "code",
   "execution_count": 26,
   "id": "abb906da",
   "metadata": {},
   "outputs": [
    {
     "name": "stdout",
     "output_type": "stream",
     "text": [
      " final answer: **Promotion**\n"
     ]
    }
   ],
   "source": [
    "\n",
    "labels = [r.strip().split()[-1].replace(\".\", \"\") for r in results]\n",
    "most_common = Counter(labels).most_common(1)[0][0]\n",
    "\n",
    "print(\" final answer:\", most_common)\n"
   ]
  },
  {
   "cell_type": "code",
   "execution_count": 36,
   "id": "68b5ece4",
   "metadata": {},
   "outputs": [],
   "source": [
    "email = \"\"\"Dear All,\n",
    "\n",
    "We are excited to welcome you to Siloam AI team! Please meet the team:\n",
    "\n",
    "Date: Monday, April 21st 2025\n",
    "Time: 1:30 PM - end\n",
    "Location: online via Gmeet\n",
    "\n",
    "Looking forward to your participation and collaboration. \n",
    "\n",
    "Best regards, \n",
    "Dira\n",
    "Recruitment Team | PT. BitHealth Teknologi Pintar\n",
    "When\n",
    "Monday Apr 21, 2025 ⋅ 1:30pm – 3pm (Western Indonesia Time - Jakarta)\n",
    "Organizer\n",
    "Nurul Undira\"\"\"\n",
    "\n",
    "prompt = prompt_template.format(email=email)"
   ]
  },
  {
   "cell_type": "code",
   "execution_count": 37,
   "id": "21a4b740",
   "metadata": {},
   "outputs": [
    {
     "name": "stdout",
     "output_type": "stream",
     "text": [
      "\n",
      "--- All Answers ---\n",
      "\n",
      "[1] The email is sent to multiple recipients (\"Dear All\"). It's from a recruitment team at a company. It welcomes new members to a team and provides details about a meeting. This clearly relates to work.\n",
      "\n",
      "Therefore, the classification is:\n",
      "**Work**\n",
      "\n",
      "[2] The email is announcing a meeting to welcome someone to a team. It's coming from a recruitment team of a company. Therefore, it's a **Work** email.\n",
      "\n",
      "[3] The email is announcing a welcoming event for new members of a team. It includes details about the date, time, and location of the event. The sender is from the recruitment team of a company.\n",
      "\n",
      "Based on the above analysis, the email is most likely related to **Work**.\n",
      "\n",
      "[4] The email is from a recruitment team welcoming someone to a team. This is related to work.\n",
      "\n",
      "Therefore, the classification is:\n",
      "Work\n",
      "\n",
      "[5] The email is announcing a welcoming event for new members joining the Siloam AI team. It provides details about the date, time, and location of the event. The sender is from the recruitment team of a company.\n",
      "\n",
      "Therefore, the email is likely related to **Work**.\n",
      "\n"
     ]
    }
   ],
   "source": [
    "# Lakukan sampling beberapa kali\n",
    "results = [ask(prompt) for _ in range(5)]\n",
    "# Tampilkan hasilnya\n",
    "print(\"\\n--- All Answers ---\\n\")\n",
    "for i, r in enumerate(results, 1):\n",
    "    print(f\"[{i}] {r.strip()}\\n\")"
   ]
  },
  {
   "cell_type": "code",
   "execution_count": 38,
   "id": "8e77c8cd",
   "metadata": {},
   "outputs": [
    {
     "name": "stdout",
     "output_type": "stream",
     "text": [
      " final answer: **Work**\n"
     ]
    }
   ],
   "source": [
    "\n",
    "labels = [r.strip().split()[-1].replace(\".\", \"\") for r in results]\n",
    "most_common = Counter(labels).most_common(1)[0][0]\n",
    "\n",
    "print(\" final answer:\", most_common)\n"
   ]
  },
  {
   "cell_type": "markdown",
   "id": "351c39a4",
   "metadata": {},
   "source": [
    "## Chain Of Thought"
   ]
  },
  {
   "cell_type": "code",
   "execution_count": 29,
   "id": "58991477",
   "metadata": {},
   "outputs": [],
   "source": [
    "def classify_email_with_cot(email_text: str):\n",
    "    cot_prompt = f\"\"\"\n",
    "    You are an email classifier. Think through each step before deciding on the category.\n",
    "\n",
    "    Classify the following email into one of the categories:\n",
    "    - Personal\n",
    "    - Work\n",
    "    - Promotion\n",
    "    - Spam\n",
    "\n",
    "    Email: \"{email_text}\"\n",
    "\n",
    "    Step-by-step reasoning:\n",
    "    1. What is the email about?\n",
    "    2. Who might be sending this kind of email?\n",
    "    3. What is the likely purpose of the email?\n",
    "    4. Based on this reasoning, which category fits best?\n",
    "\n",
    "    Answer:\n",
    "    \"\"\"\n",
    "    return ask(cot_prompt)\n"
   ]
  },
  {
   "cell_type": "code",
   "execution_count": 30,
   "id": "94183e1e",
   "metadata": {},
   "outputs": [
    {
     "name": "stdout",
     "output_type": "stream",
     "text": [
      "1.  The email is about Black Friday deals and discounts.\n",
      "2.  Retail companies or businesses selling products/services are likely to send this type of email.\n",
      "3.  The purpose is to promote sales and attract customers to make purchases.\n",
      "4.  Therefore, the most appropriate category is **Promotion**.\n"
     ]
    }
   ],
   "source": [
    "print(classify_email_with_cot(\"Don't miss our Black Friday deals – up to 80% off!\"))\n"
   ]
  },
  {
   "cell_type": "code",
   "execution_count": 35,
   "id": "24109c24",
   "metadata": {},
   "outputs": [
    {
     "name": "stdout",
     "output_type": "stream",
     "text": [
      "1.  **What is the email about?** The email is a welcome message to new members of the Siloam AI team, providing details about an introductory meeting.\n",
      "\n",
      "2.  **Who might be sending this kind of email?** The email is sent from the recruitment team of a company named PT. BitHealth Teknologi Pintar.\n",
      "\n",
      "3.  **What is the likely purpose of the email?** The purpose is to inform new team members about their welcome meeting and encourage their participation.\n",
      "\n",
      "4.  **Based on this reasoning, which category fits best?** The email is clearly related to onboarding new employees at a company. Therefore, it falls under the **Work** category.\n",
      "\n",
      "Answer: Work\n"
     ]
    }
   ],
   "source": [
    "email = \"\"\"Dear All,\n",
    "\n",
    "We are excited to welcome you to Siloam AI team! Please meet the team:\n",
    "\n",
    "Date: Monday, April 21st 2025\n",
    "Time: 1:30 PM - end\n",
    "Location: online via Gmeet\n",
    "\n",
    "Looking forward to your participation and collaboration. \n",
    "\n",
    "Best regards, \n",
    "Dira\n",
    "Recruitment Team | PT. BitHealth Teknologi Pintar\n",
    "When\n",
    "Monday Apr 21, 2025 ⋅ 1:30pm – 3pm (Western Indonesia Time - Jakarta)\n",
    "Organizer\n",
    "Nurul Undira\"\"\"\n",
    "\n",
    "print(classify_email_with_cot(email))"
   ]
  },
  {
   "cell_type": "markdown",
   "id": "2d4d4b33",
   "metadata": {},
   "source": [
    "## Tree of Thought  *perbaiki"
   ]
  },
  {
   "cell_type": "code",
   "execution_count": 32,
   "id": "c175ebbf",
   "metadata": {},
   "outputs": [],
   "source": [
    "def classify_email_with_tot(email_text: str):\n",
    "    prompt = f\"\"\"\n",
    "You are an intelligent system trained to think through problems in multiple ways.\n",
    "\n",
    "You will explore multiple possible classifications of the email below.\n",
    "Then, you will decide which classification is best.\n",
    "\n",
    "Email: \"{email_text}\"\n",
    "\n",
    "Think of 3 different ways to classify this email:\n",
    "Thought 1:\n",
    "- What is the email about?\n",
    "- Who sent it?\n",
    "- Why was it sent?\n",
    "- What category might fit?\n",
    "\n",
    "Thought 2:\n",
    "- Try an alternate perspective or interpretation.\n",
    "\n",
    "Thought 3:\n",
    "- Consider another possible context or sender.\n",
    "\n",
    "Now compare the three and decide which one makes the most sense.\n",
    "\n",
    "Final decision (only one): Personal, Work, Promotion, or Spam\n",
    "\n",
    "Answer:\n",
    "\"\"\"\n",
    "    return ask(prompt)\n"
   ]
  },
  {
   "cell_type": "code",
   "execution_count": 33,
   "id": "58c8847b",
   "metadata": {},
   "outputs": [
    {
     "name": "stdout",
     "output_type": "stream",
     "text": [
      "Okay, let's analyze this email and classify it.\n",
      "\n",
      "**Thought 1: The Obvious Interpretation**\n",
      "\n",
      "*   **What is the email about?** A package shipment notification.\n",
      "*   **Who sent it?** Likely a retailer or shipping company.\n",
      "*   **Why was it sent?** To inform the recipient that their order has been shipped and provide tracking information.\n",
      "*   **What category might fit?** This leans heavily towards a *Promotion* classification, as it's directly related to a purchase and encourages further engagement (tracking the package, potentially leading to future purchases). It could also be argued as *Personal* because it relates to something that was bought, but the actual content is more transactional.\n",
      "\n",
      "**Thought 2: Alternate Perspective - Security Risk**\n",
      "\n",
      "*   This email could be a phishing attempt. The link might lead to a fake tracking website designed to steal login credentials or install malware. The sender could be a malicious actor impersonating a legitimate company. In this case, the email would be classified as *Spam*.\n",
      "\n",
      "**Thought 3: Considering a Work Context**\n",
      "\n",
      "*   Perhaps the recipient uses their email for work-related purchases. They might have ordered office supplies or equipment. If this is the case, and the context is known, it could be *Work*. However, without that context, this is unlikely.\n",
      "\n",
      "**Comparison and Final Decision**\n",
      "\n",
      "While the *Spam* classification is possible due to potential phishing, it's less likely without further investigation (checking the sender's address, hovering over the link without clicking, etc.). The *Work* classification is also possible but requires specific context we don't have. The most straightforward and probable interpretation is that this is a shipping notification related to an online purchase. Therefore, the best classification is:\n",
      "\n",
      "**Final decision: Promotion**\n"
     ]
    }
   ],
   "source": [
    "email = \"Your package has shipped! Track your order here.\"\n",
    "print(classify_email_with_tot(email))\n"
   ]
  },
  {
   "cell_type": "code",
   "execution_count": 34,
   "id": "3697800f",
   "metadata": {},
   "outputs": [
    {
     "name": "stdout",
     "output_type": "stream",
     "text": [
      "Okay, let's analyze this email and classify it.\n",
      "\n",
      "**Thought 1: Direct Interpretation**\n",
      "\n",
      "*   **What is the email about?** It's an invitation to meet the Siloam AI team.\n",
      "*   **Who sent it?** Dira from the Recruitment Team at PT. BitHealth Teknologi Pintar.\n",
      "*   **Why was it sent?** To welcome new members to the team and introduce them.\n",
      "*   **What category might fit?** This seems like a **Work** related email. It's internal communication within a company to onboard new employees.\n",
      "\n",
      "**Thought 2: Alternate Perspective**\n",
      "\n",
      "*   Perhaps it is a recruitment email. While it does not explicitly offer a job, it is welcoming someone to the team. This could be considered a **Promotion** of the company and its AI team, to encourage the recipient to accept a position or engage further.\n",
      "\n",
      "**Thought 3: Considering Another Context**\n",
      "\n",
      "*   What if the recipient didn't apply for a job at Siloam AI? If the recipient did not apply, the email could be unsolicited. In this case, it could be considered **Spam**. However, the content does not seem overtly malicious or promotional, just misplaced.\n",
      "\n",
      "**Comparison and Final Decision:**\n",
      "\n",
      "While the email *could* be misinterpreted as spam if sent to the wrong person, the most logical and likely scenario is that it's an internal communication related to onboarding a new team member. Therefore, the best classification is **Work**.\n"
     ]
    }
   ],
   "source": [
    "email = \"\"\"Dear All,\n",
    "\n",
    "We are excited to welcome you to Siloam AI team! Please meet the team:\n",
    "\n",
    "Date: Monday, April 21st 2025\n",
    "Time: 1:30 PM - end\n",
    "Location: online via Gmeet\n",
    "\n",
    "Looking forward to your participation and collaboration. \n",
    "\n",
    "Best regards, \n",
    "Dira\n",
    "Recruitment Team | PT. BitHealth Teknologi Pintar\n",
    "When\n",
    "Monday Apr 21, 2025 ⋅ 1:30pm – 3pm (Western Indonesia Time - Jakarta)\n",
    "Organizer\n",
    "Nurul Undira\"\"\"\n",
    "\n",
    "print(classify_email_with_tot(email))\n"
   ]
  },
  {
   "cell_type": "markdown",
   "id": "4d6466fa",
   "metadata": {},
   "source": [
    "## Automatic Prompt Engineer"
   ]
  },
  {
   "cell_type": "code",
   "execution_count": 63,
   "id": "51bf9e75",
   "metadata": {},
   "outputs": [],
   "source": [
    "email = \"\"\"Dear All,\n",
    "\n",
    "We are excited to welcome you to Siloam AI team! Please meet the team:\n",
    "\n",
    "Date: Monday, April 21st 2025\n",
    "Time: 1:30 PM - end\n",
    "Location: online via Gmeet\n",
    "\n",
    "Looking forward to your participation and collaboration. \n",
    "\n",
    "Best regards, \n",
    "Dira\n",
    "Recruitment Team | PT. BitHealth Teknologi Pintar\n",
    "When\n",
    "Monday Apr 21, 2025 ⋅ 1:30pm – 3pm (Western Indonesia Time - Jakarta)\n",
    "Organizer\n",
    "Nurul Undira\"\"\""
   ]
  },
  {
   "cell_type": "code",
   "execution_count": null,
   "id": "ee371720",
   "metadata": {},
   "outputs": [],
   "source": [
    "def generate_prompt_candidates(n=3):\n",
    "    prompt = f\"\"\"\n",
    "You are an expert prompt engineer.\n",
    "\n",
    "Task: Create {n} different prompts to classify an email into one of the following categories:\n",
    "- Personal\n",
    "- Work\n",
    "- Promotion\n",
    "- Spam\n",
    "\n",
    "Each prompt should guide the model to think before answering, include instructions if needed, and allow classification of complex real-world emails.\n",
    "\n",
    "Use \"{{email}}\" as placeholder for the input email.\n",
    "\n",
    "Format:\n",
    "PROMPT 1: ...\n",
    "PROMPT 2: ...\n",
    "PROMPT 3: ...\n",
    "\"\"\"\n",
    "    return ask(prompt)\n",
    "\n"
   ]
  },
  {
   "cell_type": "code",
   "execution_count": 67,
   "id": "045c734f",
   "metadata": {},
   "outputs": [],
   "source": [
    "# 3. Ekstrak prompt individual dari teks yang dihasilkan\n",
    "def extract_prompts(candidates_text, n=3):\n",
    "    prompt_list = []\n",
    "    for i in range(1, n + 1):\n",
    "        start = f\"PROMPT {i}:\"\n",
    "        end = f\"PROMPT {i+1}:\" if i < n else None\n",
    "        section = candidates_text.split(start)[1]\n",
    "        prompt = section.split(end)[0].strip() if end else section.strip()\n",
    "        prompt_list.append(prompt)\n",
    "    return prompt_list"
   ]
  },
  {
   "cell_type": "code",
   "execution_count": 68,
   "id": "fdd87bd1",
   "metadata": {},
   "outputs": [],
   "source": [
    "# 4. Evaluasi prompt terhadap email\n",
    "def evaluate_prompts(prompt_list, test_email):\n",
    "    results = []\n",
    "    for i, prompt_template in enumerate(prompt_list, 1):\n",
    "        filled_prompt = prompt_template.replace(\"{email}\", test_email)\n",
    "        print(f\"\\n================= PROMPT {i} =================\\n{prompt_template}\")\n",
    "        print(f\"\\n➡️ Filled Prompt:\\n{filled_prompt}\")\n",
    "\n",
    "        output = ask(filled_prompt)\n",
    "        print(f\"\\n🧠 Model Output:\\n{output.strip()}\")\n",
    "        results.append((f\"PROMPT {i}\", output.strip()))\n",
    "    return results"
   ]
  },
  {
   "cell_type": "code",
   "execution_count": 69,
   "id": "8032cefc",
   "metadata": {},
   "outputs": [],
   "source": [
    "# 5. Analisis hasil dengan voting label terbanyak\n",
    "def analyze_results(results):\n",
    "    labels = [r[1].split()[-1].replace(\".\", \"\") for r in results]\n",
    "    most_common = Counter(labels).most_common(1)[0]\n",
    "    return most_common, labels"
   ]
  },
  {
   "cell_type": "code",
   "execution_count": 70,
   "id": "0cd9682b",
   "metadata": {},
   "outputs": [
    {
     "name": "stdout",
     "output_type": "stream",
     "text": [
      "\n",
      "================= PROMPT 1 =================\n",
      "**\n",
      "\n",
      "First, analyze the email provided below and identify key indicators such as sender, recipient, subject line, keywords, and the overall tone. Consider the context: Is this email from a known contact? Does it relate to your professional responsibilities? Does it advertise a product or service? Does it contain suspicious links or requests? Classify the email into one of the following categories: Personal, Work, Promotion, or Spam. Justify your classification with specific reasons based on your analysis.\n",
      "\n",
      "Email: {email}\n",
      "\n",
      "Classification (choose one): Personal, Work, Promotion, Spam\n",
      "Justification:\n",
      "**\n",
      "\n",
      "➡️ Filled Prompt:\n",
      "**\n",
      "\n",
      "First, analyze the email provided below and identify key indicators such as sender, recipient, subject line, keywords, and the overall tone. Consider the context: Is this email from a known contact? Does it relate to your professional responsibilities? Does it advertise a product or service? Does it contain suspicious links or requests? Classify the email into one of the following categories: Personal, Work, Promotion, or Spam. Justify your classification with specific reasons based on your analysis.\n",
      "\n",
      "Email: Dear All,\n",
      "\n",
      "We are excited to welcome you to Siloam AI team! Please meet the team:\n",
      "\n",
      "Date: Monday, April 21st 2025\n",
      "Time: 1:30 PM - end\n",
      "Location: online via Gmeet\n",
      "\n",
      "Looking forward to your participation and collaboration. \n",
      "\n",
      "Best regards, \n",
      "Dira\n",
      "Recruitment Team | PT. BitHealth Teknologi Pintar\n",
      "When\n",
      "Monday Apr 21, 2025 ⋅ 1:30pm – 3pm (Western Indonesia Time - Jakarta)\n",
      "Organizer\n",
      "Nurul Undira\n",
      "\n",
      "Classification (choose one): Personal, Work, Promotion, Spam\n",
      "Justification:\n",
      "**\n",
      "\n",
      "🧠 Model Output:\n",
      "**Classification:** Work\n",
      "\n",
      "**Justification:**\n",
      "\n",
      "*   **Sender:** Dira, from the Recruitment Team at PT. BitHealth Teknologi Pintar. This suggests a formal, work-related communication.\n",
      "*   **Recipient:** \"Dear All\" indicates a group email, typical in a professional setting.\n",
      "*   **Subject:** While not explicitly stated, the content clearly implies a welcome to the Siloam AI team, indicating a new job or team assignment.\n",
      "*   **Keywords:** \"Siloam AI team,\" \"Recruitment Team,\" \"PT. BitHealth Teknologi Pintar,\" \"participation,\" \"collaboration,\" \"Gmeet\" all point to a professional context.\n",
      "*   **Overall Tone:** The tone is formal and welcoming, typical of a communication from a recruitment team.\n",
      "*   **Context:** The email outlines a meeting date, time, and location, which are standard details for onboarding or team introductions in a professional environment.\n",
      "*   **Absence of Suspicious Elements:** The email doesn't contain any suspicious links or requests for sensitive information. It provides concrete details about a meeting.\n",
      "*   **Relates to Professional Responsibilities:** The email directly relates to potential work responsibilities within the Siloam AI team.\n",
      "\n",
      "================= PROMPT 2 =================\n",
      "**\n",
      "\n",
      "You are an AI email classifier designed to categorize emails with high accuracy. Before providing a final classification, consider the following questions:\n",
      "\n",
      "1.  **Sender Analysis:** Who is the sender? Is the sender known, unknown, or potentially malicious?\n",
      "2.  **Content Analysis:** What is the primary purpose of the email? Is it a personal communication, a work-related request, an advertisement, or something else?\n",
      "3.  **Subject Line Analysis:** Is the subject line relevant to the content? Is it misleading or suspicious?\n",
      "4.  **Call to Action Analysis:** Does the email contain a call to action? If so, what is it and is it legitimate?\n",
      "5.  **Link Analysis:** Does the email contain any links? If so, where do they lead and are they trustworthy?\n",
      "6.  **Tone Analysis:** What is the tone of the email? Is it formal, informal, urgent, or suspicious?\n",
      "\n",
      "Based on your answers to these questions, classify the following email as either Personal, Work, Promotion, or Spam. Explain your choice.\n",
      "\n",
      "Email: {email}\n",
      "\n",
      "Classification (choose one): Personal, Work, Promotion, Spam\n",
      "Explanation:\n",
      "**\n",
      "\n",
      "➡️ Filled Prompt:\n",
      "**\n",
      "\n",
      "You are an AI email classifier designed to categorize emails with high accuracy. Before providing a final classification, consider the following questions:\n",
      "\n",
      "1.  **Sender Analysis:** Who is the sender? Is the sender known, unknown, or potentially malicious?\n",
      "2.  **Content Analysis:** What is the primary purpose of the email? Is it a personal communication, a work-related request, an advertisement, or something else?\n",
      "3.  **Subject Line Analysis:** Is the subject line relevant to the content? Is it misleading or suspicious?\n",
      "4.  **Call to Action Analysis:** Does the email contain a call to action? If so, what is it and is it legitimate?\n",
      "5.  **Link Analysis:** Does the email contain any links? If so, where do they lead and are they trustworthy?\n",
      "6.  **Tone Analysis:** What is the tone of the email? Is it formal, informal, urgent, or suspicious?\n",
      "\n",
      "Based on your answers to these questions, classify the following email as either Personal, Work, Promotion, or Spam. Explain your choice.\n",
      "\n",
      "Email: Dear All,\n",
      "\n",
      "We are excited to welcome you to Siloam AI team! Please meet the team:\n",
      "\n",
      "Date: Monday, April 21st 2025\n",
      "Time: 1:30 PM - end\n",
      "Location: online via Gmeet\n",
      "\n",
      "Looking forward to your participation and collaboration. \n",
      "\n",
      "Best regards, \n",
      "Dira\n",
      "Recruitment Team | PT. BitHealth Teknologi Pintar\n",
      "When\n",
      "Monday Apr 21, 2025 ⋅ 1:30pm – 3pm (Western Indonesia Time - Jakarta)\n",
      "Organizer\n",
      "Nurul Undira\n",
      "\n",
      "Classification (choose one): Personal, Work, Promotion, Spam\n",
      "Explanation:\n",
      "**\n",
      "\n",
      "🧠 Model Output:\n",
      "**Classification:** Work\n",
      "\n",
      "**Explanation:**\n",
      "\n",
      "Here's a breakdown of the analysis based on the questions provided:\n",
      "\n",
      "1.  **Sender Analysis:** The sender is \"Dira Recruitment Team | PT. BitHealth Teknologi Pintar\". This identifies a company and a specific team within it, suggesting a professional context. The organizer is Nurul Undira, which aligns with the stated sender.\n",
      "\n",
      "2.  **Content Analysis:** The primary purpose of the email is to welcome the recipient to the Siloam AI team and invite them to a meeting to meet the team. This strongly indicates a work-related communication.\n",
      "\n",
      "3.  **Subject Line Analysis:** While the subject line isn't provided in the prompt, we can infer it is likely something along the lines of \"Welcome to Siloam AI Team\" or \"Siloam AI Team Introduction Meeting\". Such a subject line would be relevant to the content.\n",
      "\n",
      "4.  **Call to Action Analysis:** The email contains a call to action: \"Looking forward to your participation and collaboration.\" This is a standard expectation in a work environment. The invitation to the meeting is also a form of call to action.\n",
      "\n",
      "5.  **Link Analysis:** The email mentions \"online via Gmeet,\" suggesting a Google Meet link would likely be provided in the actual email (though not explicitly shown in the provided snippet). If present, a Gmeet link from a known sender is usually trustworthy.\n",
      "\n",
      "6.  **Tone Analysis:** The tone is formal and welcoming, appropriate for introducing a new team member.\n",
      "\n",
      "Given all these points, the email is clearly a work-related communication. It welcomes the recipient to a new team, invites them to a meeting, and expresses anticipation for their participation. Therefore, \"Work\" is the most appropriate classification.\n",
      "\n",
      "================= PROMPT 3 =================\n",
      "**\n",
      "\n",
      "Imagine you are a highly skilled email assistant tasked with organizing a user's inbox. Your goal is to categorize each email accurately to optimize the user's workflow. Consider the following rules:\n",
      "\n",
      "*   **Personal:** Emails from friends, family, or personal contacts.\n",
      "*   **Work:** Emails related to professional responsibilities, projects, or colleagues.\n",
      "*   **Promotion:** Emails advertising products, services, or events.\n",
      "*   **Spam:** Unsolicited or malicious emails, often containing suspicious links or requests.\n",
      "\n",
      "Carefully analyze the email below, paying attention to the sender, subject, content, and any links or attachments. If an email contains elements of multiple categories, prioritize based on the primary intent. For example, a work email with a promotional element would still be classified as 'Work'. Provide the classification and a concise explanation of your reasoning.\n",
      "\n",
      "Email: {email}\n",
      "\n",
      "Classification (choose one): Personal, Work, Promotion, Spam\n",
      "Reasoning:\n",
      "\n",
      "➡️ Filled Prompt:\n",
      "**\n",
      "\n",
      "Imagine you are a highly skilled email assistant tasked with organizing a user's inbox. Your goal is to categorize each email accurately to optimize the user's workflow. Consider the following rules:\n",
      "\n",
      "*   **Personal:** Emails from friends, family, or personal contacts.\n",
      "*   **Work:** Emails related to professional responsibilities, projects, or colleagues.\n",
      "*   **Promotion:** Emails advertising products, services, or events.\n",
      "*   **Spam:** Unsolicited or malicious emails, often containing suspicious links or requests.\n",
      "\n",
      "Carefully analyze the email below, paying attention to the sender, subject, content, and any links or attachments. If an email contains elements of multiple categories, prioritize based on the primary intent. For example, a work email with a promotional element would still be classified as 'Work'. Provide the classification and a concise explanation of your reasoning.\n",
      "\n",
      "Email: Dear All,\n",
      "\n",
      "We are excited to welcome you to Siloam AI team! Please meet the team:\n",
      "\n",
      "Date: Monday, April 21st 2025\n",
      "Time: 1:30 PM - end\n",
      "Location: online via Gmeet\n",
      "\n",
      "Looking forward to your participation and collaboration. \n",
      "\n",
      "Best regards, \n",
      "Dira\n",
      "Recruitment Team | PT. BitHealth Teknologi Pintar\n",
      "When\n",
      "Monday Apr 21, 2025 ⋅ 1:30pm – 3pm (Western Indonesia Time - Jakarta)\n",
      "Organizer\n",
      "Nurul Undira\n",
      "\n",
      "Classification (choose one): Personal, Work, Promotion, Spam\n",
      "Reasoning:\n",
      "\n",
      "🧠 Model Output:\n",
      "**Classification:** Work\n",
      "**Reasoning:** The email is from a recruitment team at a company (PT. BitHealth Teknologi Pintar) and welcomes recipients to an AI team. It includes meeting details, indicating it's related to onboarding or work-related introduction. Therefore, it falls under the \"Work\" category.\n",
      "\n",
      "✅ Most consistent label: team (1 votes)\n"
     ]
    }
   ],
   "source": [
    "# Step A: Generate prompt candidates\n",
    "candidate_text = generate_prompt_candidates(n=3)\n",
    "\n",
    "# Step B: Parse jadi list of prompt strings\n",
    "prompt_list = extract_prompts(candidate_text)\n",
    "\n",
    "# Step C: Uji semua prompt ke email Siloam\n",
    "results = evaluate_prompts(prompt_list, email)\n",
    "\n",
    "# Step D: Ambil label terbanyak\n",
    "most_common_label, all_labels = analyze_results(results)\n",
    "\n",
    "print(f\"\\n✅ Most consistent label: {most_common_label[0]} ({most_common_label[1]} votes)\")\n"
   ]
  },
  {
   "cell_type": "markdown",
   "id": "939d59cd",
   "metadata": {},
   "source": [
    "## Program-Aided Language Models"
   ]
  },
  {
   "cell_type": "code",
   "execution_count": null,
   "id": "ce767ca2",
   "metadata": {},
   "outputs": [],
   "source": [
    "prompt = \"\"\"\n",
    "You are a Python expert.\n",
    "\n",
    "Write a Python function called `solve()` that calculates the kinetic energy\n",
    "of an object with mass = 75 kg and velocity = 20 m/s.\n",
    "\n",
    "Use the formula: Ek = 0.5 * mass * velocity^2\n",
    "\n",
    "Just output the function code.\n",
    "\"\"\""
   ]
  },
  {
   "cell_type": "code",
   "execution_count": 78,
   "id": "2935186e",
   "metadata": {},
   "outputs": [
    {
     "name": "stdout",
     "output_type": "stream",
     "text": [
      "🧠 Generated Code:\n",
      "\n",
      "```python\n",
      "def solve():\n",
      "    \"\"\"Calculates the kinetic energy of an object.\n",
      "\n",
      "    Returns:\n",
      "        float: The kinetic energy of the object in Joules.\n",
      "    \"\"\"\n",
      "    mass = 75  # kg\n",
      "    velocity = 20  # m/s\n",
      "    kinetic_energy = 0.5 * mass * (velocity ** 2)\n",
      "    return kinetic_energy\n",
      "```\n"
     ]
    }
   ],
   "source": [
    "generated_code = ask(prompt)\n",
    "\n",
    "print(\"🧠 Generated Code:\\n\")\n",
    "print(generated_code)\n",
    "\n"
   ]
  },
  {
   "cell_type": "code",
   "execution_count": 79,
   "id": "591d193b",
   "metadata": {},
   "outputs": [],
   "source": [
    "def solve():\n",
    "    \"\"\"Calculates the kinetic energy of an object.\n",
    "\n",
    "    Returns:\n",
    "        float: The kinetic energy of the object in Joules.\n",
    "    \"\"\"\n",
    "    mass = 75  # kg\n",
    "    velocity = 20  # m/s\n",
    "    kinetic_energy = 0.5 * mass * (velocity ** 2)\n",
    "    return kinetic_energy"
   ]
  },
  {
   "cell_type": "code",
   "execution_count": 81,
   "id": "7f0d1c4c",
   "metadata": {},
   "outputs": [
    {
     "name": "stdout",
     "output_type": "stream",
     "text": [
      "\n",
      "✅ Kinetic Energy: 15000.0 Joules\n"
     ]
    }
   ],
   "source": [
    "hasil = solve()\n",
    "print(f\"\\n✅ Kinetic Energy: {hasil} Joules\")"
   ]
  },
  {
   "cell_type": "markdown",
   "id": "ed1b2acf",
   "metadata": {},
   "source": [
    "## Multimodal COT"
   ]
  },
  {
   "cell_type": "code",
   "execution_count": 2,
   "id": "f987b945",
   "metadata": {},
   "outputs": [],
   "source": [
    "import base64\n",
    "\n",
    "# Path ke gambar lokal\n",
    "image_path = r\"C:\\Users\\Fadhil Wicaksono\\Documents\\Training\\Prompting-Langchain\\Sepatu.png\"\n",
    "\n",
    "# Encode gambar jadi base64\n",
    "def encode_image(filepath):\n",
    "    with open(filepath, \"rb\") as f:\n",
    "        return base64.b64encode(f.read()).decode(\"utf-8\")\n",
    "\n",
    "image_data = encode_image(image_path)\n"
   ]
  },
  {
   "cell_type": "code",
   "execution_count": 7,
   "id": "19d23e7a",
   "metadata": {},
   "outputs": [],
   "source": [
    "def ask_multimodal(text_prompt: str, image_base64: str):\n",
    "    messages = [\n",
    "        HumanMessage(\n",
    "            content=[\n",
    "                {\"type\": \"text\", \"text\": text_prompt},\n",
    "                {\"type\": \"image_url\", \"image_url\": {\"url\": f\"data:image/png;base64,{image_base64}\"}},\n",
    "            ]\n",
    "        )\n",
    "    ]\n",
    "    return llm.invoke(messages).content\n"
   ]
  },
  {
   "cell_type": "code",
   "execution_count": 10,
   "id": "78ff1789",
   "metadata": {},
   "outputs": [
    {
     "name": "stdout",
     "output_type": "stream",
     "text": [
      "Mari kita bahas tentang sepatu Hoka untuk trail run di Merbabu (kurang lebih 3000 mdpl):\n",
      "\n",
      "*   **Apakah Sepatu Hoka Bagus untuk Trail Run di Merbabu?**\n",
      "\n",
      "    Secara umum, sepatu Hoka bisa menjadi pilihan yang baik untuk trail run, terutama karena bantalan (cushioning) yang tebal dan nyaman. Namun, apakah sepatu *ini* cocok untuk Merbabu, itu tergantung pada beberapa faktor:\n",
      "\n",
      "    *   **Jenis Medan:** Merbabu memiliki medan yang bervariasi, mulai dari tanah, bebatuan, hingga akar pohon. Sepatu dengan *grip* (cengkraman) yang baik sangat penting. Perhatikan solnya. Apakah pola *lug* (tonjolan pada sol) cukup dalam dan agresif? Jika tidak, sepatu ini mungkin kurang ideal untuk medan yang licin atau curam.\n",
      "    *   **Kondisi Fisik dan Pengalaman:** Jika Anda terbiasa dengan sepatu minimalis atau memiliki kaki yang kuat, Anda mungkin tidak memerlukan bantalan setebal Hoka. Namun, jika Anda mencari kenyamanan dan perlindungan ekstra, Hoka bisa menjadi pilihan yang baik.\n",
      "    *   **Kondisi Cuaca:** Jika cuaca buruk (hujan, lumpur), sepatu dengan *waterproof* (tahan air) mungkin lebih baik. Sepatu yang terlihat di gambar sepertinya tidak *waterproof*.\n",
      "\n",
      "*   **Jenis Sepatu Hoka yang Digambar:**\n",
      "\n",
      "    Dari gambar, sulit untuk menentukan model Hoka secara pasti. Namun, ciri-ciri seperti sol yang tebal dan desainnya menunjukkan bahwa ini adalah sepatu trail running. Mungkin model seperti:\n",
      "\n",
      "    *   **Hoka Speedgoat:** Ini adalah salah satu model Hoka yang paling populer untuk trail running. Dikenal karena *grip* yang baik dan bantalan yang nyaman.\n",
      "    *   **Hoka Challenger ATR:** Model ini lebih serbaguna, bisa digunakan untuk trail dan jalan raya. Namun, *grip*-nya mungkin tidak seagresif Speedgoat.\n",
      "    *   **Hoka Torrent:** Model yang lebih ringan dan responsif, cocok untuk pelari yang mencari kecepatan.\n",
      "\n",
      "**Rekomendasi:**\n",
      "\n",
      "1.  **Cari Tahu Model Pastinya:** Jika memungkinkan, cari tahu model sepatu Hoka ini secara pasti. Ini akan membantu Anda menemukan ulasan dan spesifikasi yang lebih detail.\n",
      "2.  **Perhatikan Grip Sol:** Periksa dengan teliti pola *lug* pada sol. Pastikan cukup dalam dan agresif untuk mencengkeram berbagai jenis medan.\n",
      "3.  **Pertimbangkan Kondisi Cuaca:** Jika Anda sering trail run saat hujan, pertimbangkan sepatu *waterproof*.\n",
      "4.  **Coba Terlebih Dahulu:** Sebaiknya coba sepatu ini terlebih dahulu sebelum digunakan untuk trail run di Merbabu. Ini akan membantu Anda memastikan ukurannya pas dan nyaman.\n",
      "\n",
      "**Alternatif:**\n",
      "\n",
      "Jika Anda ragu dengan Hoka ini, ada banyak merek sepatu trail running lain yang bagus, seperti Salomon, Saucony, Altra, dan La Sportiva.\n",
      "\n",
      "Semoga informasi ini membantu!\n"
     ]
    }
   ],
   "source": [
    "multimodal_prompt = (\n",
    "    \"Bagus engga ini buat naik gunung merbabu untuk trail run kurang lebih 3000 mdpl, dan jenis sepatu apa yang digambar hokanya ? \"\n",
    ")\n",
    "\n",
    "result = ask_multimodal(multimodal_prompt, image_data)\n",
    "print(result)"
   ]
  }
 ],
 "metadata": {
  "kernelspec": {
   "display_name": "Python 3",
   "language": "python",
   "name": "python3"
  },
  "language_info": {
   "codemirror_mode": {
    "name": "ipython",
    "version": 3
   },
   "file_extension": ".py",
   "mimetype": "text/x-python",
   "name": "python",
   "nbconvert_exporter": "python",
   "pygments_lexer": "ipython3",
   "version": "3.11.0"
  }
 },
 "nbformat": 4,
 "nbformat_minor": 5
}
