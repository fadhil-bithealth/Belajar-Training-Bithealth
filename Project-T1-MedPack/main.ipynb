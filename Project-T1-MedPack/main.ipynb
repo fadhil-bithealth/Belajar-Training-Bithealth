{
 "cells": [
  {
   "cell_type": "code",
   "execution_count": 5,
   "id": "503e5406",
   "metadata": {},
   "outputs": [
    {
     "name": "stdout",
     "output_type": "stream",
     "text": [
      "{'is_anomaly': False, 'batch_and_expiry_image': [0, 2], 'quantity_detection_images': [0], 'item_name': 'Vancomycin HCl Serbuk Injeksi I.V. 500 mg'}\n"
     ]
    }
   ],
   "source": [
    "from PIL import Image\n",
    "from app.graph import build_graph\n",
    "import base64\n",
    "import io\n",
    "\n",
    "# Convert PIL images to LangChain image format\n",
    "def convert_images(images):\n",
    "    image_inputs = []\n",
    "    for img in images:\n",
    "        buf = io.BytesIO()\n",
    "        img.save(buf, format=\"JPEG\")\n",
    "        base64_img = base64.b64encode(buf.getvalue()).decode()\n",
    "        image_inputs.append({\n",
    "            \"type\": \"image_url\",\n",
    "            \"image_url\": {\"url\": f\"data:image/jpeg;base64,{base64_img}\"}\n",
    "        })\n",
    "    return image_inputs\n",
    "\n",
    "# Load and convert images\n",
    "images = [\n",
    "    Image.open(\"Dataset/82a.JPG\"),\n",
    "    Image.open(\"Dataset/82b.JPG\"),\n",
    "    Image.open(\"Dataset/82c.JPG\")\n",
    "]\n",
    "\n",
    "graph = build_graph()\n",
    "inputs = {\"images\": convert_images(images)}\n",
    "result = graph.invoke(inputs)\n",
    "\n",
    "# Output\n",
    "print(result[\"final_output\"].model_dump())\n"
   ]
  },
  {
   "cell_type": "code",
   "execution_count": 6,
   "id": "cff64148",
   "metadata": {},
   "outputs": [
    {
     "data": {
      "text/plain": [
       "dict"
      ]
     },
     "execution_count": 6,
     "metadata": {},
     "output_type": "execute_result"
    }
   ],
   "source": [
    "type(result[\"final_output\"].model_dump())"
   ]
  }
 ],
 "metadata": {
  "kernelspec": {
   "display_name": "Python (MedPack)",
   "language": "python",
   "name": "venv-medpack"
  },
  "language_info": {
   "codemirror_mode": {
    "name": "ipython",
    "version": 3
   },
   "file_extension": ".py",
   "mimetype": "text/x-python",
   "name": "python",
   "nbconvert_exporter": "python",
   "pygments_lexer": "ipython3",
   "version": "3.11.0rc2"
  }
 },
 "nbformat": 4,
 "nbformat_minor": 5
}
