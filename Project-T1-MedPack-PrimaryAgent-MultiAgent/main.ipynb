{
 "cells": [
  {
   "cell_type": "code",
   "execution_count": 1,
   "id": "dfdb7314",
   "metadata": {},
   "outputs": [
    {
     "name": "stdout",
     "output_type": "stream",
     "text": [
      "Detection Result: {'batch_and_expiry_image': [2], 'quantity_detection_images': [0, 1, 2], 'item_name': 'NARFOZ Ondansetron HCl dihydrate 8 mg / 4 ml'}\n",
      "Batch and Expiry Result: {'batch_number': 'D4H527GA', 'expiry_date': 'AUG 27'}\n",
      "Quantity Result: 14\n",
      "Final Output: {'item_name': 'NARFOZ Ondansetron HCl dihydrate 8 mg / 4 ml', 'quantity': 14, 'batch_number': 'D4H527GA', 'expiry_date': 'AUG 27'}\n"
     ]
    }
   ],
   "source": [
    "from dotenv import load_dotenv\n",
    "import os\n",
    "load_dotenv()\n",
    "LANGSMITH_API_KEY = os.getenv(\"LANGSMITH_API_KEY\")\n",
    "LANGSMITH_TRACING = os.getenv(\"LANGSMITH_TRACING\")\n",
    "# main.ipynb\n",
    "from app.pipeline import run_pipeline\n",
    "from PIL import Image\n",
    "import json\n",
    "\n",
    "images = [\n",
    "    Image.open(\"Dataset/66a.JPG\"),\n",
    "    Image.open(\"Dataset/66b.JPG\"),\n",
    "    Image.open(\"Dataset/66c.JPG\")\n",
    "]\n",
    "\n",
    "output = run_pipeline(images)\n",
    "\n",
    "\n"
   ]
  },
  {
   "cell_type": "code",
   "execution_count": 2,
   "id": "ab2c5f60",
   "metadata": {},
   "outputs": [
    {
     "data": {
      "text/plain": [
       "dict"
      ]
     },
     "execution_count": 2,
     "metadata": {},
     "output_type": "execute_result"
    }
   ],
   "source": [
    "type(output)"
   ]
  },
  {
   "cell_type": "code",
   "execution_count": 3,
   "id": "47b77677",
   "metadata": {},
   "outputs": [
    {
     "data": {
      "text/plain": [
       "{'item_name': 'NARFOZ Ondansetron HCl dihydrate 8 mg / 4 ml',\n",
       " 'quantity': 14,\n",
       " 'batch_number': 'D4H527GA',\n",
       " 'expiry_date': 'AUG 27'}"
      ]
     },
     "execution_count": 3,
     "metadata": {},
     "output_type": "execute_result"
    }
   ],
   "source": [
    "output"
   ]
  }
 ],
 "metadata": {
  "kernelspec": {
   "display_name": "venv",
   "language": "python",
   "name": "python3"
  },
  "language_info": {
   "codemirror_mode": {
    "name": "ipython",
    "version": 3
   },
   "file_extension": ".py",
   "mimetype": "text/x-python",
   "name": "python",
   "nbconvert_exporter": "python",
   "pygments_lexer": "ipython3",
   "version": "3.11.0rc2"
  }
 },
 "nbformat": 4,
 "nbformat_minor": 5
}
